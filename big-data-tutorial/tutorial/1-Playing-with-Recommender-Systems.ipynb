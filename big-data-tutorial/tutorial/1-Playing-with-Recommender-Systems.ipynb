{
 "metadata": {
  "name": ""
 },
 "nbformat": 3,
 "nbformat_minor": 0,
 "worksheets": [
  {
   "cells": [
    {
     "cell_type": "markdown",
     "metadata": {},
     "source": [
      "# How to Build a Minimal Recommendation System  (1 hr)"
     ]
    },
    {
     "cell_type": "markdown",
     "metadata": {},
     "source": [
      "## The recommendation problem\n",
      "\n",
      "Recommenders have been around since at least 1992. Today we see different flavours of recommenders, deployed across different verticals: \n",
      "\n",
      "- Amazon\n",
      "- Netflix\n",
      "- Facebook\n",
      "- Last.fm.\n",
      "\n",
      "What exactly do they do?\n",
      "\n",
      "### Definitions from the literature\n",
      "\n",
      "*In a typical recommender system people provide recommendations as inputs, which\n",
      "the system then aggregates and directs to appropriate recipients.* -- Resnick\n",
      "and Varian, 1997\n",
      "\n",
      "*Collaborative filtering simply means that people collaborate to help one\n",
      "another perform filtering by recording their reactions to documents they read.*\n",
      "-- Goldberg et al, 1992\n",
      "\n",
      "*In its most common formulation, the recommendation problem is reduced to the\n",
      "problem of estimating ratings for the items that have not been seen by a\n",
      "user. Intuitively, this estimation is usually based on the ratings given by this\n",
      "user to other items and on some other information [...] Once we can estimate\n",
      "ratings for the yet unrated items, we can recommend to the user the item(s) with\n",
      "the highest estimated rating(s).* -- Adomavicius and Tuzhilin, 2005\n",
      "\n",
      "*Driven by computer algorithms, recommenders help consumers\n",
      "by selecting products they will probably like and might buy\n",
      "based on their browsing, searches, purchases, and preferences.* -- Konstan and Riedl, 2012"
     ]
    },
    {
     "cell_type": "markdown",
     "metadata": {},
     "source": [
      "### Notation\n",
      "\n",
      "- $U$ is the set of users in our domain. Its size is $|U|$.\n",
      "- $I$ is the set of items in our domain. Its size is $|I|$.\n",
      "- $I(u)$ is the set of items that user $u$ has rated.\n",
      "- $-I(u)$ is the complement of $I(u)$ i.e., the set of items not yet seen by user $u$.\n",
      "- $U(i)$ is the set of users that have rated item $i$.\n",
      "- $-U(i)$ is the complement of $U(i)$."
     ]
    },
    {
     "cell_type": "markdown",
     "metadata": {},
     "source": [
      "### Goal of a recommendation system\n",
      "\n",
      "$$ \n",
      "\\newcommand{\\argmax}{\\mathop{\\rm argmax}\\nolimits}\n",
      "\\forall{u \\in U},\\; i^* = \\argmax_{i \\in -I(u)} [S(u,i)] \n",
      "$$"
     ]
    },
    {
     "cell_type": "markdown",
     "metadata": {},
     "source": [
      "### Problem statement\n",
      "\n",
      "The recommendation problem in its most basic form is quite simple to define:\n",
      "\n",
      "```\n",
      "|-------------------+-----+-----+-----+-----+-----|\n",
      "| user_id, movie_id | m_1 | m_2 | m_3 | m_4 | m_5 |\n",
      "|-------------------+-----+-----+-----+-----+-----|\n",
      "| u_1               | ?   | ?   | 4   | ?   | 1   |\n",
      "|-------------------+-----+-----+-----+-----+-----|\n",
      "| u_2               | 3   | ?   | ?   | 2   | 2   |\n",
      "|-------------------+-----+-----+-----+-----+-----|\n",
      "| u_3               | 3   | ?   | ?   | ?   | ?   |\n",
      "|-------------------+-----+-----+-----+-----+-----|\n",
      "| u_4               | ?   | 1   | 2   | 1   | 1   |\n",
      "|-------------------+-----+-----+-----+-----+-----|\n",
      "| u_5               | ?   | ?   | ?   | ?   | ?   |\n",
      "|-------------------+-----+-----+-----+-----+-----|\n",
      "| u_6               | 2   | ?   | 2   | ?   | ?   |\n",
      "|-------------------+-----+-----+-----+-----+-----|\n",
      "| u_7               | ?   | ?   | ?   | ?   | ?   |\n",
      "|-------------------+-----+-----+-----+-----+-----|\n",
      "| u_8               | 3   | 1   | 5   | ?   | ?   |\n",
      "|-------------------+-----+-----+-----+-----+-----|\n",
      "| u_9               | ?   | ?   | ?   | ?   | 2   |\n",
      "|-------------------+-----+-----+-----+-----+-----|\n",
      "```\n",
      "\n",
      "*Given a partially filled matrix of ratings ($|U|x|I|$), estimate the missing values.*\n"
     ]
    },
    {
     "cell_type": "markdown",
     "metadata": {},
     "source": [
      "### Content-based filtering\n",
      "\n",
      "Generic expression (notice how this is kind of a 'row-based' approach):\n",
      "\n",
      "$$ \n",
      "\\newcommand{\\aggr}{\\mathop{\\rm aggr}\\nolimits}\n",
      "r_{u,i} = \\aggr_{i' \\in I(u)} [r_{u,i'}] \n",
      "$$\n"
     ]
    },
    {
     "cell_type": "markdown",
     "metadata": {},
     "source": [
      "### Collaborative filtering\n",
      "\n",
      "Generic expression (notice how this is kind of a 'col-based' approach):\n",
      "\n",
      "$$ \n",
      "\\newcommand{\\aggr}{\\mathop{\\rm aggr}\\nolimits}\n",
      "r_{u,i} = \\aggr_{u' \\in U(i)} [r_{u',i}] \n",
      "$$"
     ]
    },
    {
     "cell_type": "markdown",
     "metadata": {},
     "source": [
      "#### Collaborative filtering: simple ratings-based recommendations\n",
      "\n",
      "Also based solely on ratings information.\n",
      "\n",
      "$$ r_{u,i} = \\bar r_i = \\frac{\\sum_{u' \\in U(i)} r_{u',i}}{|U(i)|} $$\n"
     ]
    },
    {
     "cell_type": "markdown",
     "metadata": {},
     "source": [
      "### Hybrid solutions\n",
      "\n",
      "The literature has lots of examples of systems that try to combine the strengths\n",
      "of the two main approaches. This can be done in a number of ways:\n",
      "\n",
      "- Combine the predictions of a content-based system and a collaborative system.\n",
      "- Incorporate content-based techniques into a collaborative approach.\n",
      "- Incorporarte collaborative techniques into a content-based approach.\n",
      "- Unifying model."
     ]
    },
    {
     "cell_type": "markdown",
     "metadata": {},
     "source": [
      "### Challenges\n",
      "\n",
      "#### Availability of item metadata\n",
      "\n",
      "Content-based techniques are limited by the amount of metadata that is available\n",
      "to describe an item. There are domains in which feature extraction methods are\n",
      "expensive or time consuming, e.g., processing multimedia data such as graphics,\n",
      "audio/video streams. In the context of grocery items for example, it's often the\n",
      "case that item information is only partial or completely missing. Examples\n",
      "include:\n",
      "\n",
      "- Ingredients\n",
      "- Nutrition facts\n",
      "- Brand\n",
      "- Description\n",
      "- County of origin\n",
      "\n",
      "#### New user problem\n",
      "\n",
      "A user has to have rated a sufficient number of items before a recommender\n",
      "system can have a good idea of what their preferences are. In a content-based\n",
      "system, the aggregation function needs ratings to aggregate.\n",
      "\n",
      "#### New item problem\n",
      "\n",
      "Collaborative filters rely on an item being rated by many users to compute\n",
      "aggregates of those ratings. Think of this as the exact counterpart of the new\n",
      "user problem for content-based systems.\n",
      "\n",
      "#### Data sparsity\n",
      "\n",
      "When looking at the more general versions of content-based and collaborative\n",
      "systems, the success of the recommender system depends on the availability of a\n",
      "critical mass of user/item iteractions. We get a first glance at the data\n",
      "sparsity problem by quantifying the ratio of existing ratings vs $|U|x|I|$. A\n",
      "highly sparse matrix of interactions makes it difficult to compute similarities\n",
      "between users and items. As an example, for a user whose tastes are unusual\n",
      "compared to the rest of the population, there will not be any other users who\n",
      "are particularly similar, leading to poor recommendations.\n"
     ]
    },
    {
     "cell_type": "markdown",
     "metadata": {},
     "source": [
      "### Dataset\n",
      "\n",
      "MovieLens from GroupLens Research: [grouplens.org](http://www.grouplens.org/)\n",
      "\n",
      "The MovieLens 1M data set contains 1 million ratings collected from 6000 users\n",
      "on 4000 movies.\n"
     ]
    },
    {
     "cell_type": "markdown",
     "metadata": {},
     "source": [
      "### Flow chart: the big picture"
     ]
    },
    {
     "cell_type": "code",
     "collapsed": false,
     "input": [
      "from IPython.core.display import Image \n",
      "Image(filename='./recsys_arch.png')\n"
     ],
     "language": "python",
     "metadata": {},
     "outputs": [
      {
       "metadata": {},
       "output_type": "pyout",
       "png": "[encoded data removed]",
       "prompt_number": 2,
       "text": [
        "<IPython.core.display.Image at 0x1db6d30>"
       ]
      }
     ],
     "prompt_number": 2
    },
    {
     "cell_type": "markdown",
     "metadata": {},
     "source": [
      "## The MovieLens dataset: loading and first look\n",
      "\n",
      "Loading of the MovieLens dataset here is based on the intro chapter of 'Python\n",
      "for Data Analysis\".\n",
      "\n",
      "The MovieLens data is spread across three files. Using the `pd.read_table`\n",
      "method we load each file:\n"
     ]
    },
    {
     "cell_type": "code",
     "collapsed": false,
     "input": [
      "import pandas as pd\n",
      "\n",
      "unames = ['user_id', 'gender', 'age', 'occupation', 'zip']\n",
      "users = pd.read_table('../data/ml-1m/users.dat',\n",
      "                      sep='::', header=None, names=unames)\n",
      "\n",
      "rnames = ['user_id', 'movie_id', 'rating', 'timestamp']\n",
      "ratings = pd.read_table('../data/ml-1m/ratings.dat',\n",
      "                        sep='::', header=None, names=rnames)\n",
      "\n",
      "mnames = ['movie_id', 'title', 'genres']\n",
      "movies = pd.read_table('../data/ml-1m/movies.dat',\n",
      "                       sep='::', header=None, names=mnames)\n",
      "\n",
      "# show how one of them looks\n",
      "ratings.head(5)\n"
     ],
     "language": "python",
     "metadata": {},
     "outputs": [
      {
       "html": [
        "<div style=\"max-height:1000px;max-width:1500px;overflow:auto;\">\n",
        "<table border=\"1\" class=\"dataframe\">\n",
        "  <thead>\n",
        "    <tr style=\"text-align: right;\">\n",
        "      <th></th>\n",
        "      <th>user_id</th>\n",
        "      <th>movie_id</th>\n",
        "      <th>rating</th>\n",
        "      <th>timestamp</th>\n",
        "    </tr>\n",
        "  </thead>\n",
        "  <tbody>\n",
        "    <tr>\n",
        "      <th>0</th>\n",
        "      <td> 1</td>\n",
        "      <td> 1193</td>\n",
        "      <td> 5</td>\n",
        "      <td> 978300760</td>\n",
        "    </tr>\n",
        "    <tr>\n",
        "      <th>1</th>\n",
        "      <td> 1</td>\n",
        "      <td>  661</td>\n",
        "      <td> 3</td>\n",
        "      <td> 978302109</td>\n",
        "    </tr>\n",
        "    <tr>\n",
        "      <th>2</th>\n",
        "      <td> 1</td>\n",
        "      <td>  914</td>\n",
        "      <td> 3</td>\n",
        "      <td> 978301968</td>\n",
        "    </tr>\n",
        "    <tr>\n",
        "      <th>3</th>\n",
        "      <td> 1</td>\n",
        "      <td> 3408</td>\n",
        "      <td> 4</td>\n",
        "      <td> 978300275</td>\n",
        "    </tr>\n",
        "    <tr>\n",
        "      <th>4</th>\n",
        "      <td> 1</td>\n",
        "      <td> 2355</td>\n",
        "      <td> 5</td>\n",
        "      <td> 978824291</td>\n",
        "    </tr>\n",
        "  </tbody>\n",
        "</table>\n",
        "</div>"
       ],
       "metadata": {},
       "output_type": "pyout",
       "prompt_number": 1,
       "text": [
        "   user_id  movie_id  rating  timestamp\n",
        "0        1      1193       5  978300760\n",
        "1        1       661       3  978302109\n",
        "2        1       914       3  978301968\n",
        "3        1      3408       4  978300275\n",
        "4        1      2355       5  978824291"
       ]
      }
     ],
     "prompt_number": 1
    },
    {
     "cell_type": "code",
     "collapsed": false,
     "input": [
      "# show how one of them looks\n",
      "users[:5]"
     ],
     "language": "python",
     "metadata": {},
     "outputs": [
      {
       "html": [
        "<div style=\"max-height:1000px;max-width:1500px;overflow:auto;\">\n",
        "<table border=\"1\" class=\"dataframe\">\n",
        "  <thead>\n",
        "    <tr style=\"text-align: right;\">\n",
        "      <th></th>\n",
        "      <th>user_id</th>\n",
        "      <th>gender</th>\n",
        "      <th>age</th>\n",
        "      <th>occupation</th>\n",
        "      <th>zip</th>\n",
        "    </tr>\n",
        "  </thead>\n",
        "  <tbody>\n",
        "    <tr>\n",
        "      <th>0</th>\n",
        "      <td> 1</td>\n",
        "      <td> F</td>\n",
        "      <td>  1</td>\n",
        "      <td> 10</td>\n",
        "      <td> 48067</td>\n",
        "    </tr>\n",
        "    <tr>\n",
        "      <th>1</th>\n",
        "      <td> 2</td>\n",
        "      <td> M</td>\n",
        "      <td> 56</td>\n",
        "      <td> 16</td>\n",
        "      <td> 70072</td>\n",
        "    </tr>\n",
        "    <tr>\n",
        "      <th>2</th>\n",
        "      <td> 3</td>\n",
        "      <td> M</td>\n",
        "      <td> 25</td>\n",
        "      <td> 15</td>\n",
        "      <td> 55117</td>\n",
        "    </tr>\n",
        "    <tr>\n",
        "      <th>3</th>\n",
        "      <td> 4</td>\n",
        "      <td> M</td>\n",
        "      <td> 45</td>\n",
        "      <td>  7</td>\n",
        "      <td> 02460</td>\n",
        "    </tr>\n",
        "    <tr>\n",
        "      <th>4</th>\n",
        "      <td> 5</td>\n",
        "      <td> M</td>\n",
        "      <td> 25</td>\n",
        "      <td> 20</td>\n",
        "      <td> 55455</td>\n",
        "    </tr>\n",
        "  </tbody>\n",
        "</table>\n",
        "</div>"
       ],
       "metadata": {},
       "output_type": "pyout",
       "prompt_number": 10,
       "text": [
        "   user_id gender  age  occupation    zip\n",
        "0        1      F    1          10  48067\n",
        "1        2      M   56          16  70072\n",
        "2        3      M   25          15  55117\n",
        "3        4      M   45           7  02460\n",
        "4        5      M   25          20  55455"
       ]
      }
     ],
     "prompt_number": 10
    },
    {
     "cell_type": "code",
     "collapsed": false,
     "input": [
      "movies[:5]"
     ],
     "language": "python",
     "metadata": {},
     "outputs": [
      {
       "html": [
        "<div style=\"max-height:1000px;max-width:1500px;overflow:auto;\">\n",
        "<table border=\"1\" class=\"dataframe\">\n",
        "  <thead>\n",
        "    <tr style=\"text-align: right;\">\n",
        "      <th></th>\n",
        "      <th>movie_id</th>\n",
        "      <th>title</th>\n",
        "      <th>genres</th>\n",
        "    </tr>\n",
        "  </thead>\n",
        "  <tbody>\n",
        "    <tr>\n",
        "      <th>0</th>\n",
        "      <td> 1</td>\n",
        "      <td>                   Toy Story (1995)</td>\n",
        "      <td>  Animation|Children's|Comedy</td>\n",
        "    </tr>\n",
        "    <tr>\n",
        "      <th>1</th>\n",
        "      <td> 2</td>\n",
        "      <td>                     Jumanji (1995)</td>\n",
        "      <td> Adventure|Children's|Fantasy</td>\n",
        "    </tr>\n",
        "    <tr>\n",
        "      <th>2</th>\n",
        "      <td> 3</td>\n",
        "      <td>            Grumpier Old Men (1995)</td>\n",
        "      <td>               Comedy|Romance</td>\n",
        "    </tr>\n",
        "    <tr>\n",
        "      <th>3</th>\n",
        "      <td> 4</td>\n",
        "      <td>           Waiting to Exhale (1995)</td>\n",
        "      <td>                 Comedy|Drama</td>\n",
        "    </tr>\n",
        "    <tr>\n",
        "      <th>4</th>\n",
        "      <td> 5</td>\n",
        "      <td> Father of the Bride Part II (1995)</td>\n",
        "      <td>                       Comedy</td>\n",
        "    </tr>\n",
        "  </tbody>\n",
        "</table>\n",
        "</div>"
       ],
       "metadata": {},
       "output_type": "pyout",
       "prompt_number": 20,
       "text": [
        "   movie_id                               title                        genres\n",
        "0         1                    Toy Story (1995)   Animation|Children's|Comedy\n",
        "1         2                      Jumanji (1995)  Adventure|Children's|Fantasy\n",
        "2         3             Grumpier Old Men (1995)                Comedy|Romance\n",
        "3         4            Waiting to Exhale (1995)                  Comedy|Drama\n",
        "4         5  Father of the Bride Part II (1995)                        Comedy"
       ]
      }
     ],
     "prompt_number": 20
    },
    {
     "cell_type": "markdown",
     "metadata": {},
     "source": [
      "Using `pd.merge` we get it all into  one big DataFrame."
     ]
    },
    {
     "cell_type": "code",
     "collapsed": false,
     "input": [
      "movielens = pd.merge(pd.merge(ratings, users), movies)\n",
      "movielens"
     ],
     "language": "python",
     "metadata": {},
     "outputs": [
      {
       "html": [
        "<pre>\n",
        "&lt;class 'pandas.core.frame.DataFrame'&gt;\n",
        "Int64Index: 1000209 entries, 0 to 1000208\n",
        "Data columns (total 10 columns):\n",
        "user_id       1000209  non-null values\n",
        "movie_id      1000209  non-null values\n",
        "rating        1000209  non-null values\n",
        "timestamp     1000209  non-null values\n",
        "gender        1000209  non-null values\n",
        "age           1000209  non-null values\n",
        "occupation    1000209  non-null values\n",
        "zip           1000209  non-null values\n",
        "title         1000209  non-null values\n",
        "genres        1000209  non-null values\n",
        "dtypes: int64(6), object(4)\n",
        "</pre>"
       ],
       "metadata": {},
       "output_type": "pyout",
       "prompt_number": 2,
       "text": [
        "<class 'pandas.core.frame.DataFrame'>\n",
        "Int64Index: 1000209 entries, 0 to 1000208\n",
        "Data columns (total 10 columns):\n",
        "user_id       1000209  non-null values\n",
        "movie_id      1000209  non-null values\n",
        "rating        1000209  non-null values\n",
        "timestamp     1000209  non-null values\n",
        "gender        1000209  non-null values\n",
        "age           1000209  non-null values\n",
        "occupation    1000209  non-null values\n",
        "zip           1000209  non-null values\n",
        "title         1000209  non-null values\n",
        "genres        1000209  non-null values\n",
        "dtypes: int64(6), object(4)"
       ]
      }
     ],
     "prompt_number": 2
    },
    {
     "cell_type": "code",
     "collapsed": false,
     "input": [
      "movielens.ix[0]"
     ],
     "language": "python",
     "metadata": {},
     "outputs": [
      {
       "metadata": {},
       "output_type": "pyout",
       "prompt_number": 12,
       "text": [
        "user_id                                            1\n",
        "movie_id                                        1193\n",
        "rating                                             5\n",
        "timestamp                                  978300760\n",
        "gender                                             F\n",
        "age                                                1\n",
        "occupation                                        10\n",
        "zip                                            48067\n",
        "title         One Flew Over the Cuckoo's Nest (1975)\n",
        "genres                                         Drama\n",
        "Name: 0, dtype: object"
       ]
      }
     ],
     "prompt_number": 12
    },
    {
     "cell_type": "markdown",
     "metadata": {},
     "source": [
      "### Collaborative filtering: generalizations of the aggregation function\n",
      "\n",
      "#### Non-personalized recommendations\n"
     ]
    },
    {
     "cell_type": "markdown",
     "metadata": {},
     "source": [
      "### Groupby\n",
      "\n",
      "The idea of groupby is that of *split-apply-combine*:\n",
      "\n",
      "- split data in an object according to a given key;\n",
      "- apply a function to each subset;\n",
      "- combine results into a new object."
     ]
    },
    {
     "cell_type": "markdown",
     "metadata": {},
     "source": [
      " To get mean movie ratings for each film grouped by gender, we can use the pivot_table method:"
     ]
    },
    {
     "cell_type": "code",
     "collapsed": false,
     "input": [
      "mean_ratings = movielens.pivot_table('rating', rows='title', cols='gender', aggfunc='mean')\n",
      "mean_ratings[:5]"
     ],
     "language": "python",
     "metadata": {},
     "outputs": [
      {
       "html": [
        "<div style=\"max-height:1000px;max-width:1500px;overflow:auto;\">\n",
        "<table border=\"1\" class=\"dataframe\">\n",
        "  <thead>\n",
        "    <tr style=\"text-align: right;\">\n",
        "      <th>gender</th>\n",
        "      <th>F</th>\n",
        "      <th>M</th>\n",
        "    </tr>\n",
        "    <tr>\n",
        "      <th>title</th>\n",
        "      <th></th>\n",
        "      <th></th>\n",
        "    </tr>\n",
        "  </thead>\n",
        "  <tbody>\n",
        "    <tr>\n",
        "      <th>$1,000,000 Duck (1971)</th>\n",
        "      <td> NaN</td>\n",
        "      <td> 2.0</td>\n",
        "    </tr>\n",
        "    <tr>\n",
        "      <th>'Til There Was You (1997)</th>\n",
        "      <td> 1.0</td>\n",
        "      <td> NaN</td>\n",
        "    </tr>\n",
        "    <tr>\n",
        "      <th>'burbs, The (1989)</th>\n",
        "      <td> 3.0</td>\n",
        "      <td> 3.5</td>\n",
        "    </tr>\n",
        "    <tr>\n",
        "      <th>10 Things I Hate About You (1999)</th>\n",
        "      <td> 3.5</td>\n",
        "      <td> 3.0</td>\n",
        "    </tr>\n",
        "    <tr>\n",
        "      <th>101 Dalmatians (1961)</th>\n",
        "      <td> 4.0</td>\n",
        "      <td> 2.8</td>\n",
        "    </tr>\n",
        "  </tbody>\n",
        "</table>\n",
        "</div>"
       ],
       "metadata": {},
       "output_type": "pyout",
       "prompt_number": 57,
       "text": [
        "gender                               F    M\n",
        "title                                      \n",
        "$1,000,000 Duck (1971)             NaN  2.0\n",
        "'Til There Was You (1997)          1.0  NaN\n",
        "'burbs, The (1989)                 3.0  3.5\n",
        "10 Things I Hate About You (1999)  3.5  3.0\n",
        "101 Dalmatians (1961)              4.0  2.8"
       ]
      }
     ],
     "prompt_number": 57
    },
    {
     "cell_type": "markdown",
     "metadata": {},
     "source": [
      "Now let's filter down to movies that received at least 250 ratings (a completely arbitrary number);\n",
      "\n",
      "To do this, I group the data by title and use size() to get a Series of group sizes for each title:"
     ]
    },
    {
     "cell_type": "code",
     "collapsed": false,
     "input": [
      "ratings_by_title = movielens.groupby('title').size()\n",
      "\n",
      "ratings_by_title[:10]"
     ],
     "language": "python",
     "metadata": {},
     "outputs": [
      {
       "metadata": {},
       "output_type": "pyout",
       "prompt_number": 24,
       "text": [
        "title\n",
        "$1,000,000 Duck (1971)                37\n",
        "'Night Mother (1986)                  70\n",
        "'Til There Was You (1997)             52\n",
        "'burbs, The (1989)                   303\n",
        "...And Justice for All (1979)        199\n",
        "1-900 (1994)                           2\n",
        "10 Things I Hate About You (1999)    700\n",
        "101 Dalmatians (1961)                565\n",
        "101 Dalmatians (1996)                364\n",
        "12 Angry Men (1957)                  616\n",
        "dtype: int64"
       ]
      }
     ],
     "prompt_number": 24
    },
    {
     "cell_type": "code",
     "collapsed": false,
     "input": [
      "active_titles = ratings_by_title.index[ratings_by_title >= 250]\n",
      "active_titles[:10]"
     ],
     "language": "python",
     "metadata": {},
     "outputs": [
      {
       "metadata": {},
       "output_type": "pyout",
       "prompt_number": 27,
       "text": [
        "Index([u''burbs, The (1989)', u'10 Things I Hate About You (1999)', u'101 Dalmatians (1961)', u'101 Dalmatians (1996)', u'12 Angry Men (1957)', u'13th Warrior, The (1999)', u'2 Days in the Valley (1996)', u'20,000 Leagues Under the Sea (1954)', u'2001: A Space Odyssey (1968)', u'2010 (1984)'], dtype=object)"
       ]
      }
     ],
     "prompt_number": 27
    },
    {
     "cell_type": "markdown",
     "metadata": {},
     "source": [
      "The index of titles receiving at least 250 ratings can then be used to select rows from mean_ratings above:"
     ]
    },
    {
     "cell_type": "code",
     "collapsed": false,
     "input": [
      "mean_ratings = mean_ratings.ix[active_titles]\n",
      "mean_ratings"
     ],
     "language": "python",
     "metadata": {},
     "outputs": [
      {
       "html": [
        "<pre>\n",
        "&lt;class 'pandas.core.frame.DataFrame'&gt;\n",
        "Index: 1216 entries, 'burbs, The (1989) to eXistenZ (1999)\n",
        "Data columns (total 2 columns):\n",
        "F    1216  non-null values\n",
        "M    1216  non-null values\n",
        "dtypes: float64(2)\n",
        "</pre>"
       ],
       "metadata": {},
       "output_type": "pyout",
       "prompt_number": 30,
       "text": [
        "<class 'pandas.core.frame.DataFrame'>\n",
        "Index: 1216 entries, 'burbs, The (1989) to eXistenZ (1999)\n",
        "Data columns (total 2 columns):\n",
        "F    1216  non-null values\n",
        "M    1216  non-null values\n",
        "dtypes: float64(2)"
       ]
      }
     ],
     "prompt_number": 30
    },
    {
     "cell_type": "markdown",
     "metadata": {},
     "source": [
      "To see the top films among female viewers, we can sort by the F column in descending order:"
     ]
    },
    {
     "cell_type": "code",
     "collapsed": false,
     "input": [
      "top_female_ratings = mean_ratings.sort_index(by='F', ascending=False)\n",
      "top_female_ratings[:10]"
     ],
     "language": "python",
     "metadata": {},
     "outputs": [
      {
       "html": [
        "<div style=\"max-height:1000px;max-width:1500px;overflow:auto;\">\n",
        "<table border=\"1\" class=\"dataframe\">\n",
        "  <thead>\n",
        "    <tr style=\"text-align: right;\">\n",
        "      <th>gender</th>\n",
        "      <th>F</th>\n",
        "      <th>M</th>\n",
        "    </tr>\n",
        "    <tr>\n",
        "      <th>title</th>\n",
        "      <th></th>\n",
        "      <th></th>\n",
        "    </tr>\n",
        "  </thead>\n",
        "  <tbody>\n",
        "    <tr>\n",
        "      <th>Close Shave, A (1995)</th>\n",
        "      <td> 4.644444</td>\n",
        "      <td> 4.473795</td>\n",
        "    </tr>\n",
        "    <tr>\n",
        "      <th>Wrong Trousers, The (1993)</th>\n",
        "      <td> 4.588235</td>\n",
        "      <td> 4.478261</td>\n",
        "    </tr>\n",
        "    <tr>\n",
        "      <th>Sunset Blvd. (a.k.a. Sunset Boulevard) (1950)</th>\n",
        "      <td> 4.572650</td>\n",
        "      <td> 4.464589</td>\n",
        "    </tr>\n",
        "    <tr>\n",
        "      <th>Wallace &amp; Gromit: The Best of Aardman Animation (1996)</th>\n",
        "      <td> 4.563107</td>\n",
        "      <td> 4.385075</td>\n",
        "    </tr>\n",
        "    <tr>\n",
        "      <th>Schindler's List (1993)</th>\n",
        "      <td> 4.562602</td>\n",
        "      <td> 4.491415</td>\n",
        "    </tr>\n",
        "    <tr>\n",
        "      <th>Shawshank Redemption, The (1994)</th>\n",
        "      <td> 4.539075</td>\n",
        "      <td> 4.560625</td>\n",
        "    </tr>\n",
        "    <tr>\n",
        "      <th>Grand Day Out, A (1992)</th>\n",
        "      <td> 4.537879</td>\n",
        "      <td> 4.293255</td>\n",
        "    </tr>\n",
        "    <tr>\n",
        "      <th>To Kill a Mockingbird (1962)</th>\n",
        "      <td> 4.536667</td>\n",
        "      <td> 4.372611</td>\n",
        "    </tr>\n",
        "    <tr>\n",
        "      <th>Creature Comforts (1990)</th>\n",
        "      <td> 4.513889</td>\n",
        "      <td> 4.272277</td>\n",
        "    </tr>\n",
        "    <tr>\n",
        "      <th>Usual Suspects, The (1995)</th>\n",
        "      <td> 4.513317</td>\n",
        "      <td> 4.518248</td>\n",
        "    </tr>\n",
        "  </tbody>\n",
        "</table>\n",
        "</div>"
       ],
       "metadata": {},
       "output_type": "pyout",
       "prompt_number": 34,
       "text": [
        "gender                                                         F         M\n",
        "title                                                                     \n",
        "Close Shave, A (1995)                                   4.644444  4.473795\n",
        "Wrong Trousers, The (1993)                              4.588235  4.478261\n",
        "Sunset Blvd. (a.k.a. Sunset Boulevard) (1950)           4.572650  4.464589\n",
        "Wallace & Gromit: The Best of Aardman Animation (1996)  4.563107  4.385075\n",
        "Schindler's List (1993)                                 4.562602  4.491415\n",
        "Shawshank Redemption, The (1994)                        4.539075  4.560625\n",
        "Grand Day Out, A (1992)                                 4.537879  4.293255\n",
        "To Kill a Mockingbird (1962)                            4.536667  4.372611\n",
        "Creature Comforts (1990)                                4.513889  4.272277\n",
        "Usual Suspects, The (1995)                              4.513317  4.518248"
       ]
      }
     ],
     "prompt_number": 34
    },
    {
     "cell_type": "markdown",
     "metadata": {},
     "source": [
      "###Measuring rating disagreement"
     ]
    },
    {
     "cell_type": "markdown",
     "metadata": {},
     "source": [
      "Suppose you wanted to find the movies that are most divisive between male and female viewers. \n",
      "\n",
      "One way is to add a column to mean_ratings containing the difference in means, then sort by that:"
     ]
    },
    {
     "cell_type": "code",
     "collapsed": false,
     "input": [
      "mean_ratings['diff'] = mean_ratings['M'] - mean_ratings['F']\n",
      "sorted_by_diff = mean_ratings.sort_index(by='diff')\n",
      "sorted_by_diff[:15]"
     ],
     "language": "python",
     "metadata": {},
     "outputs": [
      {
       "html": [
        "<div style=\"max-height:1000px;max-width:1500px;overflow:auto;\">\n",
        "<table border=\"1\" class=\"dataframe\">\n",
        "  <thead>\n",
        "    <tr style=\"text-align: right;\">\n",
        "      <th>gender</th>\n",
        "      <th>F</th>\n",
        "      <th>M</th>\n",
        "      <th>diff</th>\n",
        "    </tr>\n",
        "    <tr>\n",
        "      <th>title</th>\n",
        "      <th></th>\n",
        "      <th></th>\n",
        "      <th></th>\n",
        "    </tr>\n",
        "  </thead>\n",
        "  <tbody>\n",
        "    <tr>\n",
        "      <th>Dirty Dancing (1987)</th>\n",
        "      <td> 3.790378</td>\n",
        "      <td> 2.959596</td>\n",
        "      <td>-0.830782</td>\n",
        "    </tr>\n",
        "    <tr>\n",
        "      <th>Jumpin' Jack Flash (1986)</th>\n",
        "      <td> 3.254717</td>\n",
        "      <td> 2.578358</td>\n",
        "      <td>-0.676359</td>\n",
        "    </tr>\n",
        "    <tr>\n",
        "      <th>Grease (1978)</th>\n",
        "      <td> 3.975265</td>\n",
        "      <td> 3.367041</td>\n",
        "      <td>-0.608224</td>\n",
        "    </tr>\n",
        "    <tr>\n",
        "      <th>Little Women (1994)</th>\n",
        "      <td> 3.870588</td>\n",
        "      <td> 3.321739</td>\n",
        "      <td>-0.548849</td>\n",
        "    </tr>\n",
        "    <tr>\n",
        "      <th>Steel Magnolias (1989)</th>\n",
        "      <td> 3.901734</td>\n",
        "      <td> 3.365957</td>\n",
        "      <td>-0.535777</td>\n",
        "    </tr>\n",
        "    <tr>\n",
        "      <th>Anastasia (1997)</th>\n",
        "      <td> 3.800000</td>\n",
        "      <td> 3.281609</td>\n",
        "      <td>-0.518391</td>\n",
        "    </tr>\n",
        "    <tr>\n",
        "      <th>Rocky Horror Picture Show, The (1975)</th>\n",
        "      <td> 3.673016</td>\n",
        "      <td> 3.160131</td>\n",
        "      <td>-0.512885</td>\n",
        "    </tr>\n",
        "    <tr>\n",
        "      <th>Color Purple, The (1985)</th>\n",
        "      <td> 4.158192</td>\n",
        "      <td> 3.659341</td>\n",
        "      <td>-0.498851</td>\n",
        "    </tr>\n",
        "    <tr>\n",
        "      <th>Age of Innocence, The (1993)</th>\n",
        "      <td> 3.827068</td>\n",
        "      <td> 3.339506</td>\n",
        "      <td>-0.487561</td>\n",
        "    </tr>\n",
        "    <tr>\n",
        "      <th>Free Willy (1993)</th>\n",
        "      <td> 2.921348</td>\n",
        "      <td> 2.438776</td>\n",
        "      <td>-0.482573</td>\n",
        "    </tr>\n",
        "    <tr>\n",
        "      <th>French Kiss (1995)</th>\n",
        "      <td> 3.535714</td>\n",
        "      <td> 3.056962</td>\n",
        "      <td>-0.478752</td>\n",
        "    </tr>\n",
        "    <tr>\n",
        "      <th>Little Shop of Horrors, The (1960)</th>\n",
        "      <td> 3.650000</td>\n",
        "      <td> 3.179688</td>\n",
        "      <td>-0.470312</td>\n",
        "    </tr>\n",
        "    <tr>\n",
        "      <th>Guys and Dolls (1955)</th>\n",
        "      <td> 4.051724</td>\n",
        "      <td> 3.583333</td>\n",
        "      <td>-0.468391</td>\n",
        "    </tr>\n",
        "    <tr>\n",
        "      <th>Mary Poppins (1964)</th>\n",
        "      <td> 4.197740</td>\n",
        "      <td> 3.730594</td>\n",
        "      <td>-0.467147</td>\n",
        "    </tr>\n",
        "    <tr>\n",
        "      <th>Patch Adams (1998)</th>\n",
        "      <td> 3.473282</td>\n",
        "      <td> 3.008746</td>\n",
        "      <td>-0.464536</td>\n",
        "    </tr>\n",
        "  </tbody>\n",
        "</table>\n",
        "</div>"
       ],
       "metadata": {},
       "output_type": "pyout",
       "prompt_number": 37,
       "text": [
        "gender                                        F         M      diff\n",
        "title                                                              \n",
        "Dirty Dancing (1987)                   3.790378  2.959596 -0.830782\n",
        "Jumpin' Jack Flash (1986)              3.254717  2.578358 -0.676359\n",
        "Grease (1978)                          3.975265  3.367041 -0.608224\n",
        "Little Women (1994)                    3.870588  3.321739 -0.548849\n",
        "Steel Magnolias (1989)                 3.901734  3.365957 -0.535777\n",
        "Anastasia (1997)                       3.800000  3.281609 -0.518391\n",
        "Rocky Horror Picture Show, The (1975)  3.673016  3.160131 -0.512885\n",
        "Color Purple, The (1985)               4.158192  3.659341 -0.498851\n",
        "Age of Innocence, The (1993)           3.827068  3.339506 -0.487561\n",
        "Free Willy (1993)                      2.921348  2.438776 -0.482573\n",
        "French Kiss (1995)                     3.535714  3.056962 -0.478752\n",
        "Little Shop of Horrors, The (1960)     3.650000  3.179688 -0.470312\n",
        "Guys and Dolls (1955)                  4.051724  3.583333 -0.468391\n",
        "Mary Poppins (1964)                    4.197740  3.730594 -0.467147\n",
        "Patch Adams (1998)                     3.473282  3.008746 -0.464536"
       ]
      }
     ],
     "prompt_number": 37
    },
    {
     "cell_type": "markdown",
     "metadata": {},
     "source": [
      "Reversing the order of the rows and again slicing off the top 15 rows,\n",
      "we get the movies preferred by men that women didn\u2019t rate as highly:"
     ]
    },
    {
     "cell_type": "code",
     "collapsed": false,
     "input": [
      "# Reverser order of rows, take first 15 rows \n",
      "sorted_by_diff[::-1][:15]"
     ],
     "language": "python",
     "metadata": {},
     "outputs": [
      {
       "html": [
        "<div style=\"max-height:1000px;max-width:1500px;overflow:auto;\">\n",
        "<table border=\"1\" class=\"dataframe\">\n",
        "  <thead>\n",
        "    <tr style=\"text-align: right;\">\n",
        "      <th>gender</th>\n",
        "      <th>F</th>\n",
        "      <th>M</th>\n",
        "      <th>diff</th>\n",
        "    </tr>\n",
        "    <tr>\n",
        "      <th>title</th>\n",
        "      <th></th>\n",
        "      <th></th>\n",
        "      <th></th>\n",
        "    </tr>\n",
        "  </thead>\n",
        "  <tbody>\n",
        "    <tr>\n",
        "      <th>Good, The Bad and The Ugly, The (1966)</th>\n",
        "      <td> 3.494949</td>\n",
        "      <td> 4.221300</td>\n",
        "      <td> 0.726351</td>\n",
        "    </tr>\n",
        "    <tr>\n",
        "      <th>Kentucky Fried Movie, The (1977)</th>\n",
        "      <td> 2.878788</td>\n",
        "      <td> 3.555147</td>\n",
        "      <td> 0.676359</td>\n",
        "    </tr>\n",
        "    <tr>\n",
        "      <th>Dumb &amp; Dumber (1994)</th>\n",
        "      <td> 2.697987</td>\n",
        "      <td> 3.336595</td>\n",
        "      <td> 0.638608</td>\n",
        "    </tr>\n",
        "    <tr>\n",
        "      <th>Longest Day, The (1962)</th>\n",
        "      <td> 3.411765</td>\n",
        "      <td> 4.031447</td>\n",
        "      <td> 0.619682</td>\n",
        "    </tr>\n",
        "    <tr>\n",
        "      <th>Cable Guy, The (1996)</th>\n",
        "      <td> 2.250000</td>\n",
        "      <td> 2.863787</td>\n",
        "      <td> 0.613787</td>\n",
        "    </tr>\n",
        "    <tr>\n",
        "      <th>Evil Dead II (Dead By Dawn) (1987)</th>\n",
        "      <td> 3.297297</td>\n",
        "      <td> 3.909283</td>\n",
        "      <td> 0.611985</td>\n",
        "    </tr>\n",
        "    <tr>\n",
        "      <th>Hidden, The (1987)</th>\n",
        "      <td> 3.137931</td>\n",
        "      <td> 3.745098</td>\n",
        "      <td> 0.607167</td>\n",
        "    </tr>\n",
        "    <tr>\n",
        "      <th>Rocky III (1982)</th>\n",
        "      <td> 2.361702</td>\n",
        "      <td> 2.943503</td>\n",
        "      <td> 0.581801</td>\n",
        "    </tr>\n",
        "    <tr>\n",
        "      <th>Caddyshack (1980)</th>\n",
        "      <td> 3.396135</td>\n",
        "      <td> 3.969737</td>\n",
        "      <td> 0.573602</td>\n",
        "    </tr>\n",
        "    <tr>\n",
        "      <th>For a Few Dollars More (1965)</th>\n",
        "      <td> 3.409091</td>\n",
        "      <td> 3.953795</td>\n",
        "      <td> 0.544704</td>\n",
        "    </tr>\n",
        "    <tr>\n",
        "      <th>Porky's (1981)</th>\n",
        "      <td> 2.296875</td>\n",
        "      <td> 2.836364</td>\n",
        "      <td> 0.539489</td>\n",
        "    </tr>\n",
        "    <tr>\n",
        "      <th>Animal House (1978)</th>\n",
        "      <td> 3.628906</td>\n",
        "      <td> 4.167192</td>\n",
        "      <td> 0.538286</td>\n",
        "    </tr>\n",
        "    <tr>\n",
        "      <th>Exorcist, The (1973)</th>\n",
        "      <td> 3.537634</td>\n",
        "      <td> 4.067239</td>\n",
        "      <td> 0.529605</td>\n",
        "    </tr>\n",
        "    <tr>\n",
        "      <th>Fright Night (1985)</th>\n",
        "      <td> 2.973684</td>\n",
        "      <td> 3.500000</td>\n",
        "      <td> 0.526316</td>\n",
        "    </tr>\n",
        "    <tr>\n",
        "      <th>Barb Wire (1996)</th>\n",
        "      <td> 1.585366</td>\n",
        "      <td> 2.100386</td>\n",
        "      <td> 0.515020</td>\n",
        "    </tr>\n",
        "  </tbody>\n",
        "</table>\n",
        "</div>"
       ],
       "metadata": {},
       "output_type": "pyout",
       "prompt_number": 39,
       "text": [
        "gender                                         F         M      diff\n",
        "title                                                               \n",
        "Good, The Bad and The Ugly, The (1966)  3.494949  4.221300  0.726351\n",
        "Kentucky Fried Movie, The (1977)        2.878788  3.555147  0.676359\n",
        "Dumb & Dumber (1994)                    2.697987  3.336595  0.638608\n",
        "Longest Day, The (1962)                 3.411765  4.031447  0.619682\n",
        "Cable Guy, The (1996)                   2.250000  2.863787  0.613787\n",
        "Evil Dead II (Dead By Dawn) (1987)      3.297297  3.909283  0.611985\n",
        "Hidden, The (1987)                      3.137931  3.745098  0.607167\n",
        "Rocky III (1982)                        2.361702  2.943503  0.581801\n",
        "Caddyshack (1980)                       3.396135  3.969737  0.573602\n",
        "For a Few Dollars More (1965)           3.409091  3.953795  0.544704\n",
        "Porky's (1981)                          2.296875  2.836364  0.539489\n",
        "Animal House (1978)                     3.628906  4.167192  0.538286\n",
        "Exorcist, The (1973)                    3.537634  4.067239  0.529605\n",
        "Fright Night (1985)                     2.973684  3.500000  0.526316\n",
        "Barb Wire (1996)                        1.585366  2.100386  0.515020"
       ]
      }
     ],
     "prompt_number": 39
    },
    {
     "cell_type": "markdown",
     "metadata": {},
     "source": [
      "Suppose instead you wanted the movies that elicited the most disagreement among viewers, independent of gender. \n",
      "Disagreement can be measured by the variance or standard deviation of the ratings:"
     ]
    },
    {
     "cell_type": "code",
     "collapsed": false,
     "input": [
      "# Standard deviation of rating grouped by title\n",
      "rating_std_by_title = movielens.groupby('title')['rating'].std()\n",
      "# Filter down to active_titles\n",
      "rating_std_by_title = rating_std_by_title.ix[active_titles]\n",
      "# Order Series by value in descending order \n",
      "rating_std_by_title.order(ascending=False)[:10]"
     ],
     "language": "python",
     "metadata": {},
     "outputs": [
      {
       "metadata": {},
       "output_type": "pyout",
       "prompt_number": 41,
       "text": [
        "title\n",
        "Dumb & Dumber (1994)                     1.321333\n",
        "Blair Witch Project, The (1999)          1.316368\n",
        "Natural Born Killers (1994)              1.307198\n",
        "Tank Girl (1995)                         1.277695\n",
        "Rocky Horror Picture Show, The (1975)    1.260177\n",
        "Eyes Wide Shut (1999)                    1.259624\n",
        "Evita (1996)                             1.253631\n",
        "Billy Madison (1995)                     1.249970\n",
        "Fear and Loathing in Las Vegas (1998)    1.246408\n",
        "Bicentennial Man (1999)                  1.245533\n",
        "Name: rating, dtype: float64"
       ]
      }
     ],
     "prompt_number": 41
    },
    {
     "cell_type": "markdown",
     "metadata": {},
     "source": [
      "## Evaluation\n",
      "\n",
      "Before we attempt to express the basic equations for content-based or\n",
      "collaborative filtering we need a basic mechanism to evaluate the performance of\n",
      "our engine."
     ]
    },
    {
     "cell_type": "markdown",
     "metadata": {},
     "source": [
      "### Evaluation: split ratings into train and test sets\n",
      "\n",
      "This subsection will generate training and testing sets for evaluation. You do\n",
      "not need to understand every single line of code, just the general gist:\n",
      "\n",
      "- take a smaller sample from the full 1M dataset for speed reasons;\n",
      "- make sure that we have at least 2 ratings per user in that subset;\n",
      "- split the result into training and testing sets."
     ]
    },
    {
     "cell_type": "code",
     "collapsed": false,
     "input": [
      "# let's work with a smaller subset for speed reasons\n",
      "import numpy as np\n",
      "movielens = movielens.ix[np.random.choice(movielens.index, size=10000, replace=False)]\n",
      "print movielens.shape\n",
      "print movielens.user_id.nunique()\n",
      "print movielens.movie_id.nunique()"
     ],
     "language": "python",
     "metadata": {},
     "outputs": [
      {
       "output_type": "stream",
       "stream": "stdout",
       "text": [
        "(10000, 10)\n",
        "3670\n",
        "2274\n"
       ]
      }
     ],
     "prompt_number": 4
    },
    {
     "cell_type": "code",
     "collapsed": false,
     "input": [
      "user_ids_larger_1 = pd.value_counts(movielens.user_id, sort=False) > 1\n",
      "user_ids_larger_1"
     ],
     "language": "python",
     "metadata": {},
     "outputs": [
      {
       "metadata": {},
       "output_type": "pyout",
       "prompt_number": 6,
       "text": [
        "4098     True\n",
        "8       False\n",
        "2057    False\n",
        "24       True\n",
        "2073     True\n",
        "2081    False\n",
        "4130     True\n",
        "2089    False\n",
        "48       True\n",
        "2097    False\n",
        "2105     True\n",
        "4162    False\n",
        "72      False\n",
        "2121     True\n",
        "4170    False\n",
        "...\n",
        "4022     True\n",
        "4030     True\n",
        "1983     True\n",
        "1999    False\n",
        "4054     True\n",
        "4062     True\n",
        "2015     True\n",
        "4070    False\n",
        "2023     True\n",
        "4078     True\n",
        "2031     True\n",
        "4086     True\n",
        "2039     True\n",
        "4094     True\n",
        "2047     True\n",
        "Length: 3670, dtype: bool"
       ]
      }
     ],
     "prompt_number": 6
    },
    {
     "cell_type": "code",
     "collapsed": true,
     "input": [
      "movielens = movielens[user_ids_larger_1[movielens.user_id].values]\n",
      "print movielens.shape\n",
      "np.all(movielens.user_id.value_counts() > 1)\n",
      "\n",
      "                  "
     ],
     "language": "python",
     "metadata": {},
     "outputs": [
      {
       "output_type": "stream",
       "stream": "stdout",
       "text": [
        "(8491, 10)\n"
       ]
      },
      {
       "metadata": {},
       "output_type": "pyout",
       "prompt_number": 8,
       "text": [
        "True"
       ]
      }
     ],
     "prompt_number": 8
    },
    {
     "cell_type": "markdown",
     "metadata": {},
     "source": [
      "We now generate train and test subsets using groupby and apply."
     ]
    },
    {
     "cell_type": "code",
     "collapsed": false,
     "input": [
      "import numpy as np\n",
      "def assign_to_set(df):\n",
      "    sampled_ids = np.random.choice(df.index,\n",
      "                                   size=np.int64(np.ceil(df.index.size * 0.2)),\n",
      "                                   replace=False)\n",
      "    df.ix[sampled_ids, 'for_testing'] = True\n",
      "    return df\n",
      "\n",
      "movielens['for_testing'] = False\n",
      "grouped = movielens.groupby('user_id', group_keys=False).apply(assign_to_set)\n",
      "movielens_train = movielens[grouped.for_testing == False]\n",
      "movielens_test = movielens[grouped.for_testing == True]\n",
      "print movielens_train.shape\n",
      "print movielens_test.shape\n",
      "print movielens_train.index & movielens_test.index"
     ],
     "language": "python",
     "metadata": {},
     "outputs": [
      {
       "output_type": "stream",
       "stream": "stdout",
       "text": [
        "(5843, 11)\n",
        "(2648, 11)\n",
        "Int64Index([], dtype=int64)\n"
       ]
      }
     ],
     "prompt_number": 9
    },
    {
     "cell_type": "markdown",
     "metadata": {},
     "source": [
      "Store these two sets in text files:"
     ]
    },
    {
     "cell_type": "code",
     "collapsed": false,
     "input": [
      "movielens_train.to_csv('../data/movielens_train.csv')\n",
      "movielens_test.to_csv('../data/movielens_test.csv')"
     ],
     "language": "python",
     "metadata": {},
     "outputs": [],
     "prompt_number": 10
    },
    {
     "cell_type": "markdown",
     "metadata": {},
     "source": [
      "### Evaluation: performance criterion\n",
      "\n",
      "Performance evaluation of recommendation systems is an entire topic all in\n",
      "itself. Some of the options include:\n",
      "\n",
      "- RMSE: $\\sqrt{\\frac{\\sum(\\hat y - y)^2}{n}}$\n",
      "- Precision / Recall / F-scores\n",
      "- ROC curves\n",
      "- Cost curves"
     ]
    },
    {
     "cell_type": "code",
     "collapsed": false,
     "input": [
      "def compute_rmse(y_pred, y_true):\n",
      "    \"\"\" Compute Root Mean Squared Error. \"\"\"\n",
      "    return np.sqrt(np.mean(np.power(y_pred - y_true, 2)))"
     ],
     "language": "python",
     "metadata": {},
     "outputs": [],
     "prompt_number": 11
    },
    {
     "cell_type": "markdown",
     "metadata": {},
     "source": [
      "### Evaluation: the 'evaluate' method"
     ]
    },
    {
     "cell_type": "code",
     "collapsed": false,
     "input": [
      "def evaluate(estimate_f):\n",
      "    \"\"\" RMSE-based predictive performance evaluation with pandas. \"\"\"\n",
      "    ids_to_estimate = zip(movielens_test.user_id, movielens_test.movie_id)\n",
      "    estimated = np.array([estimate_f(u,i) for (u,i) in ids_to_estimate])\n",
      "    real = movielens_test.rating.values\n",
      "    return compute_rmse(estimated, real)\n"
     ],
     "language": "python",
     "metadata": {},
     "outputs": [],
     "prompt_number": 12
    },
    {
     "cell_type": "markdown",
     "metadata": {},
     "source": [
      "## Minimal reco engine v1.0: simple mean ratings"
     ]
    },
    {
     "cell_type": "markdown",
     "metadata": {},
     "source": [
      "### Content-based filtering using mean ratings\n",
      "\n",
      "With this table-like representation of the ratings data, a basic content-based\n",
      "filter becomes a one-liner function."
     ]
    },
    {
     "cell_type": "code",
     "collapsed": false,
     "input": [
      "def estimate1(user_id, item_id):\n",
      "    \"\"\" Simple content-filtering based on mean ratings. \"\"\"\n",
      "    return movielens_train.ix[movielens_train.user_id == user_id, 'rating'].mean()\n",
      "\n",
      "print 'RMSE for estimate1: %s' % evaluate(estimate1)"
     ],
     "language": "python",
     "metadata": {},
     "outputs": [
      {
       "output_type": "stream",
       "stream": "stdout",
       "text": [
        "RMSE for estimate1: 1.28728396133\n"
       ]
      }
     ],
     "prompt_number": 13
    },
    {
     "cell_type": "code",
     "collapsed": false,
     "input": [
      "def estimate2(user_id, movie_id):\n",
      "    \"\"\" Simple collaborative filter based on mean ratings. \"\"\"\n",
      "    ratings_by_others = movielens_train[movielens_train.movie_id == movie_id]\n",
      "    if ratings_by_others.empty: return 3.0\n",
      "    return ratings_by_others.rating.mean()\n",
      "\n",
      "print 'RMSE for estimate2: %s' % evaluate(estimate2)"
     ],
     "language": "python",
     "metadata": {},
     "outputs": [
      {
       "output_type": "stream",
       "stream": "stdout",
       "text": [
        "RMSE for estimate2: 1.14189918845\n"
       ]
      }
     ],
     "prompt_number": 14
    },
    {
     "cell_type": "markdown",
     "metadata": {},
     "source": [
      "### Pivoting\n",
      "\n",
      "Let's start with a simple pivoting example that does not involve any\n",
      "aggregation. We can extract a ratings matrix as follows:"
     ]
    },
    {
     "cell_type": "code",
     "collapsed": false,
     "input": [
      "# transform the ratings frame into a ratings matrix\n",
      "ratings_mtx_df = movielens_train.pivot_table(values='rating',\n",
      "                                             rows='user_id',\n",
      "                                             cols='movie_id')\n",
      "ratings_mtx_df"
     ],
     "language": "python",
     "metadata": {},
     "outputs": [
      {
       "html": [
        "<pre>\n",
        "&lt;class 'pandas.core.frame.DataFrame'&gt;\n",
        "Int64Index: 2161 entries, 2 to 6040\n",
        "Columns: 1972 entries, 1 to 3952\n",
        "dtypes: float64(1972)\n",
        "</pre>"
       ],
       "metadata": {},
       "output_type": "pyout",
       "prompt_number": 15,
       "text": [
        "<class 'pandas.core.frame.DataFrame'>\n",
        "Int64Index: 2161 entries, 2 to 6040\n",
        "Columns: 1972 entries, 1 to 3952\n",
        "dtypes: float64(1972)"
       ]
      }
     ],
     "prompt_number": 15
    },
    {
     "cell_type": "code",
     "collapsed": false,
     "input": [
      "# with an integer axis index only label-based indexing is possible\n",
      "ratings_mtx_df.ix[ratings_mtx_df.index[-15:],ratings_mtx_df.columns[:15]]"
     ],
     "language": "python",
     "metadata": {},
     "outputs": [
      {
       "html": [
        "<div style=\"max-height:1000px;max-width:1500px;overflow:auto;\">\n",
        "<table border=\"1\" class=\"dataframe\">\n",
        "  <thead>\n",
        "    <tr style=\"text-align: right;\">\n",
        "      <th>movie_id</th>\n",
        "      <th>1</th>\n",
        "      <th>2</th>\n",
        "      <th>3</th>\n",
        "      <th>4</th>\n",
        "      <th>6</th>\n",
        "      <th>7</th>\n",
        "      <th>10</th>\n",
        "      <th>11</th>\n",
        "      <th>12</th>\n",
        "      <th>14</th>\n",
        "      <th>15</th>\n",
        "      <th>16</th>\n",
        "      <th>17</th>\n",
        "      <th>18</th>\n",
        "      <th>19</th>\n",
        "    </tr>\n",
        "    <tr>\n",
        "      <th>user_id</th>\n",
        "      <th></th>\n",
        "      <th></th>\n",
        "      <th></th>\n",
        "      <th></th>\n",
        "      <th></th>\n",
        "      <th></th>\n",
        "      <th></th>\n",
        "      <th></th>\n",
        "      <th></th>\n",
        "      <th></th>\n",
        "      <th></th>\n",
        "      <th></th>\n",
        "      <th></th>\n",
        "      <th></th>\n",
        "      <th></th>\n",
        "    </tr>\n",
        "  </thead>\n",
        "  <tbody>\n",
        "    <tr>\n",
        "      <th>6003</th>\n",
        "      <td>NaN</td>\n",
        "      <td>NaN</td>\n",
        "      <td>NaN</td>\n",
        "      <td>NaN</td>\n",
        "      <td>NaN</td>\n",
        "      <td>NaN</td>\n",
        "      <td>NaN</td>\n",
        "      <td>NaN</td>\n",
        "      <td>NaN</td>\n",
        "      <td>NaN</td>\n",
        "      <td>NaN</td>\n",
        "      <td>NaN</td>\n",
        "      <td>NaN</td>\n",
        "      <td>NaN</td>\n",
        "      <td>NaN</td>\n",
        "    </tr>\n",
        "    <tr>\n",
        "      <th>6007</th>\n",
        "      <td>NaN</td>\n",
        "      <td>NaN</td>\n",
        "      <td>NaN</td>\n",
        "      <td>NaN</td>\n",
        "      <td>NaN</td>\n",
        "      <td>NaN</td>\n",
        "      <td>NaN</td>\n",
        "      <td>NaN</td>\n",
        "      <td>NaN</td>\n",
        "      <td>NaN</td>\n",
        "      <td>NaN</td>\n",
        "      <td>NaN</td>\n",
        "      <td>NaN</td>\n",
        "      <td>NaN</td>\n",
        "      <td>NaN</td>\n",
        "    </tr>\n",
        "    <tr>\n",
        "      <th>6010</th>\n",
        "      <td>NaN</td>\n",
        "      <td>NaN</td>\n",
        "      <td>NaN</td>\n",
        "      <td>NaN</td>\n",
        "      <td>NaN</td>\n",
        "      <td>NaN</td>\n",
        "      <td>  4</td>\n",
        "      <td>NaN</td>\n",
        "      <td>NaN</td>\n",
        "      <td>NaN</td>\n",
        "      <td>NaN</td>\n",
        "      <td>NaN</td>\n",
        "      <td>NaN</td>\n",
        "      <td>NaN</td>\n",
        "      <td>NaN</td>\n",
        "    </tr>\n",
        "    <tr>\n",
        "      <th>6011</th>\n",
        "      <td>NaN</td>\n",
        "      <td>NaN</td>\n",
        "      <td>NaN</td>\n",
        "      <td>NaN</td>\n",
        "      <td>NaN</td>\n",
        "      <td>NaN</td>\n",
        "      <td>NaN</td>\n",
        "      <td>NaN</td>\n",
        "      <td>NaN</td>\n",
        "      <td>NaN</td>\n",
        "      <td>NaN</td>\n",
        "      <td>NaN</td>\n",
        "      <td>NaN</td>\n",
        "      <td>NaN</td>\n",
        "      <td>NaN</td>\n",
        "    </tr>\n",
        "    <tr>\n",
        "      <th>6015</th>\n",
        "      <td>NaN</td>\n",
        "      <td>NaN</td>\n",
        "      <td>NaN</td>\n",
        "      <td>NaN</td>\n",
        "      <td>NaN</td>\n",
        "      <td>NaN</td>\n",
        "      <td>NaN</td>\n",
        "      <td>NaN</td>\n",
        "      <td>NaN</td>\n",
        "      <td>NaN</td>\n",
        "      <td>NaN</td>\n",
        "      <td>NaN</td>\n",
        "      <td>NaN</td>\n",
        "      <td>NaN</td>\n",
        "      <td>NaN</td>\n",
        "    </tr>\n",
        "    <tr>\n",
        "      <th>6016</th>\n",
        "      <td>NaN</td>\n",
        "      <td>NaN</td>\n",
        "      <td>NaN</td>\n",
        "      <td>NaN</td>\n",
        "      <td>NaN</td>\n",
        "      <td>NaN</td>\n",
        "      <td>NaN</td>\n",
        "      <td>NaN</td>\n",
        "      <td>NaN</td>\n",
        "      <td>NaN</td>\n",
        "      <td>NaN</td>\n",
        "      <td>NaN</td>\n",
        "      <td>NaN</td>\n",
        "      <td>NaN</td>\n",
        "      <td>NaN</td>\n",
        "    </tr>\n",
        "    <tr>\n",
        "      <th>6018</th>\n",
        "      <td>NaN</td>\n",
        "      <td>NaN</td>\n",
        "      <td>NaN</td>\n",
        "      <td>NaN</td>\n",
        "      <td>NaN</td>\n",
        "      <td>NaN</td>\n",
        "      <td>NaN</td>\n",
        "      <td>NaN</td>\n",
        "      <td>NaN</td>\n",
        "      <td>NaN</td>\n",
        "      <td>NaN</td>\n",
        "      <td>NaN</td>\n",
        "      <td>NaN</td>\n",
        "      <td>NaN</td>\n",
        "      <td>NaN</td>\n",
        "    </tr>\n",
        "    <tr>\n",
        "      <th>6021</th>\n",
        "      <td>NaN</td>\n",
        "      <td>NaN</td>\n",
        "      <td>NaN</td>\n",
        "      <td>NaN</td>\n",
        "      <td>NaN</td>\n",
        "      <td>NaN</td>\n",
        "      <td>NaN</td>\n",
        "      <td>NaN</td>\n",
        "      <td>NaN</td>\n",
        "      <td>NaN</td>\n",
        "      <td>NaN</td>\n",
        "      <td>NaN</td>\n",
        "      <td>NaN</td>\n",
        "      <td>NaN</td>\n",
        "      <td>NaN</td>\n",
        "    </tr>\n",
        "    <tr>\n",
        "      <th>6025</th>\n",
        "      <td>NaN</td>\n",
        "      <td>NaN</td>\n",
        "      <td>NaN</td>\n",
        "      <td>NaN</td>\n",
        "      <td>NaN</td>\n",
        "      <td>NaN</td>\n",
        "      <td>NaN</td>\n",
        "      <td>NaN</td>\n",
        "      <td>NaN</td>\n",
        "      <td>NaN</td>\n",
        "      <td>NaN</td>\n",
        "      <td>NaN</td>\n",
        "      <td>NaN</td>\n",
        "      <td>NaN</td>\n",
        "      <td>NaN</td>\n",
        "    </tr>\n",
        "    <tr>\n",
        "      <th>6028</th>\n",
        "      <td>NaN</td>\n",
        "      <td>NaN</td>\n",
        "      <td>NaN</td>\n",
        "      <td>NaN</td>\n",
        "      <td>NaN</td>\n",
        "      <td>NaN</td>\n",
        "      <td>NaN</td>\n",
        "      <td>NaN</td>\n",
        "      <td>NaN</td>\n",
        "      <td>NaN</td>\n",
        "      <td>NaN</td>\n",
        "      <td>NaN</td>\n",
        "      <td>NaN</td>\n",
        "      <td>NaN</td>\n",
        "      <td>NaN</td>\n",
        "    </tr>\n",
        "    <tr>\n",
        "      <th>6033</th>\n",
        "      <td>NaN</td>\n",
        "      <td>NaN</td>\n",
        "      <td>NaN</td>\n",
        "      <td>NaN</td>\n",
        "      <td>NaN</td>\n",
        "      <td>NaN</td>\n",
        "      <td>NaN</td>\n",
        "      <td>NaN</td>\n",
        "      <td>NaN</td>\n",
        "      <td>NaN</td>\n",
        "      <td>NaN</td>\n",
        "      <td>NaN</td>\n",
        "      <td>NaN</td>\n",
        "      <td>NaN</td>\n",
        "      <td>NaN</td>\n",
        "    </tr>\n",
        "    <tr>\n",
        "      <th>6035</th>\n",
        "      <td>NaN</td>\n",
        "      <td>NaN</td>\n",
        "      <td>NaN</td>\n",
        "      <td>NaN</td>\n",
        "      <td>NaN</td>\n",
        "      <td>NaN</td>\n",
        "      <td>NaN</td>\n",
        "      <td>NaN</td>\n",
        "      <td>NaN</td>\n",
        "      <td>NaN</td>\n",
        "      <td>NaN</td>\n",
        "      <td>NaN</td>\n",
        "      <td>NaN</td>\n",
        "      <td>NaN</td>\n",
        "      <td>NaN</td>\n",
        "    </tr>\n",
        "    <tr>\n",
        "      <th>6036</th>\n",
        "      <td>NaN</td>\n",
        "      <td>NaN</td>\n",
        "      <td>NaN</td>\n",
        "      <td>NaN</td>\n",
        "      <td>NaN</td>\n",
        "      <td>NaN</td>\n",
        "      <td>NaN</td>\n",
        "      <td>NaN</td>\n",
        "      <td>NaN</td>\n",
        "      <td>NaN</td>\n",
        "      <td>NaN</td>\n",
        "      <td>NaN</td>\n",
        "      <td>NaN</td>\n",
        "      <td>NaN</td>\n",
        "      <td>NaN</td>\n",
        "    </tr>\n",
        "    <tr>\n",
        "      <th>6037</th>\n",
        "      <td>NaN</td>\n",
        "      <td>NaN</td>\n",
        "      <td>NaN</td>\n",
        "      <td>NaN</td>\n",
        "      <td>NaN</td>\n",
        "      <td>NaN</td>\n",
        "      <td>NaN</td>\n",
        "      <td>NaN</td>\n",
        "      <td>NaN</td>\n",
        "      <td>NaN</td>\n",
        "      <td>NaN</td>\n",
        "      <td>NaN</td>\n",
        "      <td>NaN</td>\n",
        "      <td>NaN</td>\n",
        "      <td>NaN</td>\n",
        "    </tr>\n",
        "    <tr>\n",
        "      <th>6040</th>\n",
        "      <td>NaN</td>\n",
        "      <td>NaN</td>\n",
        "      <td>NaN</td>\n",
        "      <td>NaN</td>\n",
        "      <td>NaN</td>\n",
        "      <td>NaN</td>\n",
        "      <td>NaN</td>\n",
        "      <td>NaN</td>\n",
        "      <td>NaN</td>\n",
        "      <td>NaN</td>\n",
        "      <td>NaN</td>\n",
        "      <td>NaN</td>\n",
        "      <td>NaN</td>\n",
        "      <td>NaN</td>\n",
        "      <td>NaN</td>\n",
        "    </tr>\n",
        "  </tbody>\n",
        "</table>\n",
        "</div>"
       ],
       "metadata": {},
       "output_type": "pyout",
       "prompt_number": 16,
       "text": [
        "movie_id  1   2   3   4   6   7   10  11  12  14  15  16  17  18  19\n",
        "user_id                                                             \n",
        "6003     NaN NaN NaN NaN NaN NaN NaN NaN NaN NaN NaN NaN NaN NaN NaN\n",
        "6007     NaN NaN NaN NaN NaN NaN NaN NaN NaN NaN NaN NaN NaN NaN NaN\n",
        "6010     NaN NaN NaN NaN NaN NaN   4 NaN NaN NaN NaN NaN NaN NaN NaN\n",
        "6011     NaN NaN NaN NaN NaN NaN NaN NaN NaN NaN NaN NaN NaN NaN NaN\n",
        "6015     NaN NaN NaN NaN NaN NaN NaN NaN NaN NaN NaN NaN NaN NaN NaN\n",
        "6016     NaN NaN NaN NaN NaN NaN NaN NaN NaN NaN NaN NaN NaN NaN NaN\n",
        "6018     NaN NaN NaN NaN NaN NaN NaN NaN NaN NaN NaN NaN NaN NaN NaN\n",
        "6021     NaN NaN NaN NaN NaN NaN NaN NaN NaN NaN NaN NaN NaN NaN NaN\n",
        "6025     NaN NaN NaN NaN NaN NaN NaN NaN NaN NaN NaN NaN NaN NaN NaN\n",
        "6028     NaN NaN NaN NaN NaN NaN NaN NaN NaN NaN NaN NaN NaN NaN NaN\n",
        "6033     NaN NaN NaN NaN NaN NaN NaN NaN NaN NaN NaN NaN NaN NaN NaN\n",
        "6035     NaN NaN NaN NaN NaN NaN NaN NaN NaN NaN NaN NaN NaN NaN NaN\n",
        "6036     NaN NaN NaN NaN NaN NaN NaN NaN NaN NaN NaN NaN NaN NaN NaN\n",
        "6037     NaN NaN NaN NaN NaN NaN NaN NaN NaN NaN NaN NaN NaN NaN NaN\n",
        "6040     NaN NaN NaN NaN NaN NaN NaN NaN NaN NaN NaN NaN NaN NaN NaN"
       ]
      }
     ],
     "prompt_number": 16
    },
    {
     "cell_type": "markdown",
     "metadata": {},
     "source": [
      "### Collaborative-based filtering using custom sim functions"
     ]
    },
    {
     "cell_type": "markdown",
     "metadata": {},
     "source": [
      "- Pearson correlation\n",
      "\n",
      "$$ sim(x,y) = \\frac{(x - \\bar x).(y - \\bar y)}{\\sqrt{(x - \\bar x).(x - \\bar x) * (y - \\bar y)(y - \\bar y)}} $$"
     ]
    },
    {
     "cell_type": "markdown",
     "metadata": {},
     "source": [
      "####Let's go by a simple example first... Another movies ratings."
     ]
    },
    {
     "cell_type": "code",
     "collapsed": false,
     "input": [
      "import numpy as np; import pandas as pd; from pandas import Series, DataFrame\n",
      "rating = pd.read_csv('../data/movie_rating.csv')\n",
      "rp = rating.pivot_table(cols=['critic'],rows=['title'],values='rating')\n",
      "rp"
     ],
     "language": "python",
     "metadata": {},
     "outputs": [
      {
       "html": [
        "<div style=\"max-height:1000px;max-width:1500px;overflow:auto;\">\n",
        "<table border=\"1\" class=\"dataframe\">\n",
        "  <thead>\n",
        "    <tr style=\"text-align: right;\">\n",
        "      <th>critic</th>\n",
        "      <th>Claudia Puig</th>\n",
        "      <th>Gene Seymour</th>\n",
        "      <th>Jack Matthews</th>\n",
        "      <th>Lisa Rose</th>\n",
        "      <th>Mick LaSalle</th>\n",
        "      <th>Toby</th>\n",
        "    </tr>\n",
        "    <tr>\n",
        "      <th>title</th>\n",
        "      <th></th>\n",
        "      <th></th>\n",
        "      <th></th>\n",
        "      <th></th>\n",
        "      <th></th>\n",
        "      <th></th>\n",
        "    </tr>\n",
        "  </thead>\n",
        "  <tbody>\n",
        "    <tr>\n",
        "      <th>Just My Luck</th>\n",
        "      <td> 3.0</td>\n",
        "      <td> 1.5</td>\n",
        "      <td> NaN</td>\n",
        "      <td> 3.0</td>\n",
        "      <td> 2</td>\n",
        "      <td> NaN</td>\n",
        "    </tr>\n",
        "    <tr>\n",
        "      <th>Lady in the Water</th>\n",
        "      <td> NaN</td>\n",
        "      <td> 3.0</td>\n",
        "      <td> 3.0</td>\n",
        "      <td> 2.5</td>\n",
        "      <td> 3</td>\n",
        "      <td> NaN</td>\n",
        "    </tr>\n",
        "    <tr>\n",
        "      <th>Snakes on a Plane</th>\n",
        "      <td> 3.5</td>\n",
        "      <td> 3.5</td>\n",
        "      <td> 4.0</td>\n",
        "      <td> 3.5</td>\n",
        "      <td> 4</td>\n",
        "      <td> 4.5</td>\n",
        "    </tr>\n",
        "    <tr>\n",
        "      <th>Superman Returns</th>\n",
        "      <td> 4.0</td>\n",
        "      <td> 5.0</td>\n",
        "      <td> 5.0</td>\n",
        "      <td> 3.5</td>\n",
        "      <td> 3</td>\n",
        "      <td> 4.0</td>\n",
        "    </tr>\n",
        "    <tr>\n",
        "      <th>The Night Listener</th>\n",
        "      <td> 4.5</td>\n",
        "      <td> 3.0</td>\n",
        "      <td> 3.0</td>\n",
        "      <td> 3.0</td>\n",
        "      <td> 3</td>\n",
        "      <td> NaN</td>\n",
        "    </tr>\n",
        "    <tr>\n",
        "      <th>You Me and Dupree</th>\n",
        "      <td> 2.5</td>\n",
        "      <td> 3.5</td>\n",
        "      <td> 3.5</td>\n",
        "      <td> 2.5</td>\n",
        "      <td> 2</td>\n",
        "      <td> 1.0</td>\n",
        "    </tr>\n",
        "  </tbody>\n",
        "</table>\n",
        "</div>"
       ],
       "metadata": {},
       "output_type": "pyout",
       "prompt_number": 19,
       "text": [
        "critic              Claudia Puig  Gene Seymour  Jack Matthews  Lisa Rose  \\\n",
        "title                                                                      \n",
        "Just My Luck                 3.0           1.5            NaN        3.0   \n",
        "Lady in the Water            NaN           3.0            3.0        2.5   \n",
        "Snakes on a Plane            3.5           3.5            4.0        3.5   \n",
        "Superman Returns             4.0           5.0            5.0        3.5   \n",
        "The Night Listener           4.5           3.0            3.0        3.0   \n",
        "You Me and Dupree            2.5           3.5            3.5        2.5   \n",
        "\n",
        "critic              Mick LaSalle  Toby  \n",
        "title                                   \n",
        "Just My Luck                   2   NaN  \n",
        "Lady in the Water              3   NaN  \n",
        "Snakes on a Plane              4   4.5  \n",
        "Superman Returns               3   4.0  \n",
        "The Night Listener             3   NaN  \n",
        "You Me and Dupree              2   1.0  "
       ]
      }
     ],
     "prompt_number": 19
    },
    {
     "cell_type": "markdown",
     "metadata": {},
     "source": [
      "Pandas has nicely filled in NaN in the cells for movies not reviewed by a critic."
     ]
    },
    {
     "cell_type": "markdown",
     "metadata": {},
     "source": [
      "The next step is to find the similarity score between the critics. The author Toby is used as an example. We introduced a somewhat involving formula the Pearson correlation score. Turn out this is simply the correlation coefficient supported in most statistical packages. In Pandas, you can use corrwith() to calculate the correlation. A score close to 1 means their tastes are very similar. As you can see in the result below, Lisa Rose's taste is very similar to Toby but it is not so much with Gene Seymour."
     ]
    },
    {
     "cell_type": "code",
     "collapsed": false,
     "input": [
      "rating_toby = rp['Toby']\n",
      "sim_toby = rp.corrwith(rating_toby)\n",
      "sim_toby"
     ],
     "language": "python",
     "metadata": {},
     "outputs": [
      {
       "metadata": {},
       "output_type": "pyout",
       "prompt_number": 20,
       "text": [
        "critic\n",
        "Claudia Puig     0.893405\n",
        "Gene Seymour     0.381246\n",
        "Jack Matthews    0.662849\n",
        "Lisa Rose        0.991241\n",
        "Mick LaSalle     0.924473\n",
        "Toby             1.000000\n",
        "dtype: float64"
       ]
      }
     ],
     "prompt_number": 20
    },
    {
     "cell_type": "markdown",
     "metadata": {},
     "source": [
      "To make recommendation for Toby, we calculate a rating of others weighted by the similarity. Note that we only need to calculate rating for movies Toby has not yet seen. The first line below filter out irrelevant data. It then assign the similarity score and the weighted rating.\n"
     ]
    },
    {
     "cell_type": "code",
     "collapsed": false,
     "input": [
      "criteria = ((rating_toby[rating.title].isnull()) & (rating.critic != 'Toby')).values\n",
      "rating_c = rating[criteria]\n",
      "rating_c['similarity'] = rating_c['critic'].map(sim_toby.get)\n",
      "rating_c['sim_rating'] = rating_c.similarity * rating_c.rating\n",
      "\n",
      "rating_c"
     ],
     "language": "python",
     "metadata": {},
     "outputs": [
      {
       "html": [
        "<div style=\"max-height:1000px;max-width:1500px;overflow:auto;\">\n",
        "<table border=\"1\" class=\"dataframe\">\n",
        "  <thead>\n",
        "    <tr style=\"text-align: right;\">\n",
        "      <th></th>\n",
        "      <th>critic</th>\n",
        "      <th>title</th>\n",
        "      <th>rating</th>\n",
        "      <th>similarity</th>\n",
        "      <th>sim_rating</th>\n",
        "    </tr>\n",
        "  </thead>\n",
        "  <tbody>\n",
        "    <tr>\n",
        "      <th>0 </th>\n",
        "      <td> Jack Matthews</td>\n",
        "      <td>  Lady in the Water</td>\n",
        "      <td> 3.0</td>\n",
        "      <td> 0.662849</td>\n",
        "      <td> 1.988547</td>\n",
        "    </tr>\n",
        "    <tr>\n",
        "      <th>4 </th>\n",
        "      <td> Jack Matthews</td>\n",
        "      <td> The Night Listener</td>\n",
        "      <td> 3.0</td>\n",
        "      <td> 0.662849</td>\n",
        "      <td> 1.988547</td>\n",
        "    </tr>\n",
        "    <tr>\n",
        "      <th>5 </th>\n",
        "      <td>  Mick LaSalle</td>\n",
        "      <td>  Lady in the Water</td>\n",
        "      <td> 3.0</td>\n",
        "      <td> 0.924473</td>\n",
        "      <td> 2.773420</td>\n",
        "    </tr>\n",
        "    <tr>\n",
        "      <th>7 </th>\n",
        "      <td>  Mick LaSalle</td>\n",
        "      <td>       Just My Luck</td>\n",
        "      <td> 2.0</td>\n",
        "      <td> 0.924473</td>\n",
        "      <td> 1.848947</td>\n",
        "    </tr>\n",
        "    <tr>\n",
        "      <th>10</th>\n",
        "      <td>  Mick LaSalle</td>\n",
        "      <td> The Night Listener</td>\n",
        "      <td> 3.0</td>\n",
        "      <td> 0.924473</td>\n",
        "      <td> 2.773420</td>\n",
        "    </tr>\n",
        "    <tr>\n",
        "      <th>12</th>\n",
        "      <td>  Claudia Puig</td>\n",
        "      <td>       Just My Luck</td>\n",
        "      <td> 3.0</td>\n",
        "      <td> 0.893405</td>\n",
        "      <td> 2.680215</td>\n",
        "    </tr>\n",
        "    <tr>\n",
        "      <th>15</th>\n",
        "      <td>  Claudia Puig</td>\n",
        "      <td> The Night Listener</td>\n",
        "      <td> 4.5</td>\n",
        "      <td> 0.893405</td>\n",
        "      <td> 4.020323</td>\n",
        "    </tr>\n",
        "    <tr>\n",
        "      <th>16</th>\n",
        "      <td>     Lisa Rose</td>\n",
        "      <td>  Lady in the Water</td>\n",
        "      <td> 2.5</td>\n",
        "      <td> 0.991241</td>\n",
        "      <td> 2.478102</td>\n",
        "    </tr>\n",
        "    <tr>\n",
        "      <th>18</th>\n",
        "      <td>     Lisa Rose</td>\n",
        "      <td>       Just My Luck</td>\n",
        "      <td> 3.0</td>\n",
        "      <td> 0.991241</td>\n",
        "      <td> 2.973722</td>\n",
        "    </tr>\n",
        "    <tr>\n",
        "      <th>20</th>\n",
        "      <td>     Lisa Rose</td>\n",
        "      <td> The Night Listener</td>\n",
        "      <td> 3.0</td>\n",
        "      <td> 0.991241</td>\n",
        "      <td> 2.973722</td>\n",
        "    </tr>\n",
        "    <tr>\n",
        "      <th>25</th>\n",
        "      <td>  Gene Seymour</td>\n",
        "      <td>  Lady in the Water</td>\n",
        "      <td> 3.0</td>\n",
        "      <td> 0.381246</td>\n",
        "      <td> 1.143739</td>\n",
        "    </tr>\n",
        "    <tr>\n",
        "      <th>27</th>\n",
        "      <td>  Gene Seymour</td>\n",
        "      <td>       Just My Luck</td>\n",
        "      <td> 1.5</td>\n",
        "      <td> 0.381246</td>\n",
        "      <td> 0.571870</td>\n",
        "    </tr>\n",
        "    <tr>\n",
        "      <th>30</th>\n",
        "      <td>  Gene Seymour</td>\n",
        "      <td> The Night Listener</td>\n",
        "      <td> 3.0</td>\n",
        "      <td> 0.381246</td>\n",
        "      <td> 1.143739</td>\n",
        "    </tr>\n",
        "  </tbody>\n",
        "</table>\n",
        "</div>"
       ],
       "metadata": {},
       "output_type": "pyout",
       "prompt_number": 27,
       "text": [
        "           critic               title  rating  similarity  sim_rating\n",
        "0   Jack Matthews   Lady in the Water     3.0    0.662849    1.988547\n",
        "4   Jack Matthews  The Night Listener     3.0    0.662849    1.988547\n",
        "5    Mick LaSalle   Lady in the Water     3.0    0.924473    2.773420\n",
        "7    Mick LaSalle        Just My Luck     2.0    0.924473    1.848947\n",
        "10   Mick LaSalle  The Night Listener     3.0    0.924473    2.773420\n",
        "12   Claudia Puig        Just My Luck     3.0    0.893405    2.680215\n",
        "15   Claudia Puig  The Night Listener     4.5    0.893405    4.020323\n",
        "16      Lisa Rose   Lady in the Water     2.5    0.991241    2.478102\n",
        "18      Lisa Rose        Just My Luck     3.0    0.991241    2.973722\n",
        "20      Lisa Rose  The Night Listener     3.0    0.991241    2.973722\n",
        "25   Gene Seymour   Lady in the Water     3.0    0.381246    1.143739\n",
        "27   Gene Seymour        Just My Luck     1.5    0.381246    0.571870\n",
        "30   Gene Seymour  The Night Listener     3.0    0.381246    1.143739"
       ]
      }
     ],
     "prompt_number": 27
    },
    {
     "cell_type": "markdown",
     "metadata": {},
     "source": [
      "Lastly we add up the score for each title using groupby(). We also normalize the score by dividing it with the sum of the weights. Base on other critics' similarity and their rating, we have made a movie recommendation for Toby. The number matches the result of the book.\n"
     ]
    },
    {
     "cell_type": "code",
     "collapsed": false,
     "input": [
      "recommendation = rating_c.groupby('title').apply(lambda s: s.sim_rating.sum() / s.similarity.sum())\n",
      "recommendation.order(ascending=False)"
     ],
     "language": "python",
     "metadata": {},
     "outputs": [
      {
       "metadata": {},
       "output_type": "pyout",
       "prompt_number": 28,
       "text": [
        "title\n",
        "The Night Listener    3.347790\n",
        "Lady in the Water     2.832550\n",
        "Just My Luck          2.530981\n",
        "dtype: float64"
       ]
      }
     ],
     "prompt_number": 28
    },
    {
     "cell_type": "markdown",
     "metadata": {},
     "source": [
      "####Going back to our movielens data."
     ]
    },
    {
     "cell_type": "code",
     "collapsed": false,
     "input": [
      "def pearson(s1, s2):\n",
      "    \"\"\"Take two pd.Series objects and return a pearson correlation.\"\"\"\n",
      "    s1_c = s1 - s1.mean()\n",
      "    s2_c = s2 - s2.mean()\n",
      "    return np.sum(s1_c * s2_c) / np.sqrt(np.sum(s1_c ** 2) * np.sum(s2_c ** 2))"
     ],
     "language": "python",
     "metadata": {},
     "outputs": [],
     "prompt_number": 29
    },
    {
     "cell_type": "code",
     "collapsed": false,
     "input": [
      "class CollabFiltering:\n",
      "    \"\"\" Collaborative filtering using a custom sim(u,u'). \"\"\"\n",
      "\n",
      "    def learn(self):\n",
      "        \"\"\" Prepare datastructures for estimation. \"\"\"\n",
      "        self.all_user_profiles = movielens.pivot_table('rating', rows='movie_id', cols='user_id')\n",
      "\n",
      "    def estimate(self, user_id, movie_id):\n",
      "        \"\"\" Ratings weighted by correlation similarity. \"\"\"\n",
      "        ratings_by_others = movielens_train[movielens_train.movie_id == movie_id]\n",
      "        if ratings_by_others.empty: return 3.0\n",
      "        ratings_by_others.set_index('user_id', inplace=True)\n",
      "        their_ids = ratings_by_others.index\n",
      "        their_ratings = ratings_by_others.rating\n",
      "        their_profiles = self.all_user_profiles[their_ids]\n",
      "        user_profile = self.all_user_profiles[user_id]\n",
      "        sims = their_profiles.apply(lambda profile: pearson(profile, user_profile), axis=0)\n",
      "        ratings_sims = pd.DataFrame({'sim': sims, 'rating': their_ratings})\n",
      "        ratings_sims = ratings_sims[ ratings_sims.sim > 0]\n",
      "        if ratings_sims.empty:\n",
      "            return their_ratings.mean()\n",
      "        else:\n",
      "            return np.average(ratings_sims.rating, weights=ratings_sims.sim)\n",
      "        \n",
      "reco = CollabFiltering()\n",
      "reco.learn()\n",
      "print 'RMSE for CollabFiltering: %s' % evaluate(reco.estimate)\n"
     ],
     "language": "python",
     "metadata": {},
     "outputs": [
      {
       "output_type": "stream",
       "stream": "stdout",
       "text": [
        "RMSE for CollabFiltering: 1.10156350645\n"
       ]
      }
     ],
     "prompt_number": 47
    },
    {
     "cell_type": "markdown",
     "metadata": {},
     "source": [
      "## What are we going to do next ?\n",
      "\n",
      "- Introduction to Scikit-Learn"
     ]
    },
    {
     "cell_type": "markdown",
     "metadata": {},
     "source": [
      "## References and further reading\n",
      "\n",
      "- William Wesley McKinney. Python for Data Analysis. O\u2019Reilly, 2012.\n",
      "- Goldberg, D., D. Nichols, B. M. Oki, and D. Terry. \u201cUsing Collaborative Filtering to Weave an Information Tapestry.\u201d Communications of the ACM 35, no. 12 (1992): 61\u201370.\n",
      "- Resnick, Paul, and Hal R. Varian. \u201cRecommender Systems.\u201d Commun. ACM 40, no. 3 (March 1997): 56\u201358. doi:10.1145/245108.245121.\n",
      "- Adomavicius, Gediminas, and Alexander Tuzhilin. \u201cToward the Next Generation of Recommender Systems: A Survey of the State-of-the-Art and Possible Extensions.\u201d IEEE Transactions on Knowledge and Data Engineering 17, no. 6 (2005): 734\u2013749. doi:http://doi.ieeecomputersociety.org/10.1109/TKDE.2005.99.\n",
      "- Adomavicius, Gediminas, Ramesh Sankaranarayanan, Shahana Sen, and Alexander Tuzhilin. \u201cIncorporating Contextual Information in Recommender Systems Using a Multidimensional Approach.\u201d ACM Trans. Inf. Syst. 23, no. 1 (2005): 103\u2013145. doi:10.1145/1055709.1055714.\n",
      "- Koren, Y., R. Bell, and C. Volinsky. \u201cMatrix Factorization Techniques for Recommender Systems.\u201d Computer 42, no. 8 (2009): 30\u201337.\n",
      "- Toby Segaran. Programming Collective Intelligence. O\u2019Reilly, 2007.\n",
      "\n"
     ]
    },
    {
     "cell_type": "code",
     "collapsed": false,
     "input": [],
     "language": "python",
     "metadata": {},
     "outputs": []
    }
   ],
   "metadata": {}
  }
 ]
}