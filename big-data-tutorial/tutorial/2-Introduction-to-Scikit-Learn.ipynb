{
 "metadata": {
  "name": ""
 },
 "nbformat": 3,
 "nbformat_minor": 0,
 "worksheets": [
  {
   "cells": [
    {
     "cell_type": "markdown",
     "metadata": {},
     "source": [
      "#Basic principles of machine learning (1 hr)"
     ]
    },
    {
     "cell_type": "markdown",
     "metadata": {},
     "source": [
      "Here is where we start diving into the field of machine learning.\n",
      "\n",
      "By the end of this section you will\n",
      "\n",
      "- Know the basic categories of supervised learning, including classification and regression problems.\n",
      "- Know the basic categories of unsupervised learning, including dimensionality reduction and clustering.\n",
      "- Know the basic syntax of the Scikit-learn **estimator** interface.\n",
      "- Know how features are extracted from real-world data.\n",
      "\n",
      "In addition, we will go over several basic tools within scikit-learn which can be used to accomplish the above tasks."
     ]
    },
    {
     "cell_type": "markdown",
     "metadata": {},
     "source": [
      "##Problem setting"
     ]
    },
    {
     "cell_type": "markdown",
     "metadata": {},
     "source": [
      "###A simple definition of machine learning"
     ]
    },
    {
     "cell_type": "markdown",
     "metadata": {},
     "source": [
      "Machine Learning (ML) is about building programs with **tunable parameters** (typically an\n",
      "array of floating point values) that are adjusted automatically so as to improve\n",
      "their behavior by **adapting to previously seen data.**\n",
      "\n",
      "In most ML applications, the data is in a 2D array of shape ``[n_samples x n_features]``,\n",
      "where the number of features is the same for each object, and each feature column refers\n",
      "to a related piece of information about each sample.\n",
      "\n",
      "Machine learning can be broken into two broad regimes:\n",
      "*supervised learning* and *unsupervised learning*.\n",
      "We\u2019ll introduce these concepts here, and discuss them in more detail below."
     ]
    },
    {
     "cell_type": "markdown",
     "metadata": {},
     "source": [
      "## Scikit Learn\n",
      "\n",
      "### What is it?\n",
      "\n",
      "- Simple and efficient tools for data mining and data analysis\n",
      "- Accessible to everybody, and reusable in various contexts\n",
      "- Built on NumPy, SciPy, and matplotlib\n",
      "- Open source, commercially usable - BSD license"
     ]
    },
    {
     "cell_type": "markdown",
     "metadata": {},
     "source": [
      "*Adapted from http://scikit-learn.org/stable/tutorial/basic/tutorial.html*"
     ]
    },
    {
     "cell_type": "markdown",
     "metadata": {},
     "source": [
      "###Introducing the scikit-learn estimator object"
     ]
    },
    {
     "cell_type": "markdown",
     "metadata": {},
     "source": [
      "Every algorithm is exposed in scikit-learn via an ''Estimator'' object. For instance a linear regression is:"
     ]
    },
    {
     "cell_type": "code",
     "collapsed": false,
     "input": [
      "%pylab inline\n",
      "import pylab as plt\n",
      "import numpy as np"
     ],
     "language": "python",
     "metadata": {},
     "outputs": [
      {
       "output_type": "stream",
       "stream": "stdout",
       "text": [
        "Populating the interactive namespace from numpy and matplotlib\n"
       ]
      },
      {
       "output_type": "stream",
       "stream": "stderr",
       "text": [
        "WARNING: pylab import has clobbered these variables: ['plt']\n",
        "`%pylab --no-import-all` prevents importing * from pylab and numpy\n"
       ]
      }
     ],
     "prompt_number": 3
    },
    {
     "cell_type": "code",
     "collapsed": false,
     "input": [
      "from sklearn.linear_model import LinearRegression"
     ],
     "language": "python",
     "metadata": {},
     "outputs": [],
     "prompt_number": 22
    },
    {
     "cell_type": "markdown",
     "metadata": {},
     "source": [
      "**Estimator parameters**: All the parameters of an estimator can be set when it is instantiated:"
     ]
    },
    {
     "cell_type": "code",
     "collapsed": false,
     "input": [
      "model = LinearRegression(normalize=True)\n",
      "print model.normalize"
     ],
     "language": "python",
     "metadata": {},
     "outputs": [
      {
       "output_type": "stream",
       "stream": "stdout",
       "text": [
        "True\n"
       ]
      }
     ],
     "prompt_number": 23
    },
    {
     "cell_type": "code",
     "collapsed": false,
     "input": [
      "print model"
     ],
     "language": "python",
     "metadata": {},
     "outputs": [
      {
       "output_type": "stream",
       "stream": "stdout",
       "text": [
        "LinearRegression(copy_X=True, fit_intercept=True, normalize=True)\n"
       ]
      }
     ],
     "prompt_number": 24
    },
    {
     "cell_type": "markdown",
     "metadata": {},
     "source": [
      "**Estimated parameters**: When data is fitted with an estimator, parameters are estimated from the data at hand. All the estimated parameters are attributes of the estimator object ending by an underscore:"
     ]
    },
    {
     "cell_type": "code",
     "collapsed": false,
     "input": [
      "x = np.array([0, 1, 2])\n",
      "y = np.array([0, 1, 2])"
     ],
     "language": "python",
     "metadata": {},
     "outputs": [],
     "prompt_number": 25
    },
    {
     "cell_type": "code",
     "collapsed": false,
     "input": [
      "_ = plt.plot(x, y, marker='o')"
     ],
     "language": "python",
     "metadata": {},
     "outputs": [
      {
       "metadata": {},
       "output_type": "display_data",
       "png": "[encoded data removed]",
       "text": [
        "<matplotlib.figure.Figure at 0x61933f0>"
       ]
      }
     ],
     "prompt_number": 27
    },
    {
     "cell_type": "code",
     "collapsed": false,
     "input": [
      "X = x[:, np.newaxis] # The input data for sklearn is 2D: (samples == 3 x features == 1)\n",
      "X"
     ],
     "language": "python",
     "metadata": {},
     "outputs": [
      {
       "metadata": {},
       "output_type": "pyout",
       "prompt_number": 28,
       "text": [
        "array([[0],\n",
        "       [1],\n",
        "       [2]])"
       ]
      }
     ],
     "prompt_number": 28
    },
    {
     "cell_type": "code",
     "collapsed": false,
     "input": [
      "model.fit(X, y) \n",
      "model.coef_"
     ],
     "language": "python",
     "metadata": {},
     "outputs": [
      {
       "metadata": {},
       "output_type": "pyout",
       "prompt_number": 31,
       "text": [
        "array([ 1.00000003])"
       ]
      }
     ],
     "prompt_number": 31
    },
    {
     "cell_type": "markdown",
     "metadata": {},
     "source": [
      "###Supervised Learning: Classification and regression"
     ]
    },
    {
     "cell_type": "markdown",
     "metadata": {},
     "source": [
      "In **Supervised Learning**, we have a dataset consisting of both features and labels.\n",
      "The task is to construct an estimator which is able to predict the label of an object\n",
      "given the set of features. A relatively simple example is predicting the species of \n",
      "iris given a set of measurements of its flower. This is a relatively simple task. \n",
      "Some more complicated examples are:\n",
      "\n",
      "- given a multicolor image of an object through a telescope, determine\n",
      "  whether that object is a star, a quasar, or a galaxy.\n",
      "- given a photograph of a person, identify the person in the photo.\n",
      "- given a list of movies a person has watched and their personal rating\n",
      "  of the movie, recommend a list of movies they would like\n",
      "  (So-called *recommender systems*: a famous example is the [Netflix Prize](http://en.wikipedia.org/wiki/Netflix_prize)).\n",
      "\n",
      "What these tasks have in common is that there is one or more unknown\n",
      "quantities associated with the object which needs to be determined from other\n",
      "observed quantities.\n",
      "\n",
      "Supervised learning is further broken down into two categories, **classification** and **regression**.\n",
      "In classification, the label is discrete, while in regression, the label is continuous. For example,\n",
      "in astronomy, the task of determining whether an object is a star, a galaxy, or a quasar is a\n",
      "classification problem: the label is from three distinct categories. On the other hand, we might\n",
      "wish to estimate the age of an object based on such observations: this would be a regression problem,\n",
      "because the label (age) is a continuous quantity."
     ]
    },
    {
     "cell_type": "markdown",
     "metadata": {},
     "source": [
      "**Classification**: K nearest neighbors (kNN) is one of the simplest learning strategies: given a new, unknown observation, look up in your reference database which ones have the closest features and assign the predominant class.\n",
      "\n",
      "Let's try it out on our iris classification problem:"
     ]
    },
    {
     "cell_type": "code",
     "collapsed": false,
     "input": [
      "from sklearn import neighbors, datasets\n",
      "iris = datasets.load_iris()\n",
      "X, y = iris.data, iris.target\n",
      "knn = neighbors.KNeighborsClassifier(n_neighbors=1)\n",
      "knn.fit(X, y)\n",
      "# What kind of iris has 3cm x 5cm sepal and 4cm x 2cm petal?\n",
      "print iris.target_names[knn.predict([[3, 5, 4, 2]])]"
     ],
     "language": "python",
     "metadata": {},
     "outputs": [
      {
       "output_type": "stream",
       "stream": "stdout",
       "text": [
        "['virginica']\n"
       ]
      }
     ],
     "prompt_number": 33
    },
    {
     "cell_type": "code",
     "collapsed": false,
     "input": [
      "# A plot of the sepal space and the prediction of the KNN\n",
      "from helpers import plot_iris_knn\n",
      "plot_iris_knn()"
     ],
     "language": "python",
     "metadata": {},
     "outputs": [
      {
       "metadata": {},
       "output_type": "display_data",
       "png": "[encoded data removed]",
       "text": [
        "<matplotlib.figure.Figure at 0x6a5da10>"
       ]
      }
     ],
     "prompt_number": 36
    },
    {
     "cell_type": "markdown",
     "metadata": {},
     "source": [
      "**Regression**: The simplest possible regression setting is the linear regression one:"
     ]
    },
    {
     "cell_type": "code",
     "collapsed": false,
     "input": [
      "# Create some simple data\n",
      "import numpy as np\n",
      "np.random.seed(0)\n",
      "X = np.random.random(size=(20, 1))\n",
      "y = 3 * X.squeeze() + 2 + np.random.normal(size=20)\n",
      "\n",
      "# Fit a linear regression to it\n",
      "from sklearn.linear_model import LinearRegression\n",
      "model = LinearRegression(fit_intercept=True)\n",
      "model.fit(X, y)\n",
      "print \"Model coefficient: %.5f, and intercept: %.5f\" % (model.coef_, model.intercept_)\n",
      "\n",
      "# Plot the data and the model prediction\n",
      "X_test = np.linspace(0, 1, 100)[:, np.newaxis]\n",
      "y_test = model.predict(X_test)\n",
      "import pylab as pl\n",
      "print X.squeeze()\n",
      "pl.plot(X.squeeze(), y, 'o')\n",
      "pl.plot(X_test.squeeze(), y_test)"
     ],
     "language": "python",
     "metadata": {},
     "outputs": [
      {
       "output_type": "stream",
       "stream": "stdout",
       "text": [
        "Model coefficient: 3.93491, and intercept: 1.46229\n",
        "[ 0.5488135   0.71518937  0.60276338  0.54488318  0.4236548   0.64589411\n",
        "  0.43758721  0.891773    0.96366276  0.38344152  0.79172504  0.52889492\n",
        "  0.56804456  0.92559664  0.07103606  0.0871293   0.0202184   0.83261985\n",
        "  0.77815675  0.87001215]\n"
       ]
      },
      {
       "metadata": {},
       "output_type": "pyout",
       "prompt_number": 4,
       "text": [
        "[<matplotlib.lines.Line2D at 0x1a57430>]"
       ]
      },
      {
       "metadata": {},
       "output_type": "display_data",
       "png": "[encoded data removed]",
       "text": [
        "<matplotlib.figure.Figure at 0x6910470>"
       ]
      }
     ],
     "prompt_number": 4
    },
    {
     "cell_type": "markdown",
     "metadata": {},
     "source": [
      "**Unsupervised Learning** addresses a different sort of problem. Here the data has no labels,\n",
      "and we are interested in finding similarities between the objects in question. In a sense,\n",
      "you can think of unsupervised learning as a means of discovering labels from the data itself.\n",
      "Unsupervised learning comprises tasks such as *dimensionality reduction*, *clustering*, and\n",
      "*density estimation*. For example, in the iris data discussed above, we can used unsupervised\n",
      "methods to determine combinations of the measurements which best display the structure of the\n",
      "data. As we\u2019ll see below, such a projection of the data can be used to visualize the\n",
      "four-dimensional dataset in two dimensions. Some more involved unsupervised learning problems are:\n",
      "\n",
      "- given detailed observations of distant galaxies, determine which features or combinations of\n",
      "  features summarize best the information.\n",
      "- given a mixture of two sound sources (for example, a person talking over some music),\n",
      "  separate the two (this is called the [blind source separation](http://en.wikipedia.org/wiki/Blind_signal_separation) problem).\n",
      "- given a video, isolate a moving object and categorize in relation to other moving objects which have been seen.\n",
      "\n",
      "Sometimes the two may even be combined: e.g. Unsupervised learning can be used to find useful\n",
      "features in heterogeneous data, and then these features can be used within a supervised\n",
      "framework."
     ]
    },
    {
     "cell_type": "markdown",
     "metadata": {},
     "source": [
      "**An example PCA for visualization** Principle Component Analysis (PCA) is a dimension reduction technique that can find the combinations of variables that explain the most variance.\n",
      "\n",
      "Consider the iris dataset. It cannot be visualized in a single 2D plot, as it has 4 features. We are going to extract 2 combinations of sepal and petal dimensions to visualize it:"
     ]
    },
    {
     "cell_type": "code",
     "collapsed": false,
     "input": [
      "X, y = iris.data, iris.target\n",
      "from sklearn.decomposition import PCA\n",
      "pca = PCA(n_components=2)\n",
      "pca.fit(X)\n",
      "X_reduced = pca.transform(X)\n",
      "print \"Reduced dataset shape:\", X_reduced.shape\n",
      "\n",
      "import pylab as pl\n",
      "pl.scatter(X_reduced[:, 0], X_reduced[:, 1], c=y)\n",
      "\n",
      "print \"Meaning of the 2 components:\"\n",
      "for component in pca.components_:\n",
      "    print \" + \".join(\"%.3f x %s\" % (value, name)\n",
      "                     for value, name in zip(component, iris.feature_names))"
     ],
     "language": "python",
     "metadata": {},
     "outputs": [
      {
       "output_type": "stream",
       "stream": "stdout",
       "text": [
        "Reduced dataset shape: (150, 2)\n",
        "Meaning of the 2 components:"
       ]
      },
      {
       "output_type": "stream",
       "stream": "stdout",
       "text": [
        "\n",
        "0.362 x sepal length (cm) + -0.082 x sepal width (cm) + 0.857 x petal length (cm) + 0.359 x petal width (cm)\n",
        "-0.657 x sepal length (cm) + -0.730 x sepal width (cm) + 0.176 x petal length (cm) + 0.075 x petal width (cm)\n"
       ]
      },
      {
       "metadata": {},
       "output_type": "display_data",
       "png": "[encoded data removed]",
       "text": [
        "<matplotlib.figure.Figure at 0x651ba70>"
       ]
      }
     ],
     "prompt_number": 38
    },
    {
     "cell_type": "markdown",
     "metadata": {},
     "source": [
      "**Clustering**: Clustering groups together observations that are homogeneous with respect to a given criterion, finding ''clusters'' in the data.\n",
      "\n",
      "Note that these clusters will uncover relevent hidden structure of the data only if the criterion used highlights it."
     ]
    },
    {
     "cell_type": "code",
     "collapsed": false,
     "input": [
      "from sklearn.cluster import KMeans\n",
      "k_means = KMeans(n_clusters=3, random_state=0) # Fixing the RNG in kmeans\n",
      "k_means.fit(X_reduced)\n",
      "y_pred = k_means.predict(X_reduced)\n",
      "\n",
      "pl.scatter(X_reduced[:, 0], X_reduced[:, 1], c=y_pred)"
     ],
     "language": "python",
     "metadata": {},
     "outputs": [
      {
       "metadata": {},
       "output_type": "pyout",
       "prompt_number": 39,
       "text": [
        "<matplotlib.collections.PathCollection at 0x69d5570>"
       ]
      },
      {
       "metadata": {},
       "output_type": "display_data",
       "png": "[encoded data removed]",
       "text": [
        "<matplotlib.figure.Figure at 0x69ca850>"
       ]
      }
     ],
     "prompt_number": 39
    },
    {
     "cell_type": "markdown",
     "metadata": {},
     "source": [
      "##Flow chart: how do I choose what to do with my data set?"
     ]
    },
    {
     "cell_type": "markdown",
     "metadata": {},
     "source": [
      "<a href=\"http://scikit-learn.org/dev/tutorial/machine_learning_map/index.html\"><img src=\"http://scikit-learn.org/dev/_static/ml_map.png\" width=100%></a>"
     ]
    },
    {
     "cell_type": "code",
     "collapsed": false,
     "input": [
      "%pylab inline\n",
      "import pylab as pl\n",
      "import numpy as np\n",
      "\n",
      "# Some nice default configuration for plots\n",
      "pl.rcParams['figure.figsize'] = 10, 7.5\n",
      "pl.rcParams['axes.grid'] = True\n",
      "pl.gray()"
     ],
     "language": "python",
     "metadata": {},
     "outputs": [
      {
       "output_type": "stream",
       "stream": "stdout",
       "text": [
        "Populating the interactive namespace from numpy and matplotlib\n"
       ]
      },
      {
       "output_type": "stream",
       "stream": "stderr",
       "text": [
        "WARNING: pylab import has clobbered these variables: ['plt']\n",
        "`%pylab --no-import-all` prevents importing * from pylab and numpy\n"
       ]
      },
      {
       "metadata": {},
       "output_type": "display_data",
       "text": [
        "<matplotlib.figure.Figure at 0x69ea950>"
       ]
      }
     ],
     "prompt_number": 48
    },
    {
     "cell_type": "markdown",
     "metadata": {},
     "source": [
      "##Text Feature Extraction for Classification and Clustering"
     ]
    },
    {
     "cell_type": "markdown",
     "metadata": {},
     "source": [
      "Outline of this section:\n",
      "\n",
      "- Turn a corpus of text documents into **feature vectors** using a **Bag of Words** representation,\n",
      "- Train a simple text classifier on the feature vectors,\n",
      "- Wrap the vectorizer and the classifier with a **pipeline**,\n",
      "- Cross-validation and **model selection** on the pipeline."
     ]
    },
    {
     "cell_type": "markdown",
     "metadata": {},
     "source": [
      "###Text Classification in 20 lines of Python"
     ]
    },
    {
     "cell_type": "markdown",
     "metadata": {},
     "source": [
      "Let's start by implementing a canonical text classification example:\n",
      "\n",
      "- The 20 newsgroups dataset: around 18000 text posts from 20 newsgroups forums\n",
      "- Bag of Words features extraction with TF-IDF weighting\n",
      "- Naive Bayes classifier or Linear Support Vector Machine for the classifier itself"
     ]
    },
    {
     "cell_type": "code",
     "collapsed": false,
     "input": [
      "from sklearn.datasets import load_files\n",
      "from sklearn.feature_extraction.text import TfidfVectorizer\n",
      "from sklearn.naive_bayes import MultinomialNB\n",
      "\n",
      "# Load the text data\n",
      "categories = [\n",
      "    'alt.atheism',\n",
      "    'talk.religion.misc',\n",
      "    'comp.graphics',\n",
      "    'sci.space',\n",
      "]\n",
      "twenty_train_small = load_files('../data/twenty_newsgroups/20news-bydate-train/',\n",
      "    categories=categories, charset='latin-1')\n",
      "twenty_test_small = load_files('../data/twenty_newsgroups/20news-bydate-test/',\n",
      "    categories=categories, charset='latin-1')\n",
      "\n",
      "# Turn the text documents into vectors of word frequencies\n",
      "vectorizer = TfidfVectorizer(min_df=2)\n",
      "X_train = vectorizer.fit_transform(twenty_train_small.data)\n",
      "y_train = twenty_train_small.target\n",
      "\n",
      "# Fit a classifier on the training set\n",
      "classifier = MultinomialNB().fit(X_train, y_train)\n",
      "print(\"Training score: {0:.1f}%\".format(\n",
      "    classifier.score(X_train, y_train) * 100))\n",
      "\n",
      "# Evaluate the classifier on the testing set\n",
      "X_test = vectorizer.transform(twenty_test_small.data)\n",
      "y_test = twenty_test_small.target\n",
      "print(\"Testing score: {0:.1f}%\".format(\n",
      "    classifier.score(X_test, y_test) * 100))"
     ],
     "language": "python",
     "metadata": {},
     "outputs": [
      {
       "output_type": "stream",
       "stream": "stderr",
       "text": [
        "/Library/Frameworks/Python.framework/Versions/7.2/lib/python2.7/site-packages/scikit_learn-0.14.1-py2.7-macosx-10.5-i386.egg/sklearn/datasets/base.py:161: DeprecationWarning: The charset parameter is deprecated as of version 0.14 and will be removed in 0.16. Use encode instead.\n",
        "  DeprecationWarning)\n",
        "/Library/Frameworks/Python.framework/Versions/7.2/lib/python2.7/site-packages/scikit_learn-0.14.1-py2.7-macosx-10.5-i386.egg/sklearn/datasets/base.py:161: DeprecationWarning: The charset parameter is deprecated as of version 0.14 and will be removed in 0.16. Use encode instead.\n",
        "  DeprecationWarning)\n"
       ]
      },
      {
       "output_type": "stream",
       "stream": "stdout",
       "text": [
        "Training score: 95.1%\n",
        "Testing score: 85.1%"
       ]
      },
      {
       "output_type": "stream",
       "stream": "stdout",
       "text": [
        "\n"
       ]
      }
     ],
     "prompt_number": 51
    },
    {
     "cell_type": "markdown",
     "metadata": {},
     "source": [
      "Here is a workflow diagram summary of what happened previously:"
     ]
    },
    {
     "cell_type": "markdown",
     "metadata": {},
     "source": [
      "<img src=\"https://raw.github.com/jakevdp/sklearn_scipy2013/master/notebooks/figures/supervised_scikit_learn.png\" style=\"width: 80%\" />"
     ]
    },
    {
     "cell_type": "markdown",
     "metadata": {},
     "source": [
      "###Loading the Dataset"
     ]
    },
    {
     "cell_type": "markdown",
     "metadata": {},
     "source": [
      "Let's explore the dataset loading utility without passing a list of categories: in this case we load the full 20 newsgroups dataset in memory. The source website for the 20 newsgroups already provides a date-based train / test split that is made available using the `subset` keyword argument: "
     ]
    },
    {
     "cell_type": "code",
     "collapsed": true,
     "input": [
      "ls -l ../data/"
     ],
     "language": "python",
     "metadata": {},
     "outputs": [
      {
       "output_type": "stream",
       "stream": "stdout",
       "text": [
        "total 1744\r\n",
        "drwxr-xr-x  3 marcelcaraciolo  staff     102 Sep 26 16:54 \u001b[34mlabeled_faces_wild\u001b[m\u001b[m/\r\n",
        "drwxr-xr-x  3 marcelcaraciolo  staff     102 Sep 26 16:54 \u001b[34mlanguages\u001b[m\u001b[m/\r\n",
        "drwxr-xr-x  6 marcelcaraciolo  staff     204 Aug  4 02:30 \u001b[34mml-1m\u001b[m\u001b[m/\r\n",
        "-rw-r--r--@ 1 marcelcaraciolo  staff    1047 Sep 29 23:46 movie_rating.csv\r\n",
        "drwxr-xr-x  3 marcelcaraciolo  staff     102 Sep 26 16:54 \u001b[34mmovie_reviews\u001b[m\u001b[m/\r\n",
        "-rw-r--r--  1 marcelcaraciolo  staff  371839 Sep 29 20:27 movielens_test.csv\r\n",
        "-rw-r--r--  1 marcelcaraciolo  staff  512859 Sep 29 20:27 movielens_train.csv\r\n",
        "drwxr-xr-x  5 marcelcaraciolo  staff     170 Sep 30 17:16 \u001b[34mtwenty_newsgroups\u001b[m\u001b[m/\r\n"
       ]
      }
     ],
     "prompt_number": 55
    },
    {
     "cell_type": "code",
     "collapsed": true,
     "input": [
      "ls -lh ../data/twenty_newsgroups/20news-bydate-train"
     ],
     "language": "python",
     "metadata": {},
     "outputs": [
      {
       "output_type": "stream",
       "stream": "stdout",
       "text": [
        "total 0\r\n",
        "drwxr-xr-x  482 marcelcaraciolo  staff    16K Mar 18  2003 \u001b[34malt.atheism\u001b[m\u001b[m/\r\n",
        "drwxr-xr-x  586 marcelcaraciolo  staff    19K Mar 18  2003 \u001b[34mcomp.graphics\u001b[m\u001b[m/\r\n",
        "drwxr-xr-x  593 marcelcaraciolo  staff    20K Mar 18  2003 \u001b[34mcomp.os.ms-windows.misc\u001b[m\u001b[m/\r\n",
        "drwxr-xr-x  592 marcelcaraciolo  staff    20K Mar 18  2003 \u001b[34mcomp.sys.ibm.pc.hardware\u001b[m\u001b[m/\r\n",
        "drwxr-xr-x  580 marcelcaraciolo  staff    19K Mar 18  2003 \u001b[34mcomp.sys.mac.hardware\u001b[m\u001b[m/\r\n",
        "drwxr-xr-x  595 marcelcaraciolo  staff    20K Mar 18  2003 \u001b[34mcomp.windows.x\u001b[m\u001b[m/\r\n",
        "drwxr-xr-x  587 marcelcaraciolo  staff    19K Mar 18  2003 \u001b[34mmisc.forsale\u001b[m\u001b[m/\r\n",
        "drwxr-xr-x  596 marcelcaraciolo  staff    20K Mar 18  2003 \u001b[34mrec.autos\u001b[m\u001b[m/\r\n",
        "drwxr-xr-x  600 marcelcaraciolo  staff    20K Mar 18  2003 \u001b[34mrec.motorcycles\u001b[m\u001b[m/\r\n",
        "drwxr-xr-x  599 marcelcaraciolo  staff    20K Mar 18  2003 \u001b[34mrec.sport.baseball\u001b[m\u001b[m/\r\n",
        "drwxr-xr-x  602 marcelcaraciolo  staff    20K Mar 18  2003 \u001b[34mrec.sport.hockey\u001b[m\u001b[m/\r\n",
        "drwxr-xr-x  597 marcelcaraciolo  staff    20K Mar 18  2003 \u001b[34msci.crypt\u001b[m\u001b[m/\r\n",
        "drwxr-xr-x  593 marcelcaraciolo  staff    20K Mar 18  2003 \u001b[34msci.electronics\u001b[m\u001b[m/\r\n",
        "drwxr-xr-x  596 marcelcaraciolo  staff    20K Mar 18  2003 \u001b[34msci.med\u001b[m\u001b[m/\r\n",
        "drwxr-xr-x  595 marcelcaraciolo  staff    20K Mar 18  2003 \u001b[34msci.space\u001b[m\u001b[m/\r\n",
        "drwxr-xr-x  601 marcelcaraciolo  staff    20K Mar 18  2003 \u001b[34msoc.religion.christian\u001b[m\u001b[m/\r\n",
        "drwxr-xr-x  548 marcelcaraciolo  staff    18K Mar 18  2003 \u001b[34mtalk.politics.guns\u001b[m\u001b[m/\r\n",
        "drwxr-xr-x  566 marcelcaraciolo  staff    19K Mar 18  2003 \u001b[34mtalk.politics.mideast\u001b[m\u001b[m/\r\n",
        "drwxr-xr-x  467 marcelcaraciolo  staff    16K Mar 18  2003 \u001b[34mtalk.politics.misc\u001b[m\u001b[m/\r\n",
        "drwxr-xr-x  379 marcelcaraciolo  staff    13K Mar 18  2003 \u001b[34mtalk.religion.misc\u001b[m\u001b[m/\r\n"
       ]
      }
     ],
     "prompt_number": 56
    },
    {
     "cell_type": "code",
     "collapsed": true,
     "input": [
      "ls -lh ../data/twenty_newsgroups/20news-bydate-train/alt.atheism/"
     ],
     "language": "python",
     "metadata": {},
     "outputs": [
      {
       "output_type": "stream",
       "stream": "stdout",
       "text": [
        "total 4480\r\n",
        "-rw-r--r--  1 marcelcaraciolo  staff    12K Mar 18  2003 49960\r\n",
        "-rw-r--r--  1 marcelcaraciolo  staff    31K Mar 18  2003 51060\r\n",
        "-rw-r--r--  1 marcelcaraciolo  staff   4.0K Mar 18  2003 51119\r\n",
        "-rw-r--r--  1 marcelcaraciolo  staff   1.6K Mar 18  2003 51120\r\n",
        "-rw-r--r--  1 marcelcaraciolo  staff   773B Mar 18  2003 51121\r\n",
        "-rw-r--r--  1 marcelcaraciolo  staff   4.8K Mar 18  2003 51122\r\n",
        "-rw-r--r--  1 marcelcaraciolo  staff   618B Mar 18  2003 51123\r\n",
        "-rw-r--r--  1 marcelcaraciolo  staff   1.4K Mar 18  2003 51124\r\n",
        "-rw-r--r--  1 marcelcaraciolo  staff   2.7K Mar 18  2003 51125\r\n",
        "-rw-r--r--  1 marcelcaraciolo  staff   427B Mar 18  2003 51126\r\n",
        "-rw-r--r--  1 marcelcaraciolo  staff   742B Mar 18  2003 51127\r\n",
        "-rw-r--r--  1 marcelcaraciolo  staff   650B Mar 18  2003 51128\r\n",
        "-rw-r--r--  1 marcelcaraciolo  staff   1.3K Mar 18  2003 51130\r\n",
        "-rw-r--r--  1 marcelcaraciolo  staff   2.3K Mar 18  2003 51131\r\n",
        "-rw-r--r--  1 marcelcaraciolo  staff   2.6K Mar 18  2003 51132\r\n",
        "-rw-r--r--  1 marcelcaraciolo  staff   1.5K Mar 18  2003 51133\r\n",
        "-rw-r--r--  1 marcelcaraciolo  staff   1.2K Mar 18  2003 51134\r\n",
        "-rw-r--r--  1 marcelcaraciolo  staff   1.6K Mar 18  2003 51135\r\n",
        "-rw-r--r--  1 marcelcaraciolo  staff   2.1K Mar 18  2003 51136\r\n",
        "-rw-r--r--  1 marcelcaraciolo  staff   1.3K Mar 18  2003 51139\r\n",
        "-rw-r--r--  1 marcelcaraciolo  staff   409B Mar 18  2003 51140\r\n",
        "-rw-r--r--  1 marcelcaraciolo  staff   940B Mar 18  2003 51141\r\n",
        "-rw-r--r--  1 marcelcaraciolo  staff   9.0K Mar 18  2003 51142\r\n",
        "-rw-r--r--  1 marcelcaraciolo  staff   632B Mar 18  2003 51143\r\n",
        "-rw-r--r--  1 marcelcaraciolo  staff   1.2K Mar 18  2003 51144\r\n",
        "-rw-r--r--  1 marcelcaraciolo  staff   609B Mar 18  2003 51145\r\n",
        "-rw-r--r--  1 marcelcaraciolo  staff   631B Mar 18  2003 51146\r\n",
        "-rw-r--r--  1 marcelcaraciolo  staff   1.0K Mar 18  2003 51147\r\n",
        "-rw-r--r--  1 marcelcaraciolo  staff   1.8K Mar 18  2003 51148\r\n",
        "-rw-r--r--  1 marcelcaraciolo  staff   405B Mar 18  2003 51149\r\n",
        "-rw-r--r--  1 marcelcaraciolo  staff   696B Mar 18  2003 51150\r\n",
        "-rw-r--r--  1 marcelcaraciolo  staff   5.5K Mar 18  2003 51151\r\n",
        "-rw-r--r--  1 marcelcaraciolo  staff   1.4K Mar 18  2003 51152\r\n",
        "-rw-r--r--  1 marcelcaraciolo  staff   5.0K Mar 18  2003 51153\r\n",
        "-rw-r--r--  1 marcelcaraciolo  staff   1.3K Mar 18  2003 51154\r\n",
        "-rw-r--r--  1 marcelcaraciolo  staff   1.6K Mar 18  2003 51155\r\n",
        "-rw-r--r--  1 marcelcaraciolo  staff   5.0K Mar 18  2003 51156\r\n",
        "-rw-r--r--  1 marcelcaraciolo  staff   1.8K Mar 18  2003 51157\r\n",
        "-rw-r--r--  1 marcelcaraciolo  staff   604B Mar 18  2003 51158\r\n",
        "-rw-r--r--  1 marcelcaraciolo  staff   1.4K Mar 18  2003 51159\r\n",
        "-rw-r--r--  1 marcelcaraciolo  staff   1.0K Mar 18  2003 51160\r\n",
        "-rw-r--r--  1 marcelcaraciolo  staff   1.4K Mar 18  2003 51161\r\n",
        "-rw-r--r--  1 marcelcaraciolo  staff   2.9K Mar 18  2003 51162\r\n",
        "-rw-r--r--  1 marcelcaraciolo  staff   1.1K Mar 18  2003 51163\r\n",
        "-rw-r--r--  1 marcelcaraciolo  staff   2.3K Mar 18  2003 51164\r\n",
        "-rw-r--r--  1 marcelcaraciolo  staff   4.8K Mar 18  2003 51165\r\n",
        "-rw-r--r--  1 marcelcaraciolo  staff   1.2K Mar 18  2003 51169\r\n",
        "-rw-r--r--  1 marcelcaraciolo  staff   868B Mar 18  2003 51170\r\n",
        "-rw-r--r--  1 marcelcaraciolo  staff   721B Mar 18  2003 51171\r\n",
        "-rw-r--r--  1 marcelcaraciolo  staff   3.0K Mar 18  2003 51172\r\n",
        "-rw-r--r--  1 marcelcaraciolo  staff   1.9K Mar 18  2003 51173\r\n",
        "-rw-r--r--  1 marcelcaraciolo  staff   645B Mar 18  2003 51174\r\n",
        "-rw-r--r--  1 marcelcaraciolo  staff   2.4K Mar 18  2003 51175\r\n",
        "-rw-r--r--  1 marcelcaraciolo  staff   2.9K Mar 18  2003 51176\r\n",
        "-rw-r--r--  1 marcelcaraciolo  staff   1.3K Mar 18  2003 51177\r\n",
        "-rw-r--r--  1 marcelcaraciolo  staff   879B Mar 18  2003 51178\r\n",
        "-rw-r--r--  1 marcelcaraciolo  staff   1.3K Mar 18  2003 51179\r\n",
        "-rw-r--r--  1 marcelcaraciolo  staff   994B Mar 18  2003 51180\r\n",
        "-rw-r--r--  1 marcelcaraciolo  staff   1.2K Mar 18  2003 51181\r\n",
        "-rw-r--r--  1 marcelcaraciolo  staff   2.2K Mar 18  2003 51182\r\n",
        "-rw-r--r--  1 marcelcaraciolo  staff   1.7K Mar 18  2003 51183\r\n",
        "-rw-r--r--  1 marcelcaraciolo  staff   1.0K Mar 18  2003 51184\r\n",
        "-rw-r--r--  1 marcelcaraciolo  staff   1.2K Mar 18  2003 51185\r\n",
        "-rw-r--r--  1 marcelcaraciolo  staff   949B Mar 18  2003 51186\r\n",
        "-rw-r--r--  1 marcelcaraciolo  staff   1.9K Mar 18  2003 51187\r\n",
        "-rw-r--r--  1 marcelcaraciolo  staff   1.1K Mar 18  2003 51188\r\n",
        "-rw-r--r--  1 marcelcaraciolo  staff   834B Mar 18  2003 51189\r\n",
        "-rw-r--r--  1 marcelcaraciolo  staff   895B Mar 18  2003 51190\r\n",
        "-rw-r--r--  1 marcelcaraciolo  staff   776B Mar 18  2003 51191\r\n",
        "-rw-r--r--  1 marcelcaraciolo  staff   1.6K Mar 18  2003 51192\r\n",
        "-rw-r--r--  1 marcelcaraciolo  staff   1.8K Mar 18  2003 51193\r\n",
        "-rw-r--r--  1 marcelcaraciolo  staff   1.4K Mar 18  2003 51194\r\n",
        "-rw-r--r--  1 marcelcaraciolo  staff   964B Mar 18  2003 51195\r\n",
        "-rw-r--r--  1 marcelcaraciolo  staff   2.4K Mar 18  2003 51196\r\n",
        "-rw-r--r--  1 marcelcaraciolo  staff   759B Mar 18  2003 51197\r\n",
        "-rw-r--r--  1 marcelcaraciolo  staff   1.5K Mar 18  2003 51198\r\n",
        "-rw-r--r--  1 marcelcaraciolo  staff   1.0K Mar 18  2003 51199\r\n",
        "-rw-r--r--  1 marcelcaraciolo  staff   1.9K Mar 18  2003 51200\r\n",
        "-rw-r--r--  1 marcelcaraciolo  staff   916B Mar 18  2003 51201\r\n",
        "-rw-r--r--  1 marcelcaraciolo  staff   1.9K Mar 18  2003 51202\r\n",
        "-rw-r--r--  1 marcelcaraciolo  staff   1.5K Mar 18  2003 51203\r\n",
        "-rw-r--r--  1 marcelcaraciolo  staff   846B Mar 18  2003 51204\r\n",
        "-rw-r--r--  1 marcelcaraciolo  staff   1.4K Mar 18  2003 51205\r\n",
        "-rw-r--r--  1 marcelcaraciolo  staff   881B Mar 18  2003 51206\r\n",
        "-rw-r--r--  1 marcelcaraciolo  staff   6.2K Mar 18  2003 51208\r\n",
        "-rw-r--r--  1 marcelcaraciolo  staff   1.7K Mar 18  2003 51209\r\n",
        "-rw-r--r--  1 marcelcaraciolo  staff   1.7K Mar 18  2003 51210\r\n",
        "-rw-r--r--  1 marcelcaraciolo  staff    10K Mar 18  2003 51211\r\n",
        "-rw-r--r--  1 marcelcaraciolo  staff   2.5K Mar 18  2003 51212\r\n",
        "-rw-r--r--  1 marcelcaraciolo  staff   1.6K Mar 18  2003 51213\r\n",
        "-rw-r--r--  1 marcelcaraciolo  staff   636B Mar 18  2003 51214\r\n",
        "-rw-r--r--  1 marcelcaraciolo  staff   989B Mar 18  2003 51215\r\n",
        "-rw-r--r--  1 marcelcaraciolo  staff   668B Mar 18  2003 51216\r\n",
        "-rw-r--r--  1 marcelcaraciolo  staff   2.8K Mar 18  2003 51217\r\n",
        "-rw-r--r--  1 marcelcaraciolo  staff   1.7K Mar 18  2003 51218\r\n",
        "-rw-r--r--  1 marcelcaraciolo  staff   905B Mar 18  2003 51219\r\n",
        "-rw-r--r--  1 marcelcaraciolo  staff   2.4K Mar 18  2003 51220\r\n",
        "-rw-r--r--  1 marcelcaraciolo  staff   1.0K Mar 18  2003 51221\r\n",
        "-rw-r--r--  1 marcelcaraciolo  staff   1.7K Mar 18  2003 51222\r\n",
        "-rw-r--r--  1 marcelcaraciolo  staff   1.0K Mar 18  2003 51223\r\n",
        "-rw-r--r--  1 marcelcaraciolo  staff   2.1K Mar 18  2003 51224\r\n",
        "-rw-r--r--  1 marcelcaraciolo  staff   1.5K Mar 18  2003 51225\r\n",
        "-rw-r--r--  1 marcelcaraciolo  staff   3.4K Mar 18  2003 51226\r\n",
        "-rw-r--r--  1 marcelcaraciolo  staff   704B Mar 18  2003 51227\r\n",
        "-rw-r--r--  1 marcelcaraciolo  staff   949B Mar 18  2003 51228\r\n",
        "-rw-r--r--  1 marcelcaraciolo  staff   714B Mar 18  2003 51229\r\n",
        "-rw-r--r--  1 marcelcaraciolo  staff   966B Mar 18  2003 51230\r\n",
        "-rw-r--r--  1 marcelcaraciolo  staff   2.9K Mar 18  2003 51231\r\n",
        "-rw-r--r--  1 marcelcaraciolo  staff   871B Mar 18  2003 51232\r\n",
        "-rw-r--r--  1 marcelcaraciolo  staff   1.0K Mar 18  2003 51233\r\n",
        "-rw-r--r--  1 marcelcaraciolo  staff   1.5K Mar 18  2003 51234\r\n",
        "-rw-r--r--  1 marcelcaraciolo  staff   2.4K Mar 18  2003 51235\r\n",
        "-rw-r--r--  1 marcelcaraciolo  staff   1.2K Mar 18  2003 51236\r\n",
        "-rw-r--r--  1 marcelcaraciolo  staff   564B Mar 18  2003 51237\r\n",
        "-rw-r--r--  1 marcelcaraciolo  staff    11K Mar 18  2003 51238\r\n",
        "-rw-r--r--  1 marcelcaraciolo  staff   1.3K Mar 18  2003 51239\r\n",
        "-rw-r--r--  1 marcelcaraciolo  staff   749B Mar 18  2003 51240\r\n",
        "-rw-r--r--  1 marcelcaraciolo  staff   932B Mar 18  2003 51241\r\n",
        "-rw-r--r--  1 marcelcaraciolo  staff   1.2K Mar 18  2003 51242\r\n",
        "-rw-r--r--  1 marcelcaraciolo  staff   2.2K Mar 18  2003 51243\r\n",
        "-rw-r--r--  1 marcelcaraciolo  staff   554B Mar 18  2003 51244\r\n",
        "-rw-r--r--  1 marcelcaraciolo  staff   1.3K Mar 18  2003 51245\r\n",
        "-rw-r--r--  1 marcelcaraciolo  staff   1.7K Mar 18  2003 51246\r\n",
        "-rw-r--r--  1 marcelcaraciolo  staff   1.7K Mar 18  2003 51247\r\n",
        "-rw-r--r--  1 marcelcaraciolo  staff   1.6K Mar 18  2003 51249\r\n",
        "-rw-r--r--  1 marcelcaraciolo  staff   2.8K Mar 18  2003 51250\r\n",
        "-rw-r--r--  1 marcelcaraciolo  staff   570B Mar 18  2003 51251\r\n",
        "-rw-r--r--  1 marcelcaraciolo  staff   1.8K Mar 18  2003 51252\r\n",
        "-rw-r--r--  1 marcelcaraciolo  staff   3.1K Mar 18  2003 51253\r\n",
        "-rw-r--r--  1 marcelcaraciolo  staff   2.9K Mar 18  2003 51254\r\n",
        "-rw-r--r--  1 marcelcaraciolo  staff   748B Mar 18  2003 51255\r\n",
        "-rw-r--r--  1 marcelcaraciolo  staff   2.3K Mar 18  2003 51256\r\n",
        "-rw-r--r--  1 marcelcaraciolo  staff   1.2K Mar 18  2003 51258\r\n",
        "-rw-r--r--  1 marcelcaraciolo  staff   1.7K Mar 18  2003 51259\r\n",
        "-rw-r--r--  1 marcelcaraciolo  staff   6.2K Mar 18  2003 51260\r\n",
        "-rw-r--r--  1 marcelcaraciolo  staff   1.6K Mar 18  2003 51261\r\n",
        "-rw-r--r--  1 marcelcaraciolo  staff   1.3K Mar 18  2003 51262\r\n",
        "-rw-r--r--  1 marcelcaraciolo  staff   1.2K Mar 18  2003 51265\r\n",
        "-rw-r--r--  1 marcelcaraciolo  staff   456B Mar 18  2003 51266\r\n",
        "-rw-r--r--  1 marcelcaraciolo  staff   816B Mar 18  2003 51267\r\n",
        "-rw-r--r--  1 marcelcaraciolo  staff   2.4K Mar 18  2003 51268\r\n",
        "-rw-r--r--  1 marcelcaraciolo  staff   1.0K Mar 18  2003 51269\r\n",
        "-rw-r--r--  1 marcelcaraciolo  staff   3.4K Mar 18  2003 51270\r\n",
        "-rw-r--r--  1 marcelcaraciolo  staff   1.3K Mar 18  2003 51271\r\n",
        "-rw-r--r--  1 marcelcaraciolo  staff   2.0K Mar 18  2003 51272\r\n",
        "-rw-r--r--  1 marcelcaraciolo  staff   790B Mar 18  2003 51273\r\n",
        "-rw-r--r--  1 marcelcaraciolo  staff   1.6K Mar 18  2003 51274\r\n",
        "-rw-r--r--  1 marcelcaraciolo  staff   2.5K Mar 18  2003 51275\r\n",
        "-rw-r--r--  1 marcelcaraciolo  staff   4.4K Mar 18  2003 51276\r\n",
        "-rw-r--r--  1 marcelcaraciolo  staff   1.5K Mar 18  2003 51277\r\n",
        "-rw-r--r--  1 marcelcaraciolo  staff   6.2K Mar 18  2003 51278\r\n",
        "-rw-r--r--  1 marcelcaraciolo  staff   963B Mar 18  2003 51279\r\n",
        "-rw-r--r--  1 marcelcaraciolo  staff   2.0K Mar 18  2003 51280\r\n",
        "-rw-r--r--  1 marcelcaraciolo  staff   1.1K Mar 18  2003 51281\r\n",
        "-rw-r--r--  1 marcelcaraciolo  staff   618B Mar 18  2003 51282\r\n",
        "-rw-r--r--  1 marcelcaraciolo  staff   2.7K Mar 18  2003 51283\r\n",
        "-rw-r--r--  1 marcelcaraciolo  staff   1.0K Mar 18  2003 51284\r\n",
        "-rw-r--r--  1 marcelcaraciolo  staff   1.3K Mar 18  2003 51285\r\n",
        "-rw-r--r--  1 marcelcaraciolo  staff   601B Mar 18  2003 51286\r\n",
        "-rw-r--r--  1 marcelcaraciolo  staff   751B Mar 18  2003 51287\r\n",
        "-rw-r--r--  1 marcelcaraciolo  staff   1.3K Mar 18  2003 51288\r\n",
        "-rw-r--r--  1 marcelcaraciolo  staff   8.0K Mar 18  2003 51290\r\n",
        "-rw-r--r--  1 marcelcaraciolo  staff   1.0K Mar 18  2003 51291\r\n",
        "-rw-r--r--  1 marcelcaraciolo  staff   2.9K Mar 18  2003 51292\r\n",
        "-rw-r--r--  1 marcelcaraciolo  staff   1.2K Mar 18  2003 51293\r\n",
        "-rw-r--r--  1 marcelcaraciolo  staff   1.8K Mar 18  2003 51294\r\n",
        "-rw-r--r--  1 marcelcaraciolo  staff   1.9K Mar 18  2003 51295\r\n",
        "-rw-r--r--  1 marcelcaraciolo  staff   1.7K Mar 18  2003 51296\r\n",
        "-rw-r--r--  1 marcelcaraciolo  staff   4.2K Mar 18  2003 51297\r\n",
        "-rw-r--r--  1 marcelcaraciolo  staff   2.6K Mar 18  2003 51298\r\n",
        "-rw-r--r--  1 marcelcaraciolo  staff   2.2K Mar 18  2003 51299\r\n",
        "-rw-r--r--  1 marcelcaraciolo  staff   2.3K Mar 18  2003 51300\r\n",
        "-rw-r--r--  1 marcelcaraciolo  staff   6.3K Mar 18  2003 51301\r\n",
        "-rw-r--r--  1 marcelcaraciolo  staff   1.3K Mar 18  2003 51302\r\n",
        "-rw-r--r--  1 marcelcaraciolo  staff   1.9K Mar 18  2003 51303\r\n",
        "-rw-r--r--  1 marcelcaraciolo  staff    10K Mar 18  2003 51304\r\n",
        "-rw-r--r--  1 marcelcaraciolo  staff   1.5K Mar 18  2003 51305\r\n",
        "-rw-r--r--  1 marcelcaraciolo  staff   1.4K Mar 18  2003 51306\r\n",
        "-rw-r--r--  1 marcelcaraciolo  staff   4.1K Mar 18  2003 51307\r\n",
        "-rw-r--r--  1 marcelcaraciolo  staff   6.2K Mar 18  2003 51308\r\n",
        "-rw-r--r--  1 marcelcaraciolo  staff   1.0K Mar 18  2003 51309\r\n",
        "-rw-r--r--  1 marcelcaraciolo  staff   768B Mar 18  2003 51310\r\n",
        "-rw-r--r--  1 marcelcaraciolo  staff   1.0K Mar 18  2003 51311\r\n",
        "-rw-r--r--  1 marcelcaraciolo  staff   930B Mar 18  2003 51312\r\n",
        "-rw-r--r--  1 marcelcaraciolo  staff   771B Mar 18  2003 51313\r\n",
        "-rw-r--r--  1 marcelcaraciolo  staff   670B Mar 18  2003 51314\r\n",
        "-rw-r--r--  1 marcelcaraciolo  staff   1.1K Mar 18  2003 51315\r\n",
        "-rw-r--r--  1 marcelcaraciolo  staff   3.7K Mar 18  2003 51316\r\n",
        "-rw-r--r--  1 marcelcaraciolo  staff   406B Mar 18  2003 51317\r\n",
        "-rw-r--r--  1 marcelcaraciolo  staff   5.4K Mar 18  2003 51318\r\n",
        "-rw-r--r--  1 marcelcaraciolo  staff   9.6K Mar 18  2003 51319\r\n",
        "-rw-r--r--  1 marcelcaraciolo  staff   2.1K Mar 18  2003 51320\r\n",
        "-rw-r--r--  1 marcelcaraciolo  staff    29K Mar 18  2003 52499\r\n",
        "-rw-r--r--  1 marcelcaraciolo  staff    25K Mar 18  2003 52909\r\n",
        "-rw-r--r--  1 marcelcaraciolo  staff   5.8K Mar 18  2003 52910\r\n",
        "-rw-r--r--  1 marcelcaraciolo  staff   819B Mar 18  2003 53055\r\n",
        "-rw-r--r--  1 marcelcaraciolo  staff   857B Mar 18  2003 53056\r\n",
        "-rw-r--r--  1 marcelcaraciolo  staff   755B Mar 18  2003 53057\r\n",
        "-rw-r--r--  1 marcelcaraciolo  staff   4.4K Mar 18  2003 53058\r\n",
        "-rw-r--r--  1 marcelcaraciolo  staff   2.1K Mar 18  2003 53059\r\n",
        "-rw-r--r--  1 marcelcaraciolo  staff   1.1K Mar 18  2003 53062\r\n",
        "-rw-r--r--  1 marcelcaraciolo  staff   1.6K Mar 18  2003 53064\r\n",
        "-rw-r--r--  1 marcelcaraciolo  staff   515B Mar 18  2003 53065\r\n",
        "-rw-r--r--  1 marcelcaraciolo  staff   9.2K Mar 18  2003 53066\r\n",
        "-rw-r--r--  1 marcelcaraciolo  staff   2.4K Mar 18  2003 53067\r\n",
        "-rw-r--r--  1 marcelcaraciolo  staff   610B Mar 18  2003 53069\r\n",
        "-rw-r--r--  1 marcelcaraciolo  staff   759B Mar 18  2003 53070\r\n",
        "-rw-r--r--  1 marcelcaraciolo  staff   2.3K Mar 18  2003 53071\r\n",
        "-rw-r--r--  1 marcelcaraciolo  staff   1.5K Mar 18  2003 53072\r\n",
        "-rw-r--r--  1 marcelcaraciolo  staff   1.9K Mar 18  2003 53073\r\n",
        "-rw-r--r--  1 marcelcaraciolo  staff   2.1K Mar 18  2003 53075\r\n",
        "-rw-r--r--  1 marcelcaraciolo  staff   411B Mar 18  2003 53078\r\n",
        "-rw-r--r--  1 marcelcaraciolo  staff   1.3K Mar 18  2003 53081\r\n",
        "-rw-r--r--  1 marcelcaraciolo  staff   962B Mar 18  2003 53082\r\n",
        "-rw-r--r--  1 marcelcaraciolo  staff   1.3K Mar 18  2003 53083\r\n",
        "-rw-r--r--  1 marcelcaraciolo  staff   2.0K Mar 18  2003 53085\r\n",
        "-rw-r--r--  1 marcelcaraciolo  staff   1.1K Mar 18  2003 53086\r\n",
        "-rw-r--r--  1 marcelcaraciolo  staff   247B Mar 18  2003 53087\r\n",
        "-rw-r--r--  1 marcelcaraciolo  staff   3.8K Mar 18  2003 53090\r\n",
        "-rw-r--r--  1 marcelcaraciolo  staff   1.1K Mar 18  2003 53093\r\n",
        "-rw-r--r--  1 marcelcaraciolo  staff   1.1K Mar 18  2003 53094\r\n",
        "-rw-r--r--  1 marcelcaraciolo  staff   1.0K Mar 18  2003 53095\r\n",
        "-rw-r--r--  1 marcelcaraciolo  staff   863B Mar 18  2003 53096\r\n",
        "-rw-r--r--  1 marcelcaraciolo  staff   1.1K Mar 18  2003 53097\r\n",
        "-rw-r--r--  1 marcelcaraciolo  staff   1.2K Mar 18  2003 53098\r\n",
        "-rw-r--r--  1 marcelcaraciolo  staff   1.1K Mar 18  2003 53099\r\n",
        "-rw-r--r--  1 marcelcaraciolo  staff   2.0K Mar 18  2003 53106\r\n",
        "-rw-r--r--  1 marcelcaraciolo  staff   784B Mar 18  2003 53108\r\n",
        "-rw-r--r--  1 marcelcaraciolo  staff   2.3K Mar 18  2003 53110\r\n",
        "-rw-r--r--  1 marcelcaraciolo  staff   712B Mar 18  2003 53111\r\n",
        "-rw-r--r--  1 marcelcaraciolo  staff   2.4K Mar 18  2003 53112\r\n",
        "-rw-r--r--  1 marcelcaraciolo  staff   2.6K Mar 18  2003 53113\r\n",
        "-rw-r--r--  1 marcelcaraciolo  staff   1.7K Mar 18  2003 53114\r\n",
        "-rw-r--r--  1 marcelcaraciolo  staff   1.5K Mar 18  2003 53117\r\n",
        "-rw-r--r--  1 marcelcaraciolo  staff   2.8K Mar 18  2003 53118\r\n",
        "-rw-r--r--  1 marcelcaraciolo  staff   4.1K Mar 18  2003 53120\r\n",
        "-rw-r--r--  1 marcelcaraciolo  staff   1.8K Mar 18  2003 53121\r\n",
        "-rw-r--r--  1 marcelcaraciolo  staff   2.4K Mar 18  2003 53122\r\n",
        "-rw-r--r--  1 marcelcaraciolo  staff   1.2K Mar 18  2003 53123\r\n",
        "-rw-r--r--  1 marcelcaraciolo  staff   3.4K Mar 18  2003 53124\r\n",
        "-rw-r--r--  1 marcelcaraciolo  staff   1.8K Mar 18  2003 53125\r\n",
        "-rw-r--r--  1 marcelcaraciolo  staff   1.2K Mar 18  2003 53126\r\n",
        "-rw-r--r--  1 marcelcaraciolo  staff   826B Mar 18  2003 53127\r\n",
        "-rw-r--r--  1 marcelcaraciolo  staff   958B Mar 18  2003 53130\r\n",
        "-rw-r--r--  1 marcelcaraciolo  staff   1.5K Mar 18  2003 53131\r\n",
        "-rw-r--r--  1 marcelcaraciolo  staff   1.0K Mar 18  2003 53132\r\n",
        "-rw-r--r--  1 marcelcaraciolo  staff   640B Mar 18  2003 53133\r\n",
        "-rw-r--r--  1 marcelcaraciolo  staff   1.3K Mar 18  2003 53134\r\n",
        "-rw-r--r--  1 marcelcaraciolo  staff   2.1K Mar 18  2003 53135\r\n",
        "-rw-r--r--  1 marcelcaraciolo  staff   4.2K Mar 18  2003 53136\r\n",
        "-rw-r--r--  1 marcelcaraciolo  staff   4.8K Mar 18  2003 53137\r\n",
        "-rw-r--r--  1 marcelcaraciolo  staff   1.3K Mar 18  2003 53139\r\n",
        "-rw-r--r--  1 marcelcaraciolo  staff   3.0K Mar 18  2003 53140\r\n",
        "-rw-r--r--  1 marcelcaraciolo  staff   2.1K Mar 18  2003 53141\r\n",
        "-rw-r--r--  1 marcelcaraciolo  staff   456B Mar 18  2003 53142\r\n",
        "-rw-r--r--  1 marcelcaraciolo  staff   760B Mar 18  2003 53143\r\n",
        "-rw-r--r--  1 marcelcaraciolo  staff   768B Mar 18  2003 53144\r\n",
        "-rw-r--r--  1 marcelcaraciolo  staff   1.0K Mar 18  2003 53145\r\n",
        "-rw-r--r--  1 marcelcaraciolo  staff   1.2K Mar 18  2003 53149\r\n",
        "-rw-r--r--  1 marcelcaraciolo  staff   2.1K Mar 18  2003 53150\r\n",
        "-rw-r--r--  1 marcelcaraciolo  staff   1.3K Mar 18  2003 53151\r\n",
        "-rw-r--r--  1 marcelcaraciolo  staff   1.9K Mar 18  2003 53153\r\n",
        "-rw-r--r--  1 marcelcaraciolo  staff   1.2K Mar 18  2003 53154\r\n",
        "-rw-r--r--  1 marcelcaraciolo  staff   1.2K Mar 18  2003 53157\r\n",
        "-rw-r--r--  1 marcelcaraciolo  staff   2.0K Mar 18  2003 53158\r\n",
        "-rw-r--r--  1 marcelcaraciolo  staff   819B Mar 18  2003 53159\r\n",
        "-rw-r--r--  1 marcelcaraciolo  staff   1.9K Mar 18  2003 53160\r\n",
        "-rw-r--r--  1 marcelcaraciolo  staff   3.5K Mar 18  2003 53161\r\n",
        "-rw-r--r--  1 marcelcaraciolo  staff   1.5K Mar 18  2003 53162\r\n",
        "-rw-r--r--  1 marcelcaraciolo  staff   1.9K Mar 18  2003 53163\r\n",
        "-rw-r--r--  1 marcelcaraciolo  staff   2.2K Mar 18  2003 53164\r\n",
        "-rw-r--r--  1 marcelcaraciolo  staff   1.1K Mar 18  2003 53165\r\n",
        "-rw-r--r--  1 marcelcaraciolo  staff   684B Mar 18  2003 53166\r\n",
        "-rw-r--r--  1 marcelcaraciolo  staff   443B Mar 18  2003 53167\r\n",
        "-rw-r--r--  1 marcelcaraciolo  staff   1.2K Mar 18  2003 53168\r\n",
        "-rw-r--r--  1 marcelcaraciolo  staff   1.4K Mar 18  2003 53170\r\n",
        "-rw-r--r--  1 marcelcaraciolo  staff   2.5K Mar 18  2003 53171\r\n",
        "-rw-r--r--  1 marcelcaraciolo  staff   785B Mar 18  2003 53172\r\n",
        "-rw-r--r--  1 marcelcaraciolo  staff   1.1K Mar 18  2003 53173\r\n",
        "-rw-r--r--  1 marcelcaraciolo  staff   1.3K Mar 18  2003 53174\r\n",
        "-rw-r--r--  1 marcelcaraciolo  staff   737B Mar 18  2003 53175\r\n",
        "-rw-r--r--  1 marcelcaraciolo  staff   1.3K Mar 18  2003 53176\r\n",
        "-rw-r--r--  1 marcelcaraciolo  staff   1.8K Mar 18  2003 53177\r\n",
        "-rw-r--r--  1 marcelcaraciolo  staff   2.2K Mar 18  2003 53178\r\n",
        "-rw-r--r--  1 marcelcaraciolo  staff   1.6K Mar 18  2003 53179\r\n",
        "-rw-r--r--  1 marcelcaraciolo  staff   2.1K Mar 18  2003 53180\r\n",
        "-rw-r--r--  1 marcelcaraciolo  staff   3.2K Mar 18  2003 53181\r\n",
        "-rw-r--r--  1 marcelcaraciolo  staff   1.2K Mar 18  2003 53182\r\n",
        "-rw-r--r--  1 marcelcaraciolo  staff   1.4K Mar 18  2003 53183\r\n",
        "-rw-r--r--  1 marcelcaraciolo  staff   1.7K Mar 18  2003 53184\r\n",
        "-rw-r--r--  1 marcelcaraciolo  staff   2.6K Mar 18  2003 53185\r\n",
        "-rw-r--r--  1 marcelcaraciolo  staff   3.0K Mar 18  2003 53186\r\n",
        "-rw-r--r--  1 marcelcaraciolo  staff   665B Mar 18  2003 53187\r\n",
        "-rw-r--r--  1 marcelcaraciolo  staff   2.0K Mar 18  2003 53188\r\n",
        "-rw-r--r--  1 marcelcaraciolo  staff   1.3K Mar 18  2003 53190\r\n",
        "-rw-r--r--  1 marcelcaraciolo  staff   1.9K Mar 18  2003 53191\r\n",
        "-rw-r--r--  1 marcelcaraciolo  staff   1.8K Mar 18  2003 53192\r\n",
        "-rw-r--r--  1 marcelcaraciolo  staff   1.4K Mar 18  2003 53193\r\n",
        "-rw-r--r--  1 marcelcaraciolo  staff   792B Mar 18  2003 53194\r\n",
        "-rw-r--r--  1 marcelcaraciolo  staff   2.0K Mar 18  2003 53195\r\n",
        "-rw-r--r--  1 marcelcaraciolo  staff   1.6K Mar 18  2003 53196\r\n",
        "-rw-r--r--  1 marcelcaraciolo  staff   2.6K Mar 18  2003 53197\r\n",
        "-rw-r--r--  1 marcelcaraciolo  staff   1.1K Mar 18  2003 53198\r\n",
        "-rw-r--r--  1 marcelcaraciolo  staff   1.4K Mar 18  2003 53199\r\n",
        "-rw-r--r--  1 marcelcaraciolo  staff   1.3K Mar 18  2003 53201\r\n",
        "-rw-r--r--  1 marcelcaraciolo  staff   1.3K Mar 18  2003 53203\r\n",
        "-rw-r--r--  1 marcelcaraciolo  staff   3.7K Mar 18  2003 53208\r\n",
        "-rw-r--r--  1 marcelcaraciolo  staff   1.1K Mar 18  2003 53209\r\n",
        "-rw-r--r--  1 marcelcaraciolo  staff   1.5K Mar 18  2003 53210\r\n",
        "-rw-r--r--  1 marcelcaraciolo  staff   2.7K Mar 18  2003 53211\r\n",
        "-rw-r--r--  1 marcelcaraciolo  staff   1.4K Mar 18  2003 53212\r\n",
        "-rw-r--r--  1 marcelcaraciolo  staff   2.3K Mar 18  2003 53213\r\n",
        "-rw-r--r--  1 marcelcaraciolo  staff   1.9K Mar 18  2003 53214\r\n",
        "-rw-r--r--  1 marcelcaraciolo  staff   919B Mar 18  2003 53215\r\n",
        "-rw-r--r--  1 marcelcaraciolo  staff   868B Mar 18  2003 53216\r\n",
        "-rw-r--r--  1 marcelcaraciolo  staff   2.3K Mar 18  2003 53217\r\n",
        "-rw-r--r--  1 marcelcaraciolo  staff   1.0K Mar 18  2003 53218\r\n",
        "-rw-r--r--  1 marcelcaraciolo  staff   1.1K Mar 18  2003 53219\r\n",
        "-rw-r--r--  1 marcelcaraciolo  staff   640B Mar 18  2003 53220\r\n",
        "-rw-r--r--  1 marcelcaraciolo  staff   1.1K Mar 18  2003 53221\r\n",
        "-rw-r--r--  1 marcelcaraciolo  staff   2.0K Mar 18  2003 53222\r\n",
        "-rw-r--r--  1 marcelcaraciolo  staff   2.0K Mar 18  2003 53223\r\n",
        "-rw-r--r--  1 marcelcaraciolo  staff   3.4K Mar 18  2003 53224\r\n",
        "-rw-r--r--  1 marcelcaraciolo  staff   808B Mar 18  2003 53225\r\n",
        "-rw-r--r--  1 marcelcaraciolo  staff   1.0K Mar 18  2003 53226\r\n",
        "-rw-r--r--  1 marcelcaraciolo  staff   640B Mar 18  2003 53228\r\n",
        "-rw-r--r--  1 marcelcaraciolo  staff   856B Mar 18  2003 53229\r\n",
        "-rw-r--r--  1 marcelcaraciolo  staff   967B Mar 18  2003 53230\r\n",
        "-rw-r--r--  1 marcelcaraciolo  staff   781B Mar 18  2003 53231\r\n",
        "-rw-r--r--  1 marcelcaraciolo  staff   1.2K Mar 18  2003 53232\r\n",
        "-rw-r--r--  1 marcelcaraciolo  staff   2.2K Mar 18  2003 53235\r\n",
        "-rw-r--r--  1 marcelcaraciolo  staff   1.7K Mar 18  2003 53237\r\n",
        "-rw-r--r--  1 marcelcaraciolo  staff   2.2K Mar 18  2003 53238\r\n",
        "-rw-r--r--  1 marcelcaraciolo  staff   2.4K Mar 18  2003 53239\r\n",
        "-rw-r--r--  1 marcelcaraciolo  staff   1.2K Mar 18  2003 53240\r\n",
        "-rw-r--r--  1 marcelcaraciolo  staff   1.3K Mar 18  2003 53243\r\n",
        "-rw-r--r--  1 marcelcaraciolo  staff   1.3K Mar 18  2003 53248\r\n",
        "-rw-r--r--  1 marcelcaraciolo  staff   1.4K Mar 18  2003 53249\r\n",
        "-rw-r--r--  1 marcelcaraciolo  staff   1.8K Mar 18  2003 53250\r\n",
        "-rw-r--r--  1 marcelcaraciolo  staff   1.5K Mar 18  2003 53251\r\n",
        "-rw-r--r--  1 marcelcaraciolo  staff   1.4K Mar 18  2003 53252\r\n",
        "-rw-r--r--  1 marcelcaraciolo  staff   1.2K Mar 18  2003 53256\r\n",
        "-rw-r--r--  1 marcelcaraciolo  staff   806B Mar 18  2003 53258\r\n",
        "-rw-r--r--  1 marcelcaraciolo  staff   4.2K Mar 18  2003 53266\r\n",
        "-rw-r--r--  1 marcelcaraciolo  staff   3.5K Mar 18  2003 53267\r\n",
        "-rw-r--r--  1 marcelcaraciolo  staff   1.8K Mar 18  2003 53269\r\n",
        "-rw-r--r--  1 marcelcaraciolo  staff   3.2K Mar 18  2003 53271\r\n",
        "-rw-r--r--  1 marcelcaraciolo  staff   1.3K Mar 18  2003 53274\r\n",
        "-rw-r--r--  1 marcelcaraciolo  staff   2.1K Mar 18  2003 53275\r\n",
        "-rw-r--r--  1 marcelcaraciolo  staff   2.0K Mar 18  2003 53281\r\n",
        "-rw-r--r--  1 marcelcaraciolo  staff   958B Mar 18  2003 53282\r\n",
        "-rw-r--r--  1 marcelcaraciolo  staff   3.2K Mar 18  2003 53283\r\n",
        "-rw-r--r--  1 marcelcaraciolo  staff   872B Mar 18  2003 53284\r\n",
        "-rw-r--r--  1 marcelcaraciolo  staff   387B Mar 18  2003 53285\r\n",
        "-rw-r--r--  1 marcelcaraciolo  staff   3.1K Mar 18  2003 53286\r\n",
        "-rw-r--r--  1 marcelcaraciolo  staff   3.5K Mar 18  2003 53287\r\n",
        "-rw-r--r--  1 marcelcaraciolo  staff   2.6K Mar 18  2003 53288\r\n",
        "-rw-r--r--  1 marcelcaraciolo  staff   956B Mar 18  2003 53289\r\n",
        "-rw-r--r--  1 marcelcaraciolo  staff   1.6K Mar 18  2003 53290\r\n",
        "-rw-r--r--  1 marcelcaraciolo  staff    10K Mar 18  2003 53292\r\n",
        "-rw-r--r--  1 marcelcaraciolo  staff   5.4K Mar 18  2003 53298\r\n",
        "-rw-r--r--  1 marcelcaraciolo  staff   945B Mar 18  2003 53303\r\n",
        "-rw-r--r--  1 marcelcaraciolo  staff   1.2K Mar 18  2003 53304\r\n",
        "-rw-r--r--  1 marcelcaraciolo  staff   1.5K Mar 18  2003 53305\r\n",
        "-rw-r--r--  1 marcelcaraciolo  staff   1.4K Mar 18  2003 53306\r\n",
        "-rw-r--r--  1 marcelcaraciolo  staff   590B Mar 18  2003 53307\r\n",
        "-rw-r--r--  1 marcelcaraciolo  staff   663B Mar 18  2003 53308\r\n",
        "-rw-r--r--  1 marcelcaraciolo  staff   907B Mar 18  2003 53309\r\n",
        "-rw-r--r--  1 marcelcaraciolo  staff   1.0K Mar 18  2003 53311\r\n",
        "-rw-r--r--  1 marcelcaraciolo  staff   1.5K Mar 18  2003 53312\r\n",
        "-rw-r--r--  1 marcelcaraciolo  staff   576B Mar 18  2003 53314\r\n",
        "-rw-r--r--  1 marcelcaraciolo  staff    15K Mar 18  2003 53323\r\n",
        "-rw-r--r--  1 marcelcaraciolo  staff   1.0K Mar 18  2003 53334\r\n",
        "-rw-r--r--  1 marcelcaraciolo  staff   783B Mar 18  2003 53347\r\n",
        "-rw-r--r--  1 marcelcaraciolo  staff   5.8K Mar 18  2003 53351\r\n",
        "-rw-r--r--  1 marcelcaraciolo  staff   1.6K Mar 18  2003 53366\r\n",
        "-rw-r--r--  1 marcelcaraciolo  staff   698B Mar 18  2003 53370\r\n",
        "-rw-r--r--  1 marcelcaraciolo  staff   600B Mar 18  2003 53371\r\n",
        "-rw-r--r--  1 marcelcaraciolo  staff   5.6K Mar 18  2003 53373\r\n",
        "-rw-r--r--  1 marcelcaraciolo  staff   1.8K Mar 18  2003 53374\r\n",
        "-rw-r--r--  1 marcelcaraciolo  staff   1.1K Mar 18  2003 53375\r\n",
        "-rw-r--r--  1 marcelcaraciolo  staff   849B Mar 18  2003 53376\r\n",
        "-rw-r--r--  1 marcelcaraciolo  staff   621B Mar 18  2003 53377\r\n",
        "-rw-r--r--  1 marcelcaraciolo  staff   270B Mar 18  2003 53380\r\n",
        "-rw-r--r--  1 marcelcaraciolo  staff   1.1K Mar 18  2003 53381\r\n",
        "-rw-r--r--  1 marcelcaraciolo  staff   2.2K Mar 18  2003 53382\r\n",
        "-rw-r--r--  1 marcelcaraciolo  staff   1.6K Mar 18  2003 53383\r\n",
        "-rw-r--r--  1 marcelcaraciolo  staff   1.6K Mar 18  2003 53387\r\n",
        "-rw-r--r--  1 marcelcaraciolo  staff   759B Mar 18  2003 53389\r\n",
        "-rw-r--r--  1 marcelcaraciolo  staff   396B Mar 18  2003 53390\r\n",
        "-rw-r--r--  1 marcelcaraciolo  staff   669B Mar 18  2003 53391\r\n",
        "-rw-r--r--  1 marcelcaraciolo  staff   1.8K Mar 18  2003 53434\r\n",
        "-rw-r--r--  1 marcelcaraciolo  staff   1.6K Mar 18  2003 53435\r\n",
        "-rw-r--r--  1 marcelcaraciolo  staff   708B Mar 18  2003 53436\r\n",
        "-rw-r--r--  1 marcelcaraciolo  staff   887B Mar 18  2003 53437\r\n",
        "-rw-r--r--  1 marcelcaraciolo  staff   838B Mar 18  2003 53438\r\n",
        "-rw-r--r--  1 marcelcaraciolo  staff   1.4K Mar 18  2003 53439\r\n",
        "-rw-r--r--  1 marcelcaraciolo  staff   1.3K Mar 18  2003 53440\r\n",
        "-rw-r--r--  1 marcelcaraciolo  staff   384B Mar 18  2003 53441\r\n",
        "-rw-r--r--  1 marcelcaraciolo  staff   857B Mar 18  2003 53442\r\n",
        "-rw-r--r--  1 marcelcaraciolo  staff   1.6K Mar 18  2003 53443\r\n",
        "-rw-r--r--  1 marcelcaraciolo  staff   1.4K Mar 18  2003 53445\r\n",
        "-rw-r--r--  1 marcelcaraciolo  staff   1.3K Mar 18  2003 53449\r\n",
        "-rw-r--r--  1 marcelcaraciolo  staff   2.4K Mar 18  2003 53459\r\n",
        "-rw-r--r--  1 marcelcaraciolo  staff   1.4K Mar 18  2003 53460\r\n",
        "-rw-r--r--  1 marcelcaraciolo  staff   1.0K Mar 18  2003 53465\r\n",
        "-rw-r--r--  1 marcelcaraciolo  staff   1.3K Mar 18  2003 53466\r\n",
        "-rw-r--r--  1 marcelcaraciolo  staff   1.0K Mar 18  2003 53467\r\n",
        "-rw-r--r--  1 marcelcaraciolo  staff   1.4K Mar 18  2003 53468\r\n",
        "-rw-r--r--  1 marcelcaraciolo  staff   1.1K Mar 18  2003 53471\r\n",
        "-rw-r--r--  1 marcelcaraciolo  staff   1.9K Mar 18  2003 53477\r\n",
        "-rw-r--r--  1 marcelcaraciolo  staff   718B Mar 18  2003 53478\r\n",
        "-rw-r--r--  1 marcelcaraciolo  staff   781B Mar 18  2003 53483\r\n",
        "-rw-r--r--  1 marcelcaraciolo  staff   1.6K Mar 18  2003 53509\r\n",
        "-rw-r--r--  1 marcelcaraciolo  staff   910B Mar 18  2003 53510\r\n",
        "-rw-r--r--  1 marcelcaraciolo  staff   781B Mar 18  2003 53512\r\n",
        "-rw-r--r--  1 marcelcaraciolo  staff   1.8K Mar 18  2003 53515\r\n",
        "-rw-r--r--  1 marcelcaraciolo  staff   2.1K Mar 18  2003 53518\r\n",
        "-rw-r--r--  1 marcelcaraciolo  staff    50K Mar 18  2003 53519\r\n",
        "-rw-r--r--  1 marcelcaraciolo  staff   6.0K Mar 18  2003 53521\r\n",
        "-rw-r--r--  1 marcelcaraciolo  staff   1.0K Mar 18  2003 53522\r\n",
        "-rw-r--r--  1 marcelcaraciolo  staff   2.8K Mar 18  2003 53523\r\n",
        "-rw-r--r--  1 marcelcaraciolo  staff   338B Mar 18  2003 53524\r\n",
        "-rw-r--r--  1 marcelcaraciolo  staff   1.4K Mar 18  2003 53525\r\n",
        "-rw-r--r--  1 marcelcaraciolo  staff   489B Mar 18  2003 53526\r\n",
        "-rw-r--r--  1 marcelcaraciolo  staff   2.6K Mar 18  2003 53527\r\n",
        "-rw-r--r--  1 marcelcaraciolo  staff   2.4K Mar 18  2003 53528\r\n",
        "-rw-r--r--  1 marcelcaraciolo  staff   228B Mar 18  2003 53529\r\n",
        "-rw-r--r--  1 marcelcaraciolo  staff   1.1K Mar 18  2003 53531\r\n",
        "-rw-r--r--  1 marcelcaraciolo  staff   1.3K Mar 18  2003 53532\r\n",
        "-rw-r--r--  1 marcelcaraciolo  staff   1.2K Mar 18  2003 53533\r\n",
        "-rw-r--r--  1 marcelcaraciolo  staff   356B Mar 18  2003 53534\r\n",
        "-rw-r--r--  1 marcelcaraciolo  staff   614B Mar 18  2003 53535\r\n",
        "-rw-r--r--  1 marcelcaraciolo  staff   895B Mar 18  2003 53571\r\n",
        "-rw-r--r--  1 marcelcaraciolo  staff   1.0K Mar 18  2003 53572\r\n",
        "-rw-r--r--  1 marcelcaraciolo  staff   697B Mar 18  2003 53573\r\n",
        "-rw-r--r--  1 marcelcaraciolo  staff   1.0K Mar 18  2003 53574\r\n",
        "-rw-r--r--  1 marcelcaraciolo  staff   1.8K Mar 18  2003 53654\r\n",
        "-rw-r--r--  1 marcelcaraciolo  staff   2.3K Mar 18  2003 53655\r\n",
        "-rw-r--r--  1 marcelcaraciolo  staff   2.5K Mar 18  2003 53656\r\n",
        "-rw-r--r--  1 marcelcaraciolo  staff   2.1K Mar 18  2003 53660\r\n",
        "-rw-r--r--  1 marcelcaraciolo  staff   6.8K Mar 18  2003 53661\r\n",
        "-rw-r--r--  1 marcelcaraciolo  staff   1.8K Mar 18  2003 53753\r\n",
        "-rw-r--r--  1 marcelcaraciolo  staff   698B Mar 18  2003 53754\r\n",
        "-rw-r--r--  1 marcelcaraciolo  staff   779B Mar 18  2003 53755\r\n",
        "-rw-r--r--  1 marcelcaraciolo  staff   3.9K Mar 18  2003 53756\r\n",
        "-rw-r--r--  1 marcelcaraciolo  staff   1.3K Mar 18  2003 53757\r\n",
        "-rw-r--r--  1 marcelcaraciolo  staff   2.2K Mar 18  2003 53758\r\n",
        "-rw-r--r--  1 marcelcaraciolo  staff   745B Mar 18  2003 53759\r\n",
        "-rw-r--r--  1 marcelcaraciolo  staff   1.9K Mar 18  2003 53760\r\n",
        "-rw-r--r--  1 marcelcaraciolo  staff   592B Mar 18  2003 53761\r\n",
        "-rw-r--r--  1 marcelcaraciolo  staff   658B Mar 18  2003 53762\r\n",
        "-rw-r--r--  1 marcelcaraciolo  staff   756B Mar 18  2003 53763\r\n",
        "-rw-r--r--  1 marcelcaraciolo  staff   2.7K Mar 18  2003 53764\r\n",
        "-rw-r--r--  1 marcelcaraciolo  staff   1.1K Mar 18  2003 53765\r\n",
        "-rw-r--r--  1 marcelcaraciolo  staff   906B Mar 18  2003 53766\r\n",
        "-rw-r--r--  1 marcelcaraciolo  staff   535B Mar 18  2003 53780\r\n",
        "-rw-r--r--  1 marcelcaraciolo  staff   1.3K Mar 18  2003 53785\r\n",
        "-rw-r--r--  1 marcelcaraciolo  staff   2.3K Mar 18  2003 54165\r\n",
        "-rw-r--r--  1 marcelcaraciolo  staff   2.8K Mar 18  2003 54166\r\n",
        "-rw-r--r--  1 marcelcaraciolo  staff   547B Mar 18  2003 54167\r\n",
        "-rw-r--r--  1 marcelcaraciolo  staff   2.4K Mar 18  2003 54168\r\n",
        "-rw-r--r--  1 marcelcaraciolo  staff   4.7K Mar 18  2003 54178\r\n",
        "-rw-r--r--  1 marcelcaraciolo  staff   1.8K Mar 18  2003 54179\r\n",
        "-rw-r--r--  1 marcelcaraciolo  staff   4.4K Mar 18  2003 54180\r\n",
        "-rw-r--r--  1 marcelcaraciolo  staff   1.3K Mar 18  2003 54181\r\n",
        "-rw-r--r--  1 marcelcaraciolo  staff   3.0K Mar 18  2003 54182\r\n",
        "-rw-r--r--  1 marcelcaraciolo  staff   1.4K Mar 18  2003 54198\r\n",
        "-rw-r--r--  1 marcelcaraciolo  staff   1.8K Mar 18  2003 54199\r\n",
        "-rw-r--r--  1 marcelcaraciolo  staff   2.5K Mar 18  2003 54200\r\n",
        "-rw-r--r--  1 marcelcaraciolo  staff   1.7K Mar 18  2003 54201\r\n",
        "-rw-r--r--  1 marcelcaraciolo  staff   1.0K Mar 18  2003 54202\r\n",
        "-rw-r--r--  1 marcelcaraciolo  staff   1.2K Mar 18  2003 54203\r\n",
        "-rw-r--r--  1 marcelcaraciolo  staff   565B Mar 18  2003 54204\r\n",
        "-rw-r--r--  1 marcelcaraciolo  staff   641B Mar 18  2003 54227\r\n",
        "-rw-r--r--  1 marcelcaraciolo  staff   1.0K Mar 18  2003 54228\r\n",
        "-rw-r--r--  1 marcelcaraciolo  staff   877B Mar 18  2003 54470\r\n",
        "-rw-r--r--  1 marcelcaraciolo  staff   1.0K Mar 18  2003 54471\r\n",
        "-rw-r--r--  1 marcelcaraciolo  staff   993B Mar 18  2003 54472\r\n",
        "-rw-r--r--  1 marcelcaraciolo  staff   434B Mar 18  2003 54473\r\n"
       ]
      }
     ],
     "prompt_number": 57
    },
    {
     "cell_type": "markdown",
     "metadata": {},
     "source": [
      "The `load_files` function can load text files from a 2 levels folder structure assuming folder names represent categories:"
     ]
    },
    {
     "cell_type": "code",
     "collapsed": false,
     "input": [
      "#print(load_files.__doc__)"
     ],
     "language": "python",
     "metadata": {},
     "outputs": [],
     "prompt_number": 58
    },
    {
     "cell_type": "code",
     "collapsed": false,
     "input": [
      "all_twenty_train = load_files('../data/twenty_newsgroups/20news-bydate-train/',\n",
      "  charset='latin-1', random_state=42)\n",
      "all_twenty_test = load_files('../data/twenty_newsgroups/20news-bydate-test/',\n",
      "    charset='latin-1', random_state=42)"
     ],
     "language": "python",
     "metadata": {},
     "outputs": [
      {
       "output_type": "stream",
       "stream": "stderr",
       "text": [
        "/Library/Frameworks/Python.framework/Versions/7.2/lib/python2.7/site-packages/scikit_learn-0.14.1-py2.7-macosx-10.5-i386.egg/sklearn/datasets/base.py:161: DeprecationWarning: The charset parameter is deprecated as of version 0.14 and will be removed in 0.16. Use encode instead.\n",
        "  DeprecationWarning)\n",
        "/Library/Frameworks/Python.framework/Versions/7.2/lib/python2.7/site-packages/scikit_learn-0.14.1-py2.7-macosx-10.5-i386.egg/sklearn/datasets/base.py:161: DeprecationWarning: The charset parameter is deprecated as of version 0.14 and will be removed in 0.16. Use encode instead.\n",
        "  DeprecationWarning)\n"
       ]
      }
     ],
     "prompt_number": 60
    },
    {
     "cell_type": "code",
     "collapsed": false,
     "input": [
      "all_target_names = all_twenty_train.target_names\n",
      "all_target_names"
     ],
     "language": "python",
     "metadata": {},
     "outputs": [
      {
       "metadata": {},
       "output_type": "pyout",
       "prompt_number": 61,
       "text": [
        "['alt.atheism',\n",
        " 'comp.graphics',\n",
        " 'comp.os.ms-windows.misc',\n",
        " 'comp.sys.ibm.pc.hardware',\n",
        " 'comp.sys.mac.hardware',\n",
        " 'comp.windows.x',\n",
        " 'misc.forsale',\n",
        " 'rec.autos',\n",
        " 'rec.motorcycles',\n",
        " 'rec.sport.baseball',\n",
        " 'rec.sport.hockey',\n",
        " 'sci.crypt',\n",
        " 'sci.electronics',\n",
        " 'sci.med',\n",
        " 'sci.space',\n",
        " 'soc.religion.christian',\n",
        " 'talk.politics.guns',\n",
        " 'talk.politics.mideast',\n",
        " 'talk.politics.misc',\n",
        " 'talk.religion.misc']"
       ]
      }
     ],
     "prompt_number": 61
    },
    {
     "cell_type": "code",
     "collapsed": false,
     "input": [
      "all_twenty_train.target"
     ],
     "language": "python",
     "metadata": {},
     "outputs": [
      {
       "metadata": {},
       "output_type": "pyout",
       "prompt_number": 62,
       "text": [
        "array([12,  6,  9, ...,  9,  1, 12])"
       ]
      }
     ],
     "prompt_number": 62
    },
    {
     "cell_type": "code",
     "collapsed": false,
     "input": [
      "all_twenty_train.target.shape"
     ],
     "language": "python",
     "metadata": {},
     "outputs": [
      {
       "metadata": {},
       "output_type": "pyout",
       "prompt_number": 63,
       "text": [
        "(11314,)"
       ]
      }
     ],
     "prompt_number": 63
    },
    {
     "cell_type": "code",
     "collapsed": false,
     "input": [
      "all_twenty_test.target.shape"
     ],
     "language": "python",
     "metadata": {},
     "outputs": [
      {
       "metadata": {},
       "output_type": "pyout",
       "prompt_number": 64,
       "text": [
        "(7532,)"
       ]
      }
     ],
     "prompt_number": 64
    },
    {
     "cell_type": "code",
     "collapsed": false,
     "input": [
      "len(all_twenty_train.data)"
     ],
     "language": "python",
     "metadata": {},
     "outputs": [
      {
       "metadata": {},
       "output_type": "pyout",
       "prompt_number": 65,
       "text": [
        "11314"
       ]
      }
     ],
     "prompt_number": 65
    },
    {
     "cell_type": "code",
     "collapsed": false,
     "input": [
      "type(all_twenty_train.data[0])"
     ],
     "language": "python",
     "metadata": {},
     "outputs": [
      {
       "metadata": {},
       "output_type": "pyout",
       "prompt_number": 66,
       "text": [
        "unicode"
       ]
      }
     ],
     "prompt_number": 66
    },
    {
     "cell_type": "code",
     "collapsed": false,
     "input": [
      "def display_sample(i, dataset):\n",
      "    print(\"Class name: \" + dataset.target_names[dataset.target[i]])\n",
      "    print(\"Text content:\\n\")\n",
      "    print(dataset.data[i])"
     ],
     "language": "python",
     "metadata": {},
     "outputs": [],
     "prompt_number": 67
    },
    {
     "cell_type": "code",
     "collapsed": false,
     "input": [
      "display_sample(0, all_twenty_train)"
     ],
     "language": "python",
     "metadata": {},
     "outputs": [
      {
       "output_type": "stream",
       "stream": "stdout",
       "text": [
        "Class name: sci.electronics\n",
        "Text content:\n",
        "\n",
        "From: wtm@uhura.neoucom.edu (Bill Mayhew)\n",
        "Subject: Re: How to the disks copy protected.\n",
        "Organization: Northeastern Ohio Universities College of Medicine\n",
        "Lines: 23\n",
        "\n",
        "Write a good manual to go with the software.  The hassle of\n",
        "photocopying the manual is offset by simplicity of purchasing\n",
        "the package for only $15.  Also, consider offering an inexpensive\n",
        "but attractive perc for registered users.  For instance, a coffee\n",
        "mug.  You could produce and mail the incentive for a couple of\n",
        "dollars, so consider pricing the product at $17.95.\n",
        "\n",
        "You're lucky if only 20% of the instances of your program in use\n",
        "are non-licensed users.\n",
        "\n",
        "The best approach is to estimate your loss and accomodate that into\n",
        "your price structure.  Sure it hurts legitimate users, but too bad.\n",
        "Retailers have to charge off loss to shoplifters onto paying\n",
        "customers; the software industry is the same.\n",
        "\n",
        "Unless your product is exceptionally unique, using an ostensibly\n",
        "copy-proof disk will just send your customers to the competetion.\n",
        "\n",
        "\n",
        "-- \n",
        "Bill Mayhew      NEOUCOM Computer Services Department\n",
        "Rootstown, OH  44272-9995  USA    phone: 216-325-2511\n",
        "wtm@uhura.neoucom.edu (140.220.1.1)    146.580: N8WED\n",
        "\n"
       ]
      }
     ],
     "prompt_number": 68
    },
    {
     "cell_type": "code",
     "collapsed": false,
     "input": [
      "display_sample(1, all_twenty_train)"
     ],
     "language": "python",
     "metadata": {},
     "outputs": [
      {
       "output_type": "stream",
       "stream": "stdout",
       "text": [
        "Class name: misc.forsale\n",
        "Text content:\n",
        "\n",
        "From: andy@SAIL.Stanford.EDU (Andy Freeman)\n",
        "Subject: Re: Catalog of Hard-to-Find PC Enhancements (Repost)\n",
        "Organization: Computer Science Department,  Stanford University.\n",
        "Lines: 33\n",
        "\n",
        ">andy@SAIL.Stanford.EDU (Andy Freeman) writes:\n",
        ">> >In article <C5ELME.4z4@unix.portal.com> jdoll@shell.portal.com (Joe Doll) wr\n",
        ">> >>   \"The Catalog of Personal Computing Tools for Engineers and Scien-\n",
        ">> >>   tists\" lists hardware cards and application software packages for \n",
        ">> >>   PC/XT/AT/PS/2 class machines.  Focus is on engineering and scien-\n",
        ">> >>   tific applications of PCs, such as data acquisition/control, \n",
        ">> >>   design automation, and data analysis and presentation.  \n",
        ">> >\n",
        ">> >>   If you would like a free copy, reply with your (U. S. Postal) \n",
        ">> >>   mailing address.\n",
        ">> \n",
        ">> Don't bother - it never comes.  It's a cheap trick for building a\n",
        ">> mailing list to sell if my junk mail flow is any indication.\n",
        ">> \n",
        ">> -andy sent his address months ago\n",
        ">\n",
        ">Perhaps we can get Portal to nuke this weasal.  I never received a \n",
        ">catalog either.  If that person doesn't respond to a growing flame, then \n",
        ">we can assume that we'yall look forward to lotsa junk mail.\n",
        "\n",
        "I don't want him nuked, I want him to be honest.  The junk mail has\n",
        "been much more interesting than the promised catalog.  If I'd known\n",
        "what I was going to get, I wouldn't have hesitated.  I wouldn't be\n",
        "surprised if there were other folks who looked at the ad and said\n",
        "\"nope\" but who would be very interested in the junk mail that results.\n",
        "Similarly, there are people who wanted the advertised catalog who\n",
        "aren't happy with the junk they got instead.\n",
        "\n",
        "The folks buying the mailing lists would prefer an honest ad, and\n",
        "so would the people reading it.\n",
        "\n",
        "-andy\n",
        "--\n",
        "\n"
       ]
      }
     ],
     "prompt_number": 69
    },
    {
     "cell_type": "markdown",
     "metadata": {},
     "source": [
      "Let's compute the (uncompressed, in-memory) size of the training and test sets in MB assuming an 8 bit encoding (in this case, all chars can be encoded using the latin-1 charset)."
     ]
    },
    {
     "cell_type": "code",
     "collapsed": false,
     "input": [
      "def text_size(text, charset='iso-8859-1'):\n",
      "    return len(text.encode(charset)) * 8 * 1e-6\n",
      "\n",
      "train_size_mb = sum(text_size(text) for text in all_twenty_train.data) \n",
      "test_size_mb = sum(text_size(text) for text in all_twenty_test.data)\n",
      "\n",
      "print(\"Training set size: {0} MB\".format(int(train_size_mb)))\n",
      "print(\"Testing set size: {0} MB\".format(int(test_size_mb)))"
     ],
     "language": "python",
     "metadata": {},
     "outputs": [
      {
       "output_type": "stream",
       "stream": "stdout",
       "text": [
        "Training set size: 176 MB\n",
        "Testing set size: 110 MB\n"
       ]
      }
     ],
     "prompt_number": 70
    },
    {
     "cell_type": "markdown",
     "metadata": {},
     "source": [
      "If we only consider a small subset of the 4 categories selected from the initial example:"
     ]
    },
    {
     "cell_type": "code",
     "collapsed": false,
     "input": [
      "train_small_size_mb = sum(text_size(text) for text in twenty_train_small.data) \n",
      "test_small_size_mb = sum(text_size(text) for text in twenty_test_small.data)\n",
      "\n",
      "print(\"Training set size: {0} MB\".format(int(train_small_size_mb)))\n",
      "print(\"Testing set size: {0} MB\".format(int(test_small_size_mb)))"
     ],
     "language": "python",
     "metadata": {},
     "outputs": [
      {
       "output_type": "stream",
       "stream": "stdout",
       "text": [
        "Training set size: 31 MB\n",
        "Testing set size: 22 MB\n"
       ]
      }
     ],
     "prompt_number": 71
    },
    {
     "cell_type": "markdown",
     "metadata": {},
     "source": [
      "###Extracting Text Features"
     ]
    },
    {
     "cell_type": "code",
     "collapsed": false,
     "input": [
      "from sklearn.feature_extraction.text import TfidfVectorizer\n",
      "\n",
      "TfidfVectorizer()"
     ],
     "language": "python",
     "metadata": {},
     "outputs": [
      {
       "metadata": {},
       "output_type": "pyout",
       "prompt_number": 73,
       "text": [
        "TfidfVectorizer(analyzer=u'word', binary=False, charset=None,\n",
        "        charset_error=None, decode_error=u'strict',\n",
        "        dtype=<type 'numpy.int64'>, encoding=u'utf-8', input=u'content',\n",
        "        lowercase=True, max_df=1.0, max_features=None, min_df=1,\n",
        "        ngram_range=(1, 1), norm=u'l2', preprocessor=None, smooth_idf=True,\n",
        "        stop_words=None, strip_accents=None, sublinear_tf=False,\n",
        "        token_pattern=u'(?u)\\\\b\\\\w\\\\w+\\\\b', tokenizer=None, use_idf=True,\n",
        "        vocabulary=None)"
       ]
      }
     ],
     "prompt_number": 73
    },
    {
     "cell_type": "code",
     "collapsed": false,
     "input": [
      "vectorizer = TfidfVectorizer(min_df=1)\n",
      "\n",
      "%time X_train_small = vectorizer.fit_transform(twenty_train_small.data)"
     ],
     "language": "python",
     "metadata": {},
     "outputs": [
      {
       "output_type": "stream",
       "stream": "stdout",
       "text": [
        "CPU times: user 1.09 s, sys: 65.3 ms, total: 1.15 s\n",
        "Wall time: 1.3 s\n"
       ]
      }
     ],
     "prompt_number": 74
    },
    {
     "cell_type": "markdown",
     "metadata": {},
     "source": [
      "The results is not a `numpy.array` but instead a `scipy.sparse` matrix. This datastructure is quite similar to a 2D numpy array but it does not store the zeros."
     ]
    },
    {
     "cell_type": "code",
     "collapsed": false,
     "input": [
      "X_train_small"
     ],
     "language": "python",
     "metadata": {},
     "outputs": [
      {
       "metadata": {},
       "output_type": "pyout",
       "prompt_number": 76,
       "text": [
        "<2034x34118 sparse matrix of type '<type 'numpy.float64'>'\n",
        "\twith 323433 stored elements in Compressed Sparse Row format>"
       ]
      }
     ],
     "prompt_number": 76
    },
    {
     "cell_type": "markdown",
     "metadata": {},
     "source": [
      "scipy.sparse matrices also have a shape attribute to access the dimensions:"
     ]
    },
    {
     "cell_type": "code",
     "collapsed": false,
     "input": [
      "n_samples, n_features = X_train_small.shape"
     ],
     "language": "python",
     "metadata": {},
     "outputs": [],
     "prompt_number": 77
    },
    {
     "cell_type": "markdown",
     "metadata": {},
     "source": [
      "This dataset has around 2000 samples (the rows of the data matrix):"
     ]
    },
    {
     "cell_type": "code",
     "collapsed": false,
     "input": [
      "n_samples"
     ],
     "language": "python",
     "metadata": {},
     "outputs": [
      {
       "metadata": {},
       "output_type": "pyout",
       "prompt_number": 78,
       "text": [
        "2034"
       ]
      }
     ],
     "prompt_number": 78
    },
    {
     "cell_type": "markdown",
     "metadata": {},
     "source": [
      "This is the same value as the number of strings in the original list of text documents:"
     ]
    },
    {
     "cell_type": "code",
     "collapsed": false,
     "input": [
      "len(twenty_train_small.data)"
     ],
     "language": "python",
     "metadata": {},
     "outputs": [
      {
       "metadata": {},
       "output_type": "pyout",
       "prompt_number": 79,
       "text": [
        "2034"
       ]
      }
     ],
     "prompt_number": 79
    },
    {
     "cell_type": "markdown",
     "metadata": {},
     "source": [
      "The columns represent the individual token occurrences:"
     ]
    },
    {
     "cell_type": "code",
     "collapsed": false,
     "input": [
      "n_features"
     ],
     "language": "python",
     "metadata": {},
     "outputs": [
      {
       "metadata": {},
       "output_type": "pyout",
       "prompt_number": 80,
       "text": [
        "34118"
       ]
      }
     ],
     "prompt_number": 80
    },
    {
     "cell_type": "markdown",
     "metadata": {},
     "source": [
      "This number is the size of the vocabulary of the model extracted during fit in a Python dictionary:"
     ]
    },
    {
     "cell_type": "code",
     "collapsed": false,
     "input": [
      "type(vectorizer.vocabulary_)"
     ],
     "language": "python",
     "metadata": {},
     "outputs": [
      {
       "metadata": {},
       "output_type": "pyout",
       "prompt_number": 81,
       "text": [
        "dict"
       ]
      }
     ],
     "prompt_number": 81
    },
    {
     "cell_type": "code",
     "collapsed": false,
     "input": [
      "len(vectorizer.vocabulary_)"
     ],
     "language": "python",
     "metadata": {},
     "outputs": [
      {
       "metadata": {},
       "output_type": "pyout",
       "prompt_number": 82,
       "text": [
        "34118"
       ]
      }
     ],
     "prompt_number": 82
    },
    {
     "cell_type": "markdown",
     "metadata": {},
     "source": [
      "The keys of the `vocabulary_` attribute are also called feature names and can be accessed as a list of strings."
     ]
    },
    {
     "cell_type": "code",
     "collapsed": false,
     "input": [
      "len(vectorizer.get_feature_names())\n"
     ],
     "language": "python",
     "metadata": {},
     "outputs": [
      {
       "metadata": {},
       "output_type": "pyout",
       "prompt_number": 83,
       "text": [
        "34118"
       ]
      }
     ],
     "prompt_number": 83
    },
    {
     "cell_type": "markdown",
     "metadata": {},
     "source": [
      "Here are the first 10 elements (sorted in lexicographical order):"
     ]
    },
    {
     "cell_type": "code",
     "collapsed": false,
     "input": [
      "vectorizer.get_feature_names()[:10]"
     ],
     "language": "python",
     "metadata": {},
     "outputs": [
      {
       "metadata": {},
       "output_type": "pyout",
       "prompt_number": 91,
       "text": [
        "[u'00',\n",
        " u'000',\n",
        " u'0000',\n",
        " u'00000',\n",
        " u'000000',\n",
        " u'000005102000',\n",
        " u'000021',\n",
        " u'000062david42',\n",
        " u'0000vec',\n",
        " u'0001']"
       ]
      }
     ],
     "prompt_number": 91
    },
    {
     "cell_type": "markdown",
     "metadata": {},
     "source": [
      "Let's have a look at the features from the middle:"
     ]
    },
    {
     "cell_type": "code",
     "collapsed": false,
     "input": [
      "vectorizer.get_feature_names()[n_features / 2:n_features / 2 + 10]"
     ],
     "language": "python",
     "metadata": {},
     "outputs": [
      {
       "metadata": {},
       "output_type": "pyout",
       "prompt_number": 89,
       "text": [
        "[u'inadequate',\n",
        " u'inala',\n",
        " u'inalienable',\n",
        " u'inane',\n",
        " u'inanimate',\n",
        " u'inapplicable',\n",
        " u'inappropriate',\n",
        " u'inappropriately',\n",
        " u'inaudible',\n",
        " u'inbreeding']"
       ]
      }
     ],
     "prompt_number": 89
    },
    {
     "cell_type": "markdown",
     "metadata": {},
     "source": [
      "Now that we have extracted a vector representation of the data, it's a good idea to project the data on the first 2D of a Principal Component Analysis to get a feel of the data. Note that the `RandomizedPCA` class can accept `scipy.sparse` matrices as input (as an alternative to numpy arrays):"
     ]
    },
    {
     "cell_type": "code",
     "collapsed": false,
     "input": [
      "from sklearn.decomposition import RandomizedPCA\n",
      "\n",
      "%time X_train_small_pca = RandomizedPCA(n_components=2).fit_transform(X_train_small)"
     ],
     "language": "python",
     "metadata": {},
     "outputs": [
      {
       "output_type": "stream",
       "stream": "stdout",
       "text": [
        "CPU times: user 164 ms, sys: 15.5 ms, total: 179 ms\n",
        "Wall time: 393 ms\n"
       ]
      },
      {
       "output_type": "stream",
       "stream": "stderr",
       "text": [
        "/Library/Frameworks/Python.framework/Versions/7.2/lib/python2.7/site-packages/scikit_learn-0.14.1-py2.7-macosx-10.5-i386.egg/sklearn/decomposition/pca.py:512: DeprecationWarning: Sparse matrix support is deprecated and will be dropped in 0.16. Use TruncatedSVD instead.\n",
        "  DeprecationWarning)\n"
       ]
      }
     ],
     "prompt_number": 92
    },
    {
     "cell_type": "code",
     "collapsed": false,
     "input": [
      "from itertools import cycle\n",
      "\n",
      "colors = ['b', 'g', 'r', 'c', 'm', 'y', 'k']\n",
      "for i, c in zip(np.unique(y_train), cycle(colors)):\n",
      "    pl.scatter(X_train_small_pca[y_train == i, 0],\n",
      "               X_train_small_pca[y_train == i, 1],\n",
      "               c=c, label=twenty_train_small.target_names[i], alpha=0.5)\n",
      "    \n",
      "_ = pl.legend(loc='best')"
     ],
     "language": "python",
     "metadata": {},
     "outputs": [
      {
       "metadata": {},
       "output_type": "display_data",
       "png": "[encoded data removed]",
       "text": [
        "<matplotlib.figure.Figure at 0x6d2cad0>"
       ]
      }
     ],
     "prompt_number": 93
    },
    {
     "cell_type": "markdown",
     "metadata": {},
     "source": [
      "We can observe that there is a large overlap of the samples from different categories. This is to be expected as the PCA linear projection projects data from a 34118 dimensional space down to 2 dimensions: data that is linearly separable in 34118D is often no longer linearly separable in 2D.\n",
      "    \n",
      "Still we can notice an interesting pattern: the newsgroups on religion and atheism occupy the much the same region and computer graphics and space science / space overlap more together than they do with the religion or atheism newsgroups."
     ]
    },
    {
     "cell_type": "markdown",
     "metadata": {},
     "source": [
      "###Training a Classifier on Text Features"
     ]
    },
    {
     "cell_type": "markdown",
     "metadata": {},
     "source": [
      "We have previously extracted a vector representation of the training corpus and put it into a variable name `X_train_small`. To train a supervised model, in this case a classifier, we also need "
     ]
    },
    {
     "cell_type": "code",
     "collapsed": false,
     "input": [
      "y_train_small = twenty_train_small.target"
     ],
     "language": "python",
     "metadata": {},
     "outputs": [],
     "prompt_number": 94
    },
    {
     "cell_type": "code",
     "collapsed": false,
     "input": [
      "y_train_small.shape"
     ],
     "language": "python",
     "metadata": {},
     "outputs": [
      {
       "metadata": {},
       "output_type": "pyout",
       "prompt_number": 95,
       "text": [
        "(2034,)"
       ]
      }
     ],
     "prompt_number": 95
    },
    {
     "cell_type": "code",
     "collapsed": false,
     "input": [
      "y_train_small"
     ],
     "language": "python",
     "metadata": {},
     "outputs": [
      {
       "metadata": {},
       "output_type": "pyout",
       "prompt_number": 96,
       "text": [
        "array([1, 2, 2, ..., 2, 1, 1])"
       ]
      }
     ],
     "prompt_number": 96
    },
    {
     "cell_type": "markdown",
     "metadata": {},
     "source": [
      "We can shape that we have the same number of samples for the input data and the labels:"
     ]
    },
    {
     "cell_type": "code",
     "collapsed": false,
     "input": [
      "X_train_small.shape[0] == y_train_small.shape[0]"
     ],
     "language": "python",
     "metadata": {},
     "outputs": [
      {
       "metadata": {},
       "output_type": "pyout",
       "prompt_number": 97,
       "text": [
        "True"
       ]
      }
     ],
     "prompt_number": 97
    },
    {
     "cell_type": "markdown",
     "metadata": {},
     "source": [
      "We can now train a classifier, for instance a Multinomial Naive Bayesian classifier:"
     ]
    },
    {
     "cell_type": "code",
     "collapsed": false,
     "input": [
      "from sklearn.naive_bayes import MultinomialNB\n",
      "\n",
      "clf = MultinomialNB(alpha=0.1)\n",
      "clf"
     ],
     "language": "python",
     "metadata": {},
     "outputs": [
      {
       "metadata": {},
       "output_type": "pyout",
       "prompt_number": 99,
       "text": [
        "MultinomialNB(alpha=0.1, class_prior=None, fit_prior=True)"
       ]
      }
     ],
     "prompt_number": 99
    },
    {
     "cell_type": "code",
     "collapsed": false,
     "input": [
      "clf.fit(X_train_small, y_train_small)"
     ],
     "language": "python",
     "metadata": {},
     "outputs": [
      {
       "metadata": {},
       "output_type": "pyout",
       "prompt_number": 100,
       "text": [
        "MultinomialNB(alpha=0.1, class_prior=None, fit_prior=True)"
       ]
      }
     ],
     "prompt_number": 100
    },
    {
     "cell_type": "markdown",
     "metadata": {},
     "source": [
      "We can now evaluate the classifier on the testing set. Let's first use the builtin score function, which is the rate of correct classification in the test set:"
     ]
    },
    {
     "cell_type": "code",
     "collapsed": false,
     "input": [
      "X_test_small = vectorizer.transform(twenty_test_small.data)\n",
      "y_test_small = twenty_test_small.target"
     ],
     "language": "python",
     "metadata": {},
     "outputs": [],
     "prompt_number": 101
    },
    {
     "cell_type": "code",
     "collapsed": false,
     "input": [
      "X_test_small.shape"
     ],
     "language": "python",
     "metadata": {},
     "outputs": [
      {
       "metadata": {},
       "output_type": "pyout",
       "prompt_number": 102,
       "text": [
        "(1353, 34118)"
       ]
      }
     ],
     "prompt_number": 102
    },
    {
     "cell_type": "code",
     "collapsed": false,
     "input": [
      "y_test_small.shape"
     ],
     "language": "python",
     "metadata": {},
     "outputs": [
      {
       "metadata": {},
       "output_type": "pyout",
       "prompt_number": 103,
       "text": [
        "(1353,)"
       ]
      }
     ],
     "prompt_number": 103
    },
    {
     "cell_type": "code",
     "collapsed": false,
     "input": [
      "clf.score(X_test_small, y_test_small)"
     ],
     "language": "python",
     "metadata": {},
     "outputs": [
      {
       "metadata": {},
       "output_type": "pyout",
       "prompt_number": 104,
       "text": [
        "0.89652623798965259"
       ]
      }
     ],
     "prompt_number": 104
    },
    {
     "cell_type": "markdown",
     "metadata": {},
     "source": [
      "We can also compute the score on the test set and observe that the model is both overfitting and underfitting a bit at the same time:"
     ]
    },
    {
     "cell_type": "code",
     "collapsed": false,
     "input": [
      "clf.score(X_train_small, y_train_small)\n"
     ],
     "language": "python",
     "metadata": {},
     "outputs": [
      {
       "metadata": {},
       "output_type": "pyout",
       "prompt_number": 105,
       "text": [
        "0.99262536873156337"
       ]
      }
     ],
     "prompt_number": 105
    },
    {
     "cell_type": "markdown",
     "metadata": {},
     "source": [
      "The text vectorizer has many parameters to customize it's behavior, in particular how it extracts tokens:"
     ]
    },
    {
     "cell_type": "code",
     "collapsed": false,
     "input": [
      "TfidfVectorizer()"
     ],
     "language": "python",
     "metadata": {},
     "outputs": [
      {
       "metadata": {},
       "output_type": "pyout",
       "prompt_number": 107,
       "text": [
        "TfidfVectorizer(analyzer=u'word', binary=False, charset=None,\n",
        "        charset_error=None, decode_error=u'strict',\n",
        "        dtype=<type 'numpy.int64'>, encoding=u'utf-8', input=u'content',\n",
        "        lowercase=True, max_df=1.0, max_features=None, min_df=1,\n",
        "        ngram_range=(1, 1), norm=u'l2', preprocessor=None, smooth_idf=True,\n",
        "        stop_words=None, strip_accents=None, sublinear_tf=False,\n",
        "        token_pattern=u'(?u)\\\\b\\\\w\\\\w+\\\\b', tokenizer=None, use_idf=True,\n",
        "        vocabulary=None)"
       ]
      }
     ],
     "prompt_number": 107
    },
    {
     "cell_type": "code",
     "collapsed": true,
     "input": [
      "print(TfidfVectorizer.__doc__)"
     ],
     "language": "python",
     "metadata": {},
     "outputs": [
      {
       "output_type": "stream",
       "stream": "stdout",
       "text": [
        "Convert a collection of raw documents to a matrix of TF-IDF features.\n",
        "\n",
        "    Equivalent to CountVectorizer followed by TfidfTransformer.\n",
        "\n",
        "    Parameters\n",
        "    ----------\n",
        "    input : string {'filename', 'file', 'content'}\n",
        "        If filename, the sequence passed as an argument to fit is\n",
        "        expected to be a list of filenames that need reading to fetch\n",
        "        the raw content to analyze.\n",
        "\n",
        "        If 'file', the sequence items must have 'read' method (file-like\n",
        "        object) it is called to fetch the bytes in memory.\n",
        "\n",
        "        Otherwise the input is expected to be the sequence strings or\n",
        "        bytes items are expected to be analyzed directly.\n",
        "\n",
        "    encoding : string, 'utf-8' by default.\n",
        "        If bytes or files are given to analyze, this encoding is used to\n",
        "        decode.\n",
        "\n",
        "    decode_error : {'strict', 'ignore', 'replace'}\n",
        "        Instruction on what to do if a byte sequence is given to analyze that\n",
        "        contains characters not of the given `encoding`. By default, it is\n",
        "        'strict', meaning that a UnicodeDecodeError will be raised. Other\n",
        "        values are 'ignore' and 'replace'.\n",
        "\n",
        "    strip_accents : {'ascii', 'unicode', None}\n",
        "        Remove accents during the preprocessing step.\n",
        "        'ascii' is a fast method that only works on characters that have\n",
        "        an direct ASCII mapping.\n",
        "        'unicode' is a slightly slower method that works on any characters.\n",
        "        None (default) does nothing.\n",
        "\n",
        "    analyzer : string, {'word', 'char'} or callable\n",
        "        Whether the feature should be made of word or character n-grams.\n",
        "\n",
        "        If a callable is passed it is used to extract the sequence of features\n",
        "        out of the raw, unprocessed input.\n",
        "\n",
        "    preprocessor : callable or None (default)\n",
        "        Override the preprocessing (string transformation) stage while\n",
        "        preserving the tokenizing and n-grams generation steps.\n",
        "\n",
        "    tokenizer : callable or None (default)\n",
        "        Override the string tokenization step while preserving the\n",
        "        preprocessing and n-grams generation steps.\n",
        "\n",
        "    ngram_range : tuple (min_n, max_n)\n",
        "        The lower and upper boundary of the range of n-values for different\n",
        "        n-grams to be extracted. All values of n such that min_n <= n <= max_n\n",
        "        will be used.\n",
        "\n",
        "    stop_words : string {'english'}, list, or None (default)\n",
        "        If a string, it is passed to _check_stop_list and the appropriate stop\n",
        "        list is returned. 'english' is currently the only supported string\n",
        "        value.\n",
        "\n",
        "        If a list, that list is assumed to contain stop words, all of which\n",
        "        will be removed from the resulting tokens.\n",
        "\n",
        "        If None, no stop words will be used. max_df can be set to a value\n",
        "        in the range [0.7, 1.0) to automatically detect and filter stop\n",
        "        words based on intra corpus document frequency of terms.\n",
        "\n",
        "    lowercase : boolean, default True\n",
        "        Convert all characters to lowercase befor tokenizing.\n",
        "\n",
        "    token_pattern : string\n",
        "        Regular expression denoting what constitutes a \"token\", only used\n",
        "        if `tokenize == 'word'`. The default regexp select tokens of 2\n",
        "        or more letters characters (punctuation is completely ignored\n",
        "        and always treated as a token separator).\n",
        "\n",
        "    max_df : float in range [0.0, 1.0] or int, optional, 1.0 by default\n",
        "        When building the vocabulary ignore terms that have a term frequency\n",
        "        strictly higher than the given threshold (corpus specific stop words).\n",
        "        If float, the parameter represents a proportion of documents, integer\n",
        "        absolute counts.\n",
        "        This parameter is ignored if vocabulary is not None.\n",
        "\n",
        "    min_df : float in range [0.0, 1.0] or int, optional, 1 by default\n",
        "        When building the vocabulary ignore terms that have a term frequency\n",
        "        strictly lower than the given threshold.\n",
        "        This value is also called cut-off in the literature.\n",
        "        If float, the parameter represents a proportion of documents, integer\n",
        "        absolute counts.\n",
        "        This parameter is ignored if vocabulary is not None.\n",
        "\n",
        "    max_features : optional, None by default\n",
        "        If not None, build a vocabulary that only consider the top\n",
        "        max_features ordered by term frequency across the corpus.\n",
        "\n",
        "        This parameter is ignored if vocabulary is not None.\n",
        "\n",
        "    vocabulary : Mapping or iterable, optional\n",
        "        Either a Mapping (e.g., a dict) where keys are terms and values are\n",
        "        indices in the feature matrix, or an iterable over terms. If not\n",
        "        given, a vocabulary is determined from the input documents.\n",
        "\n",
        "    binary : boolean, False by default.\n",
        "        If True, all non zero counts are set to 1. This is useful for discrete\n",
        "        probabilistic models that model binary events rather than integer\n",
        "        counts.\n",
        "\n",
        "    dtype : type, optional\n",
        "        Type of the matrix returned by fit_transform() or transform().\n",
        "\n",
        "    norm : 'l1', 'l2' or None, optional\n",
        "        Norm used to normalize term vectors. None for no normalization.\n",
        "\n",
        "    use_idf : boolean, optional\n",
        "        Enable inverse-document-frequency reweighting.\n",
        "\n",
        "    smooth_idf : boolean, optional\n",
        "        Smooth idf weights by adding one to document frequencies, as if an\n",
        "        extra document was seen containing every term in the collection\n",
        "        exactly once. Prevents zero divisions.\n",
        "\n",
        "    sublinear_tf : boolean, optional\n",
        "        Apply sublinear tf scaling, i.e. replace tf with 1 + log(tf).\n",
        "\n",
        "    See also\n",
        "    --------\n",
        "    CountVectorizer\n",
        "        Tokenize the documents and count the occurrences of token and return\n",
        "        them as a sparse matrix\n",
        "\n",
        "    TfidfTransformer\n",
        "        Apply Term Frequency Inverse Document Frequency normalization to a\n",
        "        sparse matrix of occurrence counts.\n",
        "\n",
        "    \n"
       ]
      }
     ],
     "prompt_number": 108
    },
    {
     "cell_type": "markdown",
     "metadata": {},
     "source": [
      "The easiest way to introspect what the vectorizer is actually doing for a given test of parameters is call the `vectorizer.build_analyzer()` to get an instance of the text analyzer it uses to process the text:"
     ]
    },
    {
     "cell_type": "code",
     "collapsed": false,
     "input": [
      "analyzer = TfidfVectorizer().build_analyzer()\n",
      "analyzer(\"I love scikit-learn: this is a cool Python lib!\")"
     ],
     "language": "python",
     "metadata": {},
     "outputs": [
      {
       "metadata": {},
       "output_type": "pyout",
       "prompt_number": 109,
       "text": [
        "[u'love', u'scikit', u'learn', u'this', u'is', u'cool', u'python', u'lib']"
       ]
      }
     ],
     "prompt_number": 109
    },
    {
     "cell_type": "markdown",
     "metadata": {},
     "source": [
      "You can notice that all the tokens are lowercase, that the single letter word \"I\" was dropped, and that hyphenation is used. Let's change some of that default behavior:"
     ]
    },
    {
     "cell_type": "code",
     "collapsed": false,
     "input": [
      "analyzer = TfidfVectorizer(\n",
      "    preprocessor=lambda text: text,  # disable lowercasing\n",
      "    token_pattern=ur'(?u)\\b[\\w-]+\\b', # treat hyphen as a letter\n",
      "                                      # do not exclude single letter tokens\n",
      ").build_analyzer()\n",
      "\n",
      "analyzer(\"I love scikit-learn: this is a cool Python lib!\")"
     ],
     "language": "python",
     "metadata": {},
     "outputs": [
      {
       "metadata": {},
       "output_type": "pyout",
       "prompt_number": 110,
       "text": [
        "[u'I',\n",
        " u'love',\n",
        " u'scikit-learn',\n",
        " u'this',\n",
        " u'is',\n",
        " u'a',\n",
        " u'cool',\n",
        " u'Python',\n",
        " u'lib']"
       ]
      }
     ],
     "prompt_number": 110
    },
    {
     "cell_type": "markdown",
     "metadata": {},
     "source": [
      "## References and further reading\n",
      "\n",
      "- Scikit-learn tutorial, http://scikit-learn.org/stable/tutorial/index.html#"
     ]
    },
    {
     "cell_type": "code",
     "collapsed": false,
     "input": [],
     "language": "python",
     "metadata": {},
     "outputs": []
    }
   ],
   "metadata": {}
  }
 ]
}